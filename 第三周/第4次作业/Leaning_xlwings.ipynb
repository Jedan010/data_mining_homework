{
 "cells": [
  {
   "cell_type": "markdown",
   "metadata": {},
   "source": [
    "# 学习xlwings "
   ]
  },
  {
   "cell_type": "markdown",
   "metadata": {},
   "source": [
    "### xlings 架构\n",
    "![](http://upload-images.jianshu.io/upload_images/2979196-4a2ab0baf9e26d67.png?imageMogr2/auto-orient/strip%7CimageView2/2)\n",
    "\n",
    "app指向excel程序，book指向excel工作簿（即excel文档），sheet指向excel文档中的工作表（sheet），range指向excel文档中的单元格"
   ]
  },
  {
   "cell_type": "markdown",
   "metadata": {},
   "source": [
    "## 打开、保存、关闭"
   ]
  },
  {
   "cell_type": "code",
   "execution_count": null,
   "metadata": {
    "collapsed": true
   },
   "outputs": [],
   "source": [
    "import xlwings as xw"
   ]
  },
  {
   "cell_type": "markdown",
   "metadata": {},
   "source": [
    "### 打开app"
   ]
  },
  {
   "cell_type": "code",
   "execution_count": null,
   "metadata": {
    "collapsed": true
   },
   "outputs": [],
   "source": [
    "# visible 控制 Excel 打开是否显示界面\n",
    "## app.add_book 控制是否添加新的 workbook\n",
    "## app.display_alerts 是否在excel展示变化\n",
    "app = xw.App(visible=True, add_book=False)"
   ]
  },
  {
   "cell_type": "markdown",
   "metadata": {},
   "source": [
    "### 打开工作簿"
   ]
  },
  {
   "cell_type": "code",
   "execution_count": null,
   "metadata": {
    "collapsed": true
   },
   "outputs": [],
   "source": [
    "###打开工作簿的时候如果没有指定app会自动创建一个app\n",
    "## 打开一个新的 workbook \n",
    "wb = xw.Book()\n",
    "## 打开当前目录已经存在的一个 workbook \n",
    "wb = xw.Book('FileName.xlsx')\n",
    "# 引用Excel程序中，当前的工作簿\n",
    "wb=xw.books.acitve"
   ]
  },
  {
   "cell_type": "markdown",
   "metadata": {},
   "source": [
    "### 打开 sheet"
   ]
  },
  {
   "cell_type": "code",
   "execution_count": null,
   "metadata": {
    "collapsed": true
   },
   "outputs": [],
   "source": [
    "## 打开第一个 sheet\n",
    "sheet = wb.sheets[0]\n",
    "## 打开名字为 \"Sheet1\" sheet\n",
    "sheet = wb.sheets[\"Sheet1\"]\n",
    "## 打开当前活动的 sheet\n",
    "sheet = wb.sheets.active\n",
    "\n",
    "# 新建sheet\n",
    "xw.sheets.add(name=None,before=None,after=None)"
   ]
  },
  {
   "cell_type": "markdown",
   "metadata": {},
   "source": [
    "### 保存、关闭、退出"
   ]
  },
  {
   "cell_type": "code",
   "execution_count": null,
   "metadata": {
    "collapsed": true
   },
   "outputs": [],
   "source": [
    "wb.save()\n",
    "#wb.save(path)\n",
    "wb.close()\n",
    "app.quit()"
   ]
  },
  {
   "cell_type": "markdown",
   "metadata": {},
   "source": [
    "## 读取数据"
   ]
  },
  {
   "cell_type": "markdown",
   "metadata": {},
   "source": [
    "### 读取单个值"
   ]
  },
  {
   "cell_type": "code",
   "execution_count": null,
   "metadata": {
    "collapsed": true
   },
   "outputs": [],
   "source": [
    "# 将A1的值，读取到a变量中\n",
    "a=sht.range('A1').value"
   ]
  },
  {
   "cell_type": "markdown",
   "metadata": {},
   "source": [
    "### 将值读取到列表中"
   ]
  },
  {
   "cell_type": "code",
   "execution_count": null,
   "metadata": {
    "collapsed": true
   },
   "outputs": [],
   "source": [
    "#将A1到A2的值，读取到a列表中\n",
    "a=sht.range('A1:A2').value\n",
    "# 将第一行和第二行的数据按二维数组的方式读取\n",
    "a=sht.range('A1:B2').value"
   ]
  },
  {
   "cell_type": "markdown",
   "metadata": {},
   "source": [
    "### 拓展"
   ]
  },
  {
   "cell_type": "code",
   "execution_count": null,
   "metadata": {
    "collapsed": true
   },
   "outputs": [],
   "source": [
    "#sht.range('NamedRange').expand().value\n",
    "sht.range('A1').expand('table')  # or just .expand()\n",
    "sht.range('A1').options(expand='table')"
   ]
  },
  {
   "cell_type": "markdown",
   "metadata": {},
   "source": [
    "## 写入数据"
   ]
  },
  {
   "cell_type": "markdown",
   "metadata": {},
   "source": [
    "### 写入单个单元格"
   ]
  },
  {
   "cell_type": "code",
   "execution_count": null,
   "metadata": {
    "collapsed": true
   },
   "outputs": [],
   "source": [
    "# 注意\".value“\n",
    "sht.range('A1').value=1"
   ]
  },
  {
   "cell_type": "markdown",
   "metadata": {},
   "source": [
    "### 写入列表"
   ]
  },
  {
   "cell_type": "code",
   "execution_count": null,
   "metadata": {
    "collapsed": true
   },
   "outputs": [],
   "source": [
    "# 将列表[1,2,3]储存在A1：C1中\n",
    "sht.range('A1').value=[1,2,3]\n",
    "# 将列表[1,2,3]储存在A1:A3中\n",
    "sht.range('A1').value=[[1],[2],[3]]\n",
    "##或者使用转换\n",
    "sht.range('A1').options(transpose=True).value=[1,2,3] \n",
    "\n",
    "# 将2x2表格，即二维数组，储存在A1:B2中，如第一行1，2，第二行3，4\n",
    "sht.range('A10').value = [['Foo 1', 'Foo 2', 'Foo 3'], [10, 20, 30]]\n",
    "sht.range('A1').options(expand='table')=[[1,2],[3,4]]\n"
   ]
  },
  {
   "cell_type": "markdown",
   "metadata": {},
   "source": [
    "### 写入numpy数据"
   ]
  },
  {
   "cell_type": "code",
   "execution_count": null,
   "metadata": {
    "collapsed": true
   },
   "outputs": [],
   "source": [
    "import pandas as pd\n",
    "# 写入numpy数据\n",
    "sht.range('A1').value = np.eye(3)\n",
    "\n",
    "# 读入numpy数据\n",
    "sht.range('A1').options(np.array, expand='table').value"
   ]
  },
  {
   "cell_type": "markdown",
   "metadata": {},
   "source": [
    "### 写入pandas数据"
   ]
  },
  {
   "cell_type": "code",
   "execution_count": null,
   "metadata": {
    "collapsed": true
   },
   "outputs": [],
   "source": [
    "import pandas as pd\n",
    "df = pd.DataFrame([[1.1, 2.2], [3.3, None]], columns=['one', 'two'])\n",
    "## 将DataFrame全部写入\n",
    "sht.range('A1').value = df\n",
    "## 忽略index和header\n",
    "sht.range('A9').options(index=False, header=False).value = df\n",
    "\n",
    "## 读入DataFrame\n",
    "sht.range('A1:C3').options(pd.DataFrame).value\n",
    "\n",
    "## 写入Series\n",
    "sht.range('A1').value = pd.Series([1.1, 3.3, 5., np.nan, 6., 8.], name='myseries')\n",
    "\n",
    "## 读入Series\n",
    "sht.range('A1:B7').options(pd.Series).value"
   ]
  },
  {
   "cell_type": "markdown",
   "metadata": {},
   "source": [
    "## 插入图片"
   ]
  },
  {
   "cell_type": "code",
   "execution_count": null,
   "metadata": {
    "collapsed": true
   },
   "outputs": [],
   "source": [
    "import matplotlib.pyplot as plt\n",
    "fig = plt.figure()\n",
    "plt.plot([1, 2, 3])\n",
    "\n",
    "## update开启后会根据定义的name更新图片\n",
    "sht.pictures.add(fig, name='MyPlot', update=True)\n",
    "\n",
    "##设定图片位置\n",
    "sht.pictures.add(fig, name='MyPlot', update=True, left=sht.range('B5').left, top=sht.range('B5').top)\n",
    "\n",
    "##设定图片大小\n",
    "sht.pictures.add(fig, name='MyPlot', update=True, height=10, width=10)"
   ]
  },
  {
   "cell_type": "code",
   "execution_count": null,
   "metadata": {
    "collapsed": true
   },
   "outputs": [],
   "source": [
    "## 通过PyPlot interface\n",
    "import matplotlib.pyplot as plt\n",
    "fig = plt.figure()\n",
    "plt.plot([1, 2, 3, 4, 5])\n",
    "\n",
    "## 通过pandas\n",
    "import pandas as pd\n",
    "import numpy as np\n",
    "df = pd.DataFrame(np.random.rand(10, 4), columns=['a', 'b', 'c', 'd'])\n",
    "ax = df.plot(kind='bar')\n",
    "fig = ax.get_figure()"
   ]
  },
  {
   "cell_type": "markdown",
   "metadata": {},
   "source": [
    "## 转换器"
   ]
  },
  {
   "cell_type": "markdown",
   "metadata": {},
   "source": [
    "### 默认转换器 Default Converter"
   ]
  },
  {
   "cell_type": "markdown",
   "metadata": {},
   "source": [
    "#### 维度ndim"
   ]
  },
  {
   "cell_type": "code",
   "execution_count": null,
   "metadata": {
    "collapsed": true
   },
   "outputs": [],
   "source": [
    "import xlwings as xw\n",
    "sht = xw.Book().sheets[0]\n",
    "sht.range('A1').value = [[1, 2], [3, 4]]\n",
    "sht.range('A1').value\n",
    "## 1.0\n",
    "\n",
    "sht.range('A1').options(ndim=1).value\n",
    "## [1.0]\n",
    "\n",
    "sht.range('A1').options(ndim=2).value\n",
    "## [[1.0]]\n",
    "\n",
    "sht.range('A1:A2').value\n",
    "## [1.0 3.0]\n",
    "\n",
    "sht.range('A1:A2').options(ndim=2).value\n",
    "## [[1.0], [3.0]]"
   ]
  },
  {
   "cell_type": "markdown",
   "metadata": {},
   "source": [
    "#### 数值"
   ]
  },
  {
   "cell_type": "code",
   "execution_count": null,
   "metadata": {
    "collapsed": true
   },
   "outputs": [],
   "source": [
    "sht.range('A1').value = 1\n",
    "sht.range('A1').value\n",
    "## 1.0\n",
    "\n",
    "sht.range('A1').options(numbers=int).value\n",
    "## 1"
   ]
  },
  {
   "cell_type": "markdown",
   "metadata": {},
   "source": [
    "#### 日期"
   ]
  },
  {
   "cell_type": "code",
   "execution_count": null,
   "metadata": {
    "collapsed": true
   },
   "outputs": [],
   "source": [
    "import datetime as dt\n",
    "sht.range('A1').options(dates=dt.date).value\n",
    "\n",
    "##or\n",
    "my_date_handler = lambda year, month, day, **kwargs: \"%04i-%02i-%02i\" % (year, month, day)\n",
    "sht.range('A1').options(dates=my_date_handler).value\n",
    "## '2017-02-20'"
   ]
  },
  {
   "cell_type": "markdown",
   "metadata": {},
   "source": [
    "#### 空值"
   ]
  },
  {
   "cell_type": "code",
   "execution_count": null,
   "metadata": {
    "collapsed": true
   },
   "outputs": [],
   "source": [
    "sht.range('A1').options(empty='NA').value"
   ]
  },
  {
   "cell_type": "markdown",
   "metadata": {},
   "source": [
    "#### 转置"
   ]
  },
  {
   "cell_type": "code",
   "execution_count": null,
   "metadata": {
    "collapsed": true
   },
   "outputs": [],
   "source": [
    "sht.range('A1').options(transpose=True).value = [1, 2, 3]"
   ]
  },
  {
   "cell_type": "markdown",
   "metadata": {},
   "source": [
    "#### 扩展expand"
   ]
  },
  {
   "cell_type": "code",
   "execution_count": null,
   "metadata": {
    "collapsed": true
   },
   "outputs": [],
   "source": [
    "## table, vertical and horizontal\n",
    "rng2 = sht.range('A1').options(expand='table')"
   ]
  },
  {
   "cell_type": "markdown",
   "metadata": {},
   "source": [
    "### 字典转换 Dictionary converter"
   ]
  },
  {
   "cell_type": "code",
   "execution_count": null,
   "metadata": {
    "collapsed": true
   },
   "outputs": [],
   "source": [
    "# [[a,1],[b,2]]\n",
    "sht.range('A1:B2').options(dict).value\n",
    "## {'a': 1.0, 'b': 2.0}\n",
    "\n",
    "# [[a,b],[1,2]]\n",
    "sht.range('A4:B5').options(dict, transpose=True).value\n",
    "{'a': 1.0, 'b': 2.0}"
   ]
  },
  {
   "cell_type": "markdown",
   "metadata": {},
   "source": [
    "### numpy转换 Numpy array converter\n",
    "> options: dtype=None, copy=True, order=None, ndim=None"
   ]
  },
  {
   "cell_type": "code",
   "execution_count": null,
   "metadata": {
    "collapsed": true
   },
   "outputs": [],
   "source": [
    "sht.range('A1').options(transpose=True).value = np.array([1, 2, 3])\n",
    "sht.range('A1:A3').options(np.array, ndim=2).value\n",
    "#array([[ 1.],\n",
    "#       [ 2.],\n",
    "#       [ 3.]])"
   ]
  },
  {
   "cell_type": "markdown",
   "metadata": {},
   "source": [
    "### pandas转换 \n",
    "\n",
    "\n",
    "> options: dtype=None, copy=False, index=1, header=True\n",
    "\n",
    "index: int or Boolean\n",
    "- 当读入的时候，index填入数值\n",
    "- 当写入的时候，index填True 或者 False\n",
    "- When reading, it expects the number of index columns shown in Excel.\n",
    "- When writing, include or exclude the index by setting it to True or False.\n"
   ]
  },
  {
   "cell_type": "code",
   "execution_count": null,
   "metadata": {
    "collapsed": true
   },
   "outputs": [],
   "source": [
    "## Series\n",
    "sht.range('A1').options(pd.Series, expand='table').value\n",
    "\n",
    "## DataFrame\n",
    "sht.range('A1:D5').options(pd.DataFrame, header=2).value"
   ]
  },
  {
   "cell_type": "markdown",
   "metadata": {},
   "source": [
    "## 常用函数和方法"
   ]
  },
  {
   "cell_type": "markdown",
   "metadata": {},
   "source": [
    "### sheet 常用的api"
   ]
  },
  {
   "cell_type": "code",
   "execution_count": null,
   "metadata": {
    "collapsed": true
   },
   "outputs": [],
   "source": [
    "# 引用某指定sheet\n",
    "sht=xw.books['工作簿名称'].sheets['sheet的名称']\n",
    "# 激活sheet为活动工作表\n",
    "sht.activate()\n",
    "# 清除sheet的内容和格式\n",
    "sht.clear()\n",
    "# 清除sheet的内容\n",
    "sht.contents()\n",
    "# 获取sheet的名称\n",
    "sht.name\n",
    "# 删除sheet\n",
    "sht.delete"
   ]
  },
  {
   "cell_type": "markdown",
   "metadata": {},
   "source": [
    "### range常用的api"
   ]
  },
  {
   "cell_type": "code",
   "execution_count": null,
   "metadata": {
    "collapsed": true
   },
   "outputs": [],
   "source": [
    "# 引用当前活动工作表的单元格\n",
    "rng=xw.Range('A1')\n",
    "# 设置range的颜色\n",
    "rng.color=(255,255,255)\n",
    "# 获取公式或者输入公式\n",
    "rng.formula='=SUM(B1:B5)'\n",
    "\n",
    "# range平移\n",
    "rng.offset(row_offset=0,column_offset=0)\n",
    "#range进行resize改变range的大小\n",
    "rng.resize(row_size=None,column_size=None)\n",
    "\n",
    "# 获得/设置列宽\n",
    "rng.column_width = 8\n",
    "# 获取/设置总宽度\n",
    "rng.width = 50\n",
    "# 行的高度，所有行一样高返回行高，不一样返回None\n",
    "rng.row_height\n",
    "# 返回range的总高度\n",
    "rng.height\n",
    "# 所有range的大小自适应\n",
    "rng.autofit()\n",
    "# 所有列宽度自适应\n",
    "rng.columns.autofit()\n",
    "# 所有行宽度自适应\n",
    "rng.rows.autofit()\n",
    "\n",
    "# 获得range中右下角最后一个单元格\n",
    "rng.last_cell\n",
    "\n",
    "rng.get_address()\n",
    "# 清除range的内容\n",
    "rng.clear_contents()\n",
    "# 清除格式和内容\n",
    "rng.clear()\n",
    "\n",
    "# 加入超链接\n",
    "# rng.add_hyperlink(r'www.baidu.com','百度',‘提示：点击即链接到百度')\n",
    "# 取得当前range的地址\n",
    "rng.address\n",
    "\n",
    "\n",
    "# 返回current_region\n",
    "rng.current_region\n",
    "# 返回ctrl + 方向\n",
    "rng.end('down')\n",
    "# 获取公式或者输入公式\n",
    "rng.formula='=SUM(B1:B5)'\n",
    "# 数组公式\n",
    "rng.formula_array\n",
    "# 获得单元格的绝对地址\n",
    "rng.get_address(row_absolute=True, column_absolute=True,include_sheetname=False, external=False)\n",
    "# 获得列宽\n",
    "rng.column_width\n",
    "# 返回range的总宽度\n",
    "rng.width\n",
    "# 获得range的超链z接\n",
    "rng.hyperlink\n",
    "# 获得range中右下角最后一个单元格\n",
    "rng.last_cell"
   ]
  }
 ],
 "metadata": {
  "kernelspec": {
   "display_name": "Python 3",
   "language": "python",
   "name": "python3"
  },
  "language_info": {
   "codemirror_mode": {
    "name": "ipython",
    "version": 3
   },
   "file_extension": ".py",
   "mimetype": "text/x-python",
   "name": "python",
   "nbconvert_exporter": "python",
   "pygments_lexer": "ipython3",
   "version": "3.6.2"
  },
  "toc": {
   "nav_menu": {
    "height": "387px",
    "width": "642px"
   },
   "number_sections": true,
   "sideBar": true,
   "skip_h1_title": false,
   "toc_cell": false,
   "toc_position": {},
   "toc_section_display": "block",
   "toc_window_display": false
  }
 },
 "nbformat": 4,
 "nbformat_minor": 2
}
