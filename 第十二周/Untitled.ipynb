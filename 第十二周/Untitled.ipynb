{
 "cells": [
  {
   "cell_type": "code",
   "execution_count": 1,
   "metadata": {},
   "outputs": [
    {
     "data": {
      "text/html": [
       "<div>\n",
       "<style>\n",
       "    .dataframe thead tr:only-child th {\n",
       "        text-align: right;\n",
       "    }\n",
       "\n",
       "    .dataframe thead th {\n",
       "        text-align: left;\n",
       "    }\n",
       "\n",
       "    .dataframe tbody tr th {\n",
       "        vertical-align: top;\n",
       "    }\n",
       "</style>\n",
       "<table border=\"1\" class=\"dataframe\">\n",
       "  <thead>\n",
       "    <tr style=\"text-align: right;\">\n",
       "      <th></th>\n",
       "      <th>净资产收益率%</th>\n",
       "      <th>总资产报酬率%</th>\n",
       "      <th>资产负债率%</th>\n",
       "      <th>总资产周转率</th>\n",
       "      <th>流动资产周转率</th>\n",
       "      <th>已获利息倍数</th>\n",
       "      <th>销售增长率%</th>\n",
       "      <th>资本积累率%</th>\n",
       "    </tr>\n",
       "    <tr>\n",
       "      <th>公司简称</th>\n",
       "      <th></th>\n",
       "      <th></th>\n",
       "      <th></th>\n",
       "      <th></th>\n",
       "      <th></th>\n",
       "      <th></th>\n",
       "      <th></th>\n",
       "      <th></th>\n",
       "    </tr>\n",
       "  </thead>\n",
       "  <tbody>\n",
       "    <tr>\n",
       "      <th>深能源Ａ</th>\n",
       "      <td>16.85</td>\n",
       "      <td>12.35</td>\n",
       "      <td>42.32</td>\n",
       "      <td>0.37</td>\n",
       "      <td>1.78</td>\n",
       "      <td>7.18</td>\n",
       "      <td>45.73</td>\n",
       "      <td>54.54</td>\n",
       "    </tr>\n",
       "    <tr>\n",
       "      <th>深南电Ａ</th>\n",
       "      <td>22.00</td>\n",
       "      <td>15.30</td>\n",
       "      <td>46.51</td>\n",
       "      <td>0.76</td>\n",
       "      <td>1.77</td>\n",
       "      <td>15.67</td>\n",
       "      <td>48.11</td>\n",
       "      <td>19.41</td>\n",
       "    </tr>\n",
       "    <tr>\n",
       "      <th>富龙热力</th>\n",
       "      <td>8.97</td>\n",
       "      <td>7.98</td>\n",
       "      <td>30.56</td>\n",
       "      <td>0.17</td>\n",
       "      <td>0.58</td>\n",
       "      <td>10.43</td>\n",
       "      <td>17.80</td>\n",
       "      <td>9.44</td>\n",
       "    </tr>\n",
       "    <tr>\n",
       "      <th>穗恒运Ａ</th>\n",
       "      <td>10.25</td>\n",
       "      <td>8.99</td>\n",
       "      <td>40.44</td>\n",
       "      <td>0.46</td>\n",
       "      <td>2.46</td>\n",
       "      <td>5.06</td>\n",
       "      <td>11.06</td>\n",
       "      <td>1.09</td>\n",
       "    </tr>\n",
       "    <tr>\n",
       "      <th>粤电力Ａ</th>\n",
       "      <td>20.81</td>\n",
       "      <td>20.00</td>\n",
       "      <td>35.87</td>\n",
       "      <td>0.43</td>\n",
       "      <td>1.25</td>\n",
       "      <td>34.89</td>\n",
       "      <td>24.77</td>\n",
       "      <td>12.67</td>\n",
       "    </tr>\n",
       "  </tbody>\n",
       "</table>\n",
       "</div>"
      ],
      "text/plain": [
       "      净资产收益率%  总资产报酬率%  资产负债率%  总资产周转率  流动资产周转率  已获利息倍数  销售增长率%  资本积累率%\n",
       "公司简称                                                                   \n",
       "深能源Ａ    16.85    12.35   42.32    0.37     1.78    7.18   45.73   54.54\n",
       "深南电Ａ    22.00    15.30   46.51    0.76     1.77   15.67   48.11   19.41\n",
       "富龙热力     8.97     7.98   30.56    0.17     0.58   10.43   17.80    9.44\n",
       "穗恒运Ａ    10.25     8.99   40.44    0.46     2.46    5.06   11.06    1.09\n",
       "粤电力Ａ    20.81    20.00   35.87    0.43     1.25   34.89   24.77   12.67"
      ]
     },
     "execution_count": 1,
     "metadata": {},
     "output_type": "execute_result"
    }
   ],
   "source": [
    "data = pd.read_excel('data.xlsx', index_col=1)\n",
    "data.drop('行业', axis=1, inplace=True)\n",
    "data.head()"
   ]
  },
  {
   "cell_type": "code",
   "execution_count": 2,
   "metadata": {
    "collapsed": true
   },
   "outputs": [],
   "source": [
    "X = data.values"
   ]
  },
  {
   "cell_type": "code",
   "execution_count": 4,
   "metadata": {},
   "outputs": [
    {
     "data": {
      "text/plain": [
       "PCA(copy=True, iterated_power='auto', n_components=8, random_state=None,\n",
       "  svd_solver='auto', tol=0.0, whiten=False)"
      ]
     },
     "execution_count": 4,
     "metadata": {},
     "output_type": "execute_result"
    }
   ],
   "source": [
    "from sklearn.decomposition import PCA\n",
    "pca = PCA(n_components = 8)\n",
    "pca.fit(X)"
   ]
  },
  {
   "cell_type": "code",
   "execution_count": 9,
   "metadata": {
    "collapsed": true
   },
   "outputs": [],
   "source": [
    "ex = pca.explained_variance_\n",
    "com = pca.components_\n",
    "y = pca.transform(X)"
   ]
  },
  {
   "cell_type": "code",
   "execution_count": 19,
   "metadata": {
    "collapsed": true
   },
   "outputs": [],
   "source": [
    "var = np.var(X, axis=0)"
   ]
  },
  {
   "cell_type": "code",
   "execution_count": 6,
   "metadata": {},
   "outputs": [
    {
     "data": {
      "text/plain": [
       "array([  1.58717274e+03,   4.56441006e+02,   1.67617386e+02,\n",
       "         6.00948693e+01,   1.80181051e+01,   1.73269734e+00,\n",
       "         2.15514205e-01,   5.03569338e-02])"
      ]
     },
     "execution_count": 6,
     "metadata": {},
     "output_type": "execute_result"
    }
   ],
   "source": [
    "ex"
   ]
  },
  {
   "cell_type": "code",
   "execution_count": 22,
   "metadata": {},
   "outputs": [
    {
     "data": {
      "text/plain": [
       "array([ 0.70877826,  0.31148886,  0.0361906 ,  0.11254832,  0.0532497 ,\n",
       "        0.010089  ,  0.01167639,  0.00307837])"
      ]
     },
     "execution_count": 22,
     "metadata": {},
     "output_type": "execute_result"
    }
   ],
   "source": [
    "com[0,:]*ex**0.5/var**0.5"
   ]
  },
  {
   "cell_type": "code",
   "execution_count": 15,
   "metadata": {},
   "outputs": [
    {
     "data": {
      "text/plain": [
       "[0.69857948371648082,\n",
       " 0.5724897650200873,\n",
       " 0.10976244816389616,\n",
       " 0.57008270951606588,\n",
       " 0.49258380062934648,\n",
       " 0.30095678270232967,\n",
       " 0.98761585675085262,\n",
       " 0.5386527202599809]"
      ]
     },
     "execution_count": 15,
     "metadata": {},
     "output_type": "execute_result"
    }
   ],
   "source": [
    "[np.corrcoef(y[:,0], X[:,i])[0,1] for i in range(8)]"
   ]
  },
  {
   "cell_type": "code",
   "execution_count": null,
   "metadata": {
    "collapsed": true
   },
   "outputs": [],
   "source": []
  }
 ],
 "metadata": {
  "kernelspec": {
   "display_name": "Python [conda root]",
   "language": "python",
   "name": "conda-root-py"
  },
  "language_info": {
   "codemirror_mode": {
    "name": "ipython",
    "version": 3
   },
   "file_extension": ".py",
   "mimetype": "text/x-python",
   "name": "python",
   "nbconvert_exporter": "python",
   "pygments_lexer": "ipython3",
   "version": "3.6.2"
  },
  "toc": {
   "nav_menu": {},
   "number_sections": true,
   "sideBar": true,
   "skip_h1_title": false,
   "toc_cell": false,
   "toc_position": {},
   "toc_section_display": "block",
   "toc_window_display": false
  },
  "varInspector": {
   "cols": {
    "lenName": 16,
    "lenType": 16,
    "lenVar": 40
   },
   "kernels_config": {
    "python": {
     "delete_cmd_postfix": "",
     "delete_cmd_prefix": "del ",
     "library": "var_list.py",
     "varRefreshCmd": "print(var_dic_list())"
    },
    "r": {
     "delete_cmd_postfix": ") ",
     "delete_cmd_prefix": "rm(",
     "library": "var_list.r",
     "varRefreshCmd": "cat(var_dic_list()) "
    }
   },
   "types_to_exclude": [
    "module",
    "function",
    "builtin_function_or_method",
    "instance",
    "_Feature"
   ],
   "window_display": false
  }
 },
 "nbformat": 4,
 "nbformat_minor": 2
}
