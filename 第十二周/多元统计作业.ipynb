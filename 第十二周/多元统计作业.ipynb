{
 "cells": [
  {
   "cell_type": "markdown",
   "metadata": {},
   "source": [
    "## 多元统计作业"
   ]
  },
  {
   "cell_type": "code",
   "execution_count": 1,
   "metadata": {
    "collapsed": true
   },
   "outputs": [],
   "source": [
    "import pandas as pd\n",
    "import numpy as np"
   ]
  },
  {
   "cell_type": "code",
   "execution_count": 2,
   "metadata": {},
   "outputs": [
    {
     "data": {
      "text/html": [
       "<div>\n",
       "<style>\n",
       "    .dataframe thead tr:only-child th {\n",
       "        text-align: right;\n",
       "    }\n",
       "\n",
       "    .dataframe thead th {\n",
       "        text-align: left;\n",
       "    }\n",
       "\n",
       "    .dataframe tbody tr th {\n",
       "        vertical-align: top;\n",
       "    }\n",
       "</style>\n",
       "<table border=\"1\" class=\"dataframe\">\n",
       "  <thead>\n",
       "    <tr style=\"text-align: right;\">\n",
       "      <th></th>\n",
       "      <th>净资产收益率%</th>\n",
       "      <th>总资产报酬率%</th>\n",
       "      <th>资产负债率%</th>\n",
       "      <th>总资产周转率</th>\n",
       "      <th>流动资产周转率</th>\n",
       "      <th>已获利息倍数</th>\n",
       "      <th>销售增长率%</th>\n",
       "      <th>资本积累率%</th>\n",
       "    </tr>\n",
       "    <tr>\n",
       "      <th>公司简称</th>\n",
       "      <th></th>\n",
       "      <th></th>\n",
       "      <th></th>\n",
       "      <th></th>\n",
       "      <th></th>\n",
       "      <th></th>\n",
       "      <th></th>\n",
       "      <th></th>\n",
       "    </tr>\n",
       "  </thead>\n",
       "  <tbody>\n",
       "    <tr>\n",
       "      <th>深能源Ａ</th>\n",
       "      <td>16.85</td>\n",
       "      <td>12.35</td>\n",
       "      <td>42.32</td>\n",
       "      <td>0.37</td>\n",
       "      <td>1.78</td>\n",
       "      <td>7.18</td>\n",
       "      <td>45.73</td>\n",
       "      <td>54.54</td>\n",
       "    </tr>\n",
       "    <tr>\n",
       "      <th>深南电Ａ</th>\n",
       "      <td>22.00</td>\n",
       "      <td>15.30</td>\n",
       "      <td>46.51</td>\n",
       "      <td>0.76</td>\n",
       "      <td>1.77</td>\n",
       "      <td>15.67</td>\n",
       "      <td>48.11</td>\n",
       "      <td>19.41</td>\n",
       "    </tr>\n",
       "    <tr>\n",
       "      <th>富龙热力</th>\n",
       "      <td>8.97</td>\n",
       "      <td>7.98</td>\n",
       "      <td>30.56</td>\n",
       "      <td>0.17</td>\n",
       "      <td>0.58</td>\n",
       "      <td>10.43</td>\n",
       "      <td>17.80</td>\n",
       "      <td>9.44</td>\n",
       "    </tr>\n",
       "    <tr>\n",
       "      <th>穗恒运Ａ</th>\n",
       "      <td>10.25</td>\n",
       "      <td>8.99</td>\n",
       "      <td>40.44</td>\n",
       "      <td>0.46</td>\n",
       "      <td>2.46</td>\n",
       "      <td>5.06</td>\n",
       "      <td>11.06</td>\n",
       "      <td>1.09</td>\n",
       "    </tr>\n",
       "    <tr>\n",
       "      <th>粤电力Ａ</th>\n",
       "      <td>20.81</td>\n",
       "      <td>20.00</td>\n",
       "      <td>35.87</td>\n",
       "      <td>0.43</td>\n",
       "      <td>1.25</td>\n",
       "      <td>34.89</td>\n",
       "      <td>24.77</td>\n",
       "      <td>12.67</td>\n",
       "    </tr>\n",
       "  </tbody>\n",
       "</table>\n",
       "</div>"
      ],
      "text/plain": [
       "      净资产收益率%  总资产报酬率%  资产负债率%  总资产周转率  流动资产周转率  已获利息倍数  销售增长率%  资本积累率%\n",
       "公司简称                                                                   \n",
       "深能源Ａ    16.85    12.35   42.32    0.37     1.78    7.18   45.73   54.54\n",
       "深南电Ａ    22.00    15.30   46.51    0.76     1.77   15.67   48.11   19.41\n",
       "富龙热力     8.97     7.98   30.56    0.17     0.58   10.43   17.80    9.44\n",
       "穗恒运Ａ    10.25     8.99   40.44    0.46     2.46    5.06   11.06    1.09\n",
       "粤电力Ａ    20.81    20.00   35.87    0.43     1.25   34.89   24.77   12.67"
      ]
     },
     "execution_count": 2,
     "metadata": {},
     "output_type": "execute_result"
    }
   ],
   "source": [
    "data = pd.read_excel('data.xlsx',index_col=1)\n",
    "data.drop('行业',axis=1, inplace=True)\n",
    "data.head()"
   ]
  },
  {
   "cell_type": "markdown",
   "metadata": {},
   "source": [
    "### 计算协方差矩阵"
   ]
  },
  {
   "cell_type": "code",
   "execution_count": 3,
   "metadata": {},
   "outputs": [
    {
     "data": {
      "text/html": [
       "<div>\n",
       "<style>\n",
       "    .dataframe thead tr:only-child th {\n",
       "        text-align: right;\n",
       "    }\n",
       "\n",
       "    .dataframe thead th {\n",
       "        text-align: left;\n",
       "    }\n",
       "\n",
       "    .dataframe tbody tr th {\n",
       "        vertical-align: top;\n",
       "    }\n",
       "</style>\n",
       "<table border=\"1\" class=\"dataframe\">\n",
       "  <thead>\n",
       "    <tr style=\"text-align: right;\">\n",
       "      <th></th>\n",
       "      <th>净资产收益率%</th>\n",
       "      <th>总资产报酬率%</th>\n",
       "      <th>资产负债率%</th>\n",
       "      <th>总资产周转率</th>\n",
       "      <th>流动资产周转率</th>\n",
       "      <th>已获利息倍数</th>\n",
       "      <th>销售增长率%</th>\n",
       "      <th>资本积累率%</th>\n",
       "    </tr>\n",
       "  </thead>\n",
       "  <tbody>\n",
       "    <tr>\n",
       "      <th>净资产收益率%</th>\n",
       "      <td>45.000089</td>\n",
       "      <td>26.121776</td>\n",
       "      <td>5.541207</td>\n",
       "      <td>2.106240</td>\n",
       "      <td>3.295776</td>\n",
       "      <td>29.274956</td>\n",
       "      <td>166.076553</td>\n",
       "      <td>71.188934</td>\n",
       "    </tr>\n",
       "    <tr>\n",
       "      <th>总资产报酬率%</th>\n",
       "      <td>26.121776</td>\n",
       "      <td>19.085029</td>\n",
       "      <td>-10.504968</td>\n",
       "      <td>1.140290</td>\n",
       "      <td>2.105428</td>\n",
       "      <td>24.454818</td>\n",
       "      <td>87.794743</td>\n",
       "      <td>38.735140</td>\n",
       "    </tr>\n",
       "    <tr>\n",
       "      <th>资产负债率%</th>\n",
       "      <td>5.541207</td>\n",
       "      <td>-10.504968</td>\n",
       "      <td>231.037089</td>\n",
       "      <td>0.993063</td>\n",
       "      <td>-0.447052</td>\n",
       "      <td>-52.063364</td>\n",
       "      <td>93.004668</td>\n",
       "      <td>-93.271886</td>\n",
       "    </tr>\n",
       "    <tr>\n",
       "      <th>总资产周转率</th>\n",
       "      <td>2.106240</td>\n",
       "      <td>1.140290</td>\n",
       "      <td>0.993063</td>\n",
       "      <td>0.208253</td>\n",
       "      <td>0.243159</td>\n",
       "      <td>0.544810</td>\n",
       "      <td>9.500352</td>\n",
       "      <td>3.410664</td>\n",
       "    </tr>\n",
       "    <tr>\n",
       "      <th>流动资产周转率</th>\n",
       "      <td>3.295776</td>\n",
       "      <td>2.105428</td>\n",
       "      <td>-0.447052</td>\n",
       "      <td>0.243159</td>\n",
       "      <td>0.463779</td>\n",
       "      <td>1.559520</td>\n",
       "      <td>11.715595</td>\n",
       "      <td>5.793557</td>\n",
       "    </tr>\n",
       "    <tr>\n",
       "      <th>已获利息倍数</th>\n",
       "      <td>29.274956</td>\n",
       "      <td>24.454818</td>\n",
       "      <td>-52.063364</td>\n",
       "      <td>0.544810</td>\n",
       "      <td>1.559520</td>\n",
       "      <td>70.951536</td>\n",
       "      <td>72.885000</td>\n",
       "      <td>84.380773</td>\n",
       "    </tr>\n",
       "    <tr>\n",
       "      <th>销售增长率%</th>\n",
       "      <td>166.076553</td>\n",
       "      <td>87.794743</td>\n",
       "      <td>93.004668</td>\n",
       "      <td>9.500352</td>\n",
       "      <td>11.715595</td>\n",
       "      <td>72.885000</td>\n",
       "      <td>1446.433118</td>\n",
       "      <td>334.684011</td>\n",
       "    </tr>\n",
       "    <tr>\n",
       "      <th>资本积累率%</th>\n",
       "      <td>71.188934</td>\n",
       "      <td>38.735140</td>\n",
       "      <td>-93.271886</td>\n",
       "      <td>3.410664</td>\n",
       "      <td>5.793557</td>\n",
       "      <td>84.380773</td>\n",
       "      <td>334.684011</td>\n",
       "      <td>478.163784</td>\n",
       "    </tr>\n",
       "  </tbody>\n",
       "</table>\n",
       "</div>"
      ],
      "text/plain": [
       "            净资产收益率%    总资产报酬率%      资产负债率%    总资产周转率    流动资产周转率     已获利息倍数  \\\n",
       "净资产收益率%   45.000089  26.121776    5.541207  2.106240   3.295776  29.274956   \n",
       "总资产报酬率%   26.121776  19.085029  -10.504968  1.140290   2.105428  24.454818   \n",
       "资产负债率%     5.541207 -10.504968  231.037089  0.993063  -0.447052 -52.063364   \n",
       "总资产周转率     2.106240   1.140290    0.993063  0.208253   0.243159   0.544810   \n",
       "流动资产周转率    3.295776   2.105428   -0.447052  0.243159   0.463779   1.559520   \n",
       "已获利息倍数    29.274956  24.454818  -52.063364  0.544810   1.559520  70.951536   \n",
       "销售增长率%   166.076553  87.794743   93.004668  9.500352  11.715595  72.885000   \n",
       "资本积累率%    71.188934  38.735140  -93.271886  3.410664   5.793557  84.380773   \n",
       "\n",
       "              销售增长率%      资本积累率%  \n",
       "净资产收益率%   166.076553   71.188934  \n",
       "总资产报酬率%    87.794743   38.735140  \n",
       "资产负债率%     93.004668  -93.271886  \n",
       "总资产周转率      9.500352    3.410664  \n",
       "流动资产周转率    11.715595    5.793557  \n",
       "已获利息倍数     72.885000   84.380773  \n",
       "销售增长率%   1446.433118  334.684011  \n",
       "资本积累率%    334.684011  478.163784  "
      ]
     },
     "execution_count": 3,
     "metadata": {},
     "output_type": "execute_result"
    }
   ],
   "source": [
    "## 协方差矩阵\n",
    "data.cov()"
   ]
  },
  {
   "cell_type": "markdown",
   "metadata": {},
   "source": [
    "### 证明: $E(X'AX) = tr(A\\Sigma) + \\mu'A\\mu$"
   ]
  },
  {
   "cell_type": "code",
   "execution_count": 4,
   "metadata": {
    "collapsed": true
   },
   "outputs": [],
   "source": [
    "np.random.seed(0)\n",
    "A = np.random.random(size=[data.shape[1], data.shape[1]])\n",
    "Sigma = data.cov()\n",
    "mu = np.mean(data.values, axis=0)"
   ]
  },
  {
   "cell_type": "markdown",
   "metadata": {},
   "source": [
    "$ tr(A\\Sigma) + \\mu'A\\mu$"
   ]
  },
  {
   "cell_type": "code",
   "execution_count": 5,
   "metadata": {},
   "outputs": [
    {
     "data": {
      "text/plain": [
       "7529.9599142114494"
      ]
     },
     "execution_count": 5,
     "metadata": {},
     "output_type": "execute_result"
    }
   ],
   "source": [
    "np.trace(np.dot(A, Sigma)) + np.dot(np.dot(mu,A),mu)"
   ]
  },
  {
   "cell_type": "markdown",
   "metadata": {},
   "source": [
    "$E(X'AX)$"
   ]
  },
  {
   "cell_type": "code",
   "execution_count": 6,
   "metadata": {},
   "outputs": [
    {
     "data": {
      "text/plain": [
       "7493.5434644253855"
      ]
     },
     "execution_count": 6,
     "metadata": {},
     "output_type": "execute_result"
    }
   ],
   "source": [
    "a = 0\n",
    "for i in range(data.shape[0]):\n",
    "    a += np.dot(np.dot(data.iloc[i,:], A), data.iloc[i,:].T)\n",
    "a = a / data.shape[0]\n",
    "a"
   ]
  },
  {
   "cell_type": "code",
   "execution_count": 7,
   "metadata": {},
   "outputs": [
    {
     "data": {
      "text/plain": [
       "6255.3841716991619"
      ]
     },
     "execution_count": 7,
     "metadata": {},
     "output_type": "execute_result"
    }
   ],
   "source": [
    "np.mean(np.dot(np.dot(data, A), data.T))"
   ]
  },
  {
   "cell_type": "markdown",
   "metadata": {},
   "source": []
  },
  {
   "cell_type": "markdown",
   "metadata": {},
   "source": [
    "### 求相关矩阵"
   ]
  },
  {
   "cell_type": "code",
   "execution_count": 8,
   "metadata": {},
   "outputs": [
    {
     "data": {
      "text/html": [
       "<div>\n",
       "<style>\n",
       "    .dataframe thead tr:only-child th {\n",
       "        text-align: right;\n",
       "    }\n",
       "\n",
       "    .dataframe thead th {\n",
       "        text-align: left;\n",
       "    }\n",
       "\n",
       "    .dataframe tbody tr th {\n",
       "        vertical-align: top;\n",
       "    }\n",
       "</style>\n",
       "<table border=\"1\" class=\"dataframe\">\n",
       "  <thead>\n",
       "    <tr style=\"text-align: right;\">\n",
       "      <th></th>\n",
       "      <th>净资产收益率%</th>\n",
       "      <th>总资产报酬率%</th>\n",
       "      <th>资产负债率%</th>\n",
       "      <th>总资产周转率</th>\n",
       "      <th>流动资产周转率</th>\n",
       "      <th>已获利息倍数</th>\n",
       "      <th>销售增长率%</th>\n",
       "      <th>资本积累率%</th>\n",
       "    </tr>\n",
       "  </thead>\n",
       "  <tbody>\n",
       "    <tr>\n",
       "      <th>净资产收益率%</th>\n",
       "      <td>1.000000</td>\n",
       "      <td>0.891353</td>\n",
       "      <td>0.054345</td>\n",
       "      <td>0.688028</td>\n",
       "      <td>0.721432</td>\n",
       "      <td>0.518094</td>\n",
       "      <td>0.650957</td>\n",
       "      <td>0.485308</td>\n",
       "    </tr>\n",
       "    <tr>\n",
       "      <th>总资产报酬率%</th>\n",
       "      <td>0.891353</td>\n",
       "      <td>1.000000</td>\n",
       "      <td>-0.158200</td>\n",
       "      <td>0.571971</td>\n",
       "      <td>0.707682</td>\n",
       "      <td>0.664564</td>\n",
       "      <td>0.528412</td>\n",
       "      <td>0.405481</td>\n",
       "    </tr>\n",
       "    <tr>\n",
       "      <th>资产负债率%</th>\n",
       "      <td>0.054345</td>\n",
       "      <td>-0.158200</td>\n",
       "      <td>1.000000</td>\n",
       "      <td>0.143166</td>\n",
       "      <td>-0.043188</td>\n",
       "      <td>-0.406640</td>\n",
       "      <td>0.160885</td>\n",
       "      <td>-0.280622</td>\n",
       "    </tr>\n",
       "    <tr>\n",
       "      <th>总资产周转率</th>\n",
       "      <td>0.688028</td>\n",
       "      <td>0.571971</td>\n",
       "      <td>0.143166</td>\n",
       "      <td>1.000000</td>\n",
       "      <td>0.782419</td>\n",
       "      <td>0.141732</td>\n",
       "      <td>0.547388</td>\n",
       "      <td>0.341787</td>\n",
       "    </tr>\n",
       "    <tr>\n",
       "      <th>流动资产周转率</th>\n",
       "      <td>0.721432</td>\n",
       "      <td>0.707682</td>\n",
       "      <td>-0.043188</td>\n",
       "      <td>0.782419</td>\n",
       "      <td>1.000000</td>\n",
       "      <td>0.271866</td>\n",
       "      <td>0.452334</td>\n",
       "      <td>0.389046</td>\n",
       "    </tr>\n",
       "    <tr>\n",
       "      <th>已获利息倍数</th>\n",
       "      <td>0.518094</td>\n",
       "      <td>0.664564</td>\n",
       "      <td>-0.406640</td>\n",
       "      <td>0.141732</td>\n",
       "      <td>0.271866</td>\n",
       "      <td>1.000000</td>\n",
       "      <td>0.227514</td>\n",
       "      <td>0.458115</td>\n",
       "    </tr>\n",
       "    <tr>\n",
       "      <th>销售增长率%</th>\n",
       "      <td>0.650957</td>\n",
       "      <td>0.528412</td>\n",
       "      <td>0.160885</td>\n",
       "      <td>0.547388</td>\n",
       "      <td>0.452334</td>\n",
       "      <td>0.227514</td>\n",
       "      <td>1.000000</td>\n",
       "      <td>0.402437</td>\n",
       "    </tr>\n",
       "    <tr>\n",
       "      <th>资本积累率%</th>\n",
       "      <td>0.485308</td>\n",
       "      <td>0.405481</td>\n",
       "      <td>-0.280622</td>\n",
       "      <td>0.341787</td>\n",
       "      <td>0.389046</td>\n",
       "      <td>0.458115</td>\n",
       "      <td>0.402437</td>\n",
       "      <td>1.000000</td>\n",
       "    </tr>\n",
       "  </tbody>\n",
       "</table>\n",
       "</div>"
      ],
      "text/plain": [
       "          净资产收益率%   总资产报酬率%    资产负债率%    总资产周转率   流动资产周转率    已获利息倍数    销售增长率%  \\\n",
       "净资产收益率%  1.000000  0.891353  0.054345  0.688028  0.721432  0.518094  0.650957   \n",
       "总资产报酬率%  0.891353  1.000000 -0.158200  0.571971  0.707682  0.664564  0.528412   \n",
       "资产负债率%   0.054345 -0.158200  1.000000  0.143166 -0.043188 -0.406640  0.160885   \n",
       "总资产周转率   0.688028  0.571971  0.143166  1.000000  0.782419  0.141732  0.547388   \n",
       "流动资产周转率  0.721432  0.707682 -0.043188  0.782419  1.000000  0.271866  0.452334   \n",
       "已获利息倍数   0.518094  0.664564 -0.406640  0.141732  0.271866  1.000000  0.227514   \n",
       "销售增长率%   0.650957  0.528412  0.160885  0.547388  0.452334  0.227514  1.000000   \n",
       "资本积累率%   0.485308  0.405481 -0.280622  0.341787  0.389046  0.458115  0.402437   \n",
       "\n",
       "           资本积累率%  \n",
       "净资产收益率%  0.485308  \n",
       "总资产报酬率%  0.405481  \n",
       "资产负债率%  -0.280622  \n",
       "总资产周转率   0.341787  \n",
       "流动资产周转率  0.389046  \n",
       "已获利息倍数   0.458115  \n",
       "销售增长率%   0.402437  \n",
       "资本积累率%   1.000000  "
      ]
     },
     "execution_count": 8,
     "metadata": {},
     "output_type": "execute_result"
    }
   ],
   "source": [
    "data.corr()"
   ]
  },
  {
   "cell_type": "markdown",
   "metadata": {},
   "source": [
    "### 标准化后矩阵的协方差为原来矩阵的相关系数"
   ]
  },
  {
   "cell_type": "code",
   "execution_count": 9,
   "metadata": {
    "collapsed": true
   },
   "outputs": [],
   "source": [
    "## 标准化\n",
    "data2 = (data - data.mean()) / data.std()"
   ]
  },
  {
   "cell_type": "code",
   "execution_count": 10,
   "metadata": {},
   "outputs": [
    {
     "data": {
      "text/html": [
       "<div>\n",
       "<style>\n",
       "    .dataframe thead tr:only-child th {\n",
       "        text-align: right;\n",
       "    }\n",
       "\n",
       "    .dataframe thead th {\n",
       "        text-align: left;\n",
       "    }\n",
       "\n",
       "    .dataframe tbody tr th {\n",
       "        vertical-align: top;\n",
       "    }\n",
       "</style>\n",
       "<table border=\"1\" class=\"dataframe\">\n",
       "  <thead>\n",
       "    <tr style=\"text-align: right;\">\n",
       "      <th></th>\n",
       "      <th>净资产收益率%</th>\n",
       "      <th>总资产报酬率%</th>\n",
       "      <th>资产负债率%</th>\n",
       "      <th>总资产周转率</th>\n",
       "      <th>流动资产周转率</th>\n",
       "      <th>已获利息倍数</th>\n",
       "      <th>销售增长率%</th>\n",
       "      <th>资本积累率%</th>\n",
       "    </tr>\n",
       "  </thead>\n",
       "  <tbody>\n",
       "    <tr>\n",
       "      <th>净资产收益率%</th>\n",
       "      <td>1.000000</td>\n",
       "      <td>0.891353</td>\n",
       "      <td>0.054345</td>\n",
       "      <td>0.688028</td>\n",
       "      <td>0.721432</td>\n",
       "      <td>0.518094</td>\n",
       "      <td>0.650957</td>\n",
       "      <td>0.485308</td>\n",
       "    </tr>\n",
       "    <tr>\n",
       "      <th>总资产报酬率%</th>\n",
       "      <td>0.891353</td>\n",
       "      <td>1.000000</td>\n",
       "      <td>-0.158200</td>\n",
       "      <td>0.571971</td>\n",
       "      <td>0.707682</td>\n",
       "      <td>0.664564</td>\n",
       "      <td>0.528412</td>\n",
       "      <td>0.405481</td>\n",
       "    </tr>\n",
       "    <tr>\n",
       "      <th>资产负债率%</th>\n",
       "      <td>0.054345</td>\n",
       "      <td>-0.158200</td>\n",
       "      <td>1.000000</td>\n",
       "      <td>0.143166</td>\n",
       "      <td>-0.043188</td>\n",
       "      <td>-0.406640</td>\n",
       "      <td>0.160885</td>\n",
       "      <td>-0.280622</td>\n",
       "    </tr>\n",
       "    <tr>\n",
       "      <th>总资产周转率</th>\n",
       "      <td>0.688028</td>\n",
       "      <td>0.571971</td>\n",
       "      <td>0.143166</td>\n",
       "      <td>1.000000</td>\n",
       "      <td>0.782419</td>\n",
       "      <td>0.141732</td>\n",
       "      <td>0.547388</td>\n",
       "      <td>0.341787</td>\n",
       "    </tr>\n",
       "    <tr>\n",
       "      <th>流动资产周转率</th>\n",
       "      <td>0.721432</td>\n",
       "      <td>0.707682</td>\n",
       "      <td>-0.043188</td>\n",
       "      <td>0.782419</td>\n",
       "      <td>1.000000</td>\n",
       "      <td>0.271866</td>\n",
       "      <td>0.452334</td>\n",
       "      <td>0.389046</td>\n",
       "    </tr>\n",
       "    <tr>\n",
       "      <th>已获利息倍数</th>\n",
       "      <td>0.518094</td>\n",
       "      <td>0.664564</td>\n",
       "      <td>-0.406640</td>\n",
       "      <td>0.141732</td>\n",
       "      <td>0.271866</td>\n",
       "      <td>1.000000</td>\n",
       "      <td>0.227514</td>\n",
       "      <td>0.458115</td>\n",
       "    </tr>\n",
       "    <tr>\n",
       "      <th>销售增长率%</th>\n",
       "      <td>0.650957</td>\n",
       "      <td>0.528412</td>\n",
       "      <td>0.160885</td>\n",
       "      <td>0.547388</td>\n",
       "      <td>0.452334</td>\n",
       "      <td>0.227514</td>\n",
       "      <td>1.000000</td>\n",
       "      <td>0.402437</td>\n",
       "    </tr>\n",
       "    <tr>\n",
       "      <th>资本积累率%</th>\n",
       "      <td>0.485308</td>\n",
       "      <td>0.405481</td>\n",
       "      <td>-0.280622</td>\n",
       "      <td>0.341787</td>\n",
       "      <td>0.389046</td>\n",
       "      <td>0.458115</td>\n",
       "      <td>0.402437</td>\n",
       "      <td>1.000000</td>\n",
       "    </tr>\n",
       "  </tbody>\n",
       "</table>\n",
       "</div>"
      ],
      "text/plain": [
       "          净资产收益率%   总资产报酬率%    资产负债率%    总资产周转率   流动资产周转率    已获利息倍数    销售增长率%  \\\n",
       "净资产收益率%  1.000000  0.891353  0.054345  0.688028  0.721432  0.518094  0.650957   \n",
       "总资产报酬率%  0.891353  1.000000 -0.158200  0.571971  0.707682  0.664564  0.528412   \n",
       "资产负债率%   0.054345 -0.158200  1.000000  0.143166 -0.043188 -0.406640  0.160885   \n",
       "总资产周转率   0.688028  0.571971  0.143166  1.000000  0.782419  0.141732  0.547388   \n",
       "流动资产周转率  0.721432  0.707682 -0.043188  0.782419  1.000000  0.271866  0.452334   \n",
       "已获利息倍数   0.518094  0.664564 -0.406640  0.141732  0.271866  1.000000  0.227514   \n",
       "销售增长率%   0.650957  0.528412  0.160885  0.547388  0.452334  0.227514  1.000000   \n",
       "资本积累率%   0.485308  0.405481 -0.280622  0.341787  0.389046  0.458115  0.402437   \n",
       "\n",
       "           资本积累率%  \n",
       "净资产收益率%  0.485308  \n",
       "总资产报酬率%  0.405481  \n",
       "资产负债率%  -0.280622  \n",
       "总资产周转率   0.341787  \n",
       "流动资产周转率  0.389046  \n",
       "已获利息倍数   0.458115  \n",
       "销售增长率%   0.402437  \n",
       "资本积累率%   1.000000  "
      ]
     },
     "execution_count": 10,
     "metadata": {},
     "output_type": "execute_result"
    }
   ],
   "source": [
    "## 标准化后的协方差\n",
    "data2.cov()"
   ]
  },
  {
   "cell_type": "code",
   "execution_count": 11,
   "metadata": {},
   "outputs": [
    {
     "data": {
      "text/html": [
       "<div>\n",
       "<style>\n",
       "    .dataframe thead tr:only-child th {\n",
       "        text-align: right;\n",
       "    }\n",
       "\n",
       "    .dataframe thead th {\n",
       "        text-align: left;\n",
       "    }\n",
       "\n",
       "    .dataframe tbody tr th {\n",
       "        vertical-align: top;\n",
       "    }\n",
       "</style>\n",
       "<table border=\"1\" class=\"dataframe\">\n",
       "  <thead>\n",
       "    <tr style=\"text-align: right;\">\n",
       "      <th></th>\n",
       "      <th>净资产收益率%</th>\n",
       "      <th>总资产报酬率%</th>\n",
       "      <th>资产负债率%</th>\n",
       "      <th>总资产周转率</th>\n",
       "      <th>流动资产周转率</th>\n",
       "      <th>已获利息倍数</th>\n",
       "      <th>销售增长率%</th>\n",
       "      <th>资本积累率%</th>\n",
       "    </tr>\n",
       "  </thead>\n",
       "  <tbody>\n",
       "    <tr>\n",
       "      <th>净资产收益率%</th>\n",
       "      <td>1.000000</td>\n",
       "      <td>0.891353</td>\n",
       "      <td>0.054345</td>\n",
       "      <td>0.688028</td>\n",
       "      <td>0.721432</td>\n",
       "      <td>0.518094</td>\n",
       "      <td>0.650957</td>\n",
       "      <td>0.485308</td>\n",
       "    </tr>\n",
       "    <tr>\n",
       "      <th>总资产报酬率%</th>\n",
       "      <td>0.891353</td>\n",
       "      <td>1.000000</td>\n",
       "      <td>-0.158200</td>\n",
       "      <td>0.571971</td>\n",
       "      <td>0.707682</td>\n",
       "      <td>0.664564</td>\n",
       "      <td>0.528412</td>\n",
       "      <td>0.405481</td>\n",
       "    </tr>\n",
       "    <tr>\n",
       "      <th>资产负债率%</th>\n",
       "      <td>0.054345</td>\n",
       "      <td>-0.158200</td>\n",
       "      <td>1.000000</td>\n",
       "      <td>0.143166</td>\n",
       "      <td>-0.043188</td>\n",
       "      <td>-0.406640</td>\n",
       "      <td>0.160885</td>\n",
       "      <td>-0.280622</td>\n",
       "    </tr>\n",
       "    <tr>\n",
       "      <th>总资产周转率</th>\n",
       "      <td>0.688028</td>\n",
       "      <td>0.571971</td>\n",
       "      <td>0.143166</td>\n",
       "      <td>1.000000</td>\n",
       "      <td>0.782419</td>\n",
       "      <td>0.141732</td>\n",
       "      <td>0.547388</td>\n",
       "      <td>0.341787</td>\n",
       "    </tr>\n",
       "    <tr>\n",
       "      <th>流动资产周转率</th>\n",
       "      <td>0.721432</td>\n",
       "      <td>0.707682</td>\n",
       "      <td>-0.043188</td>\n",
       "      <td>0.782419</td>\n",
       "      <td>1.000000</td>\n",
       "      <td>0.271866</td>\n",
       "      <td>0.452334</td>\n",
       "      <td>0.389046</td>\n",
       "    </tr>\n",
       "    <tr>\n",
       "      <th>已获利息倍数</th>\n",
       "      <td>0.518094</td>\n",
       "      <td>0.664564</td>\n",
       "      <td>-0.406640</td>\n",
       "      <td>0.141732</td>\n",
       "      <td>0.271866</td>\n",
       "      <td>1.000000</td>\n",
       "      <td>0.227514</td>\n",
       "      <td>0.458115</td>\n",
       "    </tr>\n",
       "    <tr>\n",
       "      <th>销售增长率%</th>\n",
       "      <td>0.650957</td>\n",
       "      <td>0.528412</td>\n",
       "      <td>0.160885</td>\n",
       "      <td>0.547388</td>\n",
       "      <td>0.452334</td>\n",
       "      <td>0.227514</td>\n",
       "      <td>1.000000</td>\n",
       "      <td>0.402437</td>\n",
       "    </tr>\n",
       "    <tr>\n",
       "      <th>资本积累率%</th>\n",
       "      <td>0.485308</td>\n",
       "      <td>0.405481</td>\n",
       "      <td>-0.280622</td>\n",
       "      <td>0.341787</td>\n",
       "      <td>0.389046</td>\n",
       "      <td>0.458115</td>\n",
       "      <td>0.402437</td>\n",
       "      <td>1.000000</td>\n",
       "    </tr>\n",
       "  </tbody>\n",
       "</table>\n",
       "</div>"
      ],
      "text/plain": [
       "          净资产收益率%   总资产报酬率%    资产负债率%    总资产周转率   流动资产周转率    已获利息倍数    销售增长率%  \\\n",
       "净资产收益率%  1.000000  0.891353  0.054345  0.688028  0.721432  0.518094  0.650957   \n",
       "总资产报酬率%  0.891353  1.000000 -0.158200  0.571971  0.707682  0.664564  0.528412   \n",
       "资产负债率%   0.054345 -0.158200  1.000000  0.143166 -0.043188 -0.406640  0.160885   \n",
       "总资产周转率   0.688028  0.571971  0.143166  1.000000  0.782419  0.141732  0.547388   \n",
       "流动资产周转率  0.721432  0.707682 -0.043188  0.782419  1.000000  0.271866  0.452334   \n",
       "已获利息倍数   0.518094  0.664564 -0.406640  0.141732  0.271866  1.000000  0.227514   \n",
       "销售增长率%   0.650957  0.528412  0.160885  0.547388  0.452334  0.227514  1.000000   \n",
       "资本积累率%   0.485308  0.405481 -0.280622  0.341787  0.389046  0.458115  0.402437   \n",
       "\n",
       "           资本积累率%  \n",
       "净资产收益率%  0.485308  \n",
       "总资产报酬率%  0.405481  \n",
       "资产负债率%  -0.280622  \n",
       "总资产周转率   0.341787  \n",
       "流动资产周转率  0.389046  \n",
       "已获利息倍数   0.458115  \n",
       "销售增长率%   0.402437  \n",
       "资本积累率%   1.000000  "
      ]
     },
     "execution_count": 11,
     "metadata": {},
     "output_type": "execute_result"
    }
   ],
   "source": [
    "## 原来的相关系数\n",
    "data.corr()"
   ]
  },
  {
   "cell_type": "markdown",
   "metadata": {},
   "source": [
    "### 马氏距离"
   ]
  },
  {
   "cell_type": "markdown",
   "metadata": {},
   "source": [
    "#### 点到点的马氏距离"
   ]
  },
  {
   "cell_type": "code",
   "execution_count": 12,
   "metadata": {
    "collapsed": true
   },
   "outputs": [],
   "source": [
    "from scipy.spatial import distance"
   ]
  },
  {
   "cell_type": "code",
   "execution_count": 13,
   "metadata": {
    "scrolled": true
   },
   "outputs": [
    {
     "data": {
      "text/plain": [
       "3.3545424558841019"
      ]
     },
     "execution_count": 13,
     "metadata": {},
     "output_type": "execute_result"
    }
   ],
   "source": [
    "## 计算第一个点\n",
    "dis_one = distance.mahalanobis(data.iloc[0], data.iloc[1],np.linalg.inv(data.cov()))\n",
    "dis_one"
   ]
  },
  {
   "cell_type": "code",
   "execution_count": 14,
   "metadata": {
    "scrolled": false
   },
   "outputs": [
    {
     "data": {
      "text/html": [
       "<div>\n",
       "<style>\n",
       "    .dataframe thead tr:only-child th {\n",
       "        text-align: right;\n",
       "    }\n",
       "\n",
       "    .dataframe thead th {\n",
       "        text-align: left;\n",
       "    }\n",
       "\n",
       "    .dataframe tbody tr th {\n",
       "        vertical-align: top;\n",
       "    }\n",
       "</style>\n",
       "<table border=\"1\" class=\"dataframe\">\n",
       "  <thead>\n",
       "    <tr style=\"text-align: right;\">\n",
       "      <th></th>\n",
       "      <th>深能源Ａ</th>\n",
       "      <th>深南电Ａ</th>\n",
       "      <th>富龙热力</th>\n",
       "      <th>穗恒运Ａ</th>\n",
       "      <th>粤电力Ａ</th>\n",
       "      <th>韶能股份</th>\n",
       "      <th>惠天热电</th>\n",
       "      <th>原水股份</th>\n",
       "      <th>大连热电</th>\n",
       "      <th>龙电股份</th>\n",
       "      <th>...</th>\n",
       "      <th>中 关 村</th>\n",
       "      <th>中兴通讯</th>\n",
       "      <th>长城电脑</th>\n",
       "      <th>青鸟华光</th>\n",
       "      <th>清华同方</th>\n",
       "      <th>永鼎光缆</th>\n",
       "      <th>宏图高科</th>\n",
       "      <th>海星科技</th>\n",
       "      <th>方正科技</th>\n",
       "      <th>复华实业</th>\n",
       "    </tr>\n",
       "  </thead>\n",
       "  <tbody>\n",
       "    <tr>\n",
       "      <th>深能源Ａ</th>\n",
       "      <td>0.000000</td>\n",
       "      <td>3.379118</td>\n",
       "      <td>3.874762</td>\n",
       "      <td>4.398155</td>\n",
       "      <td>5.644342</td>\n",
       "      <td>4.053026</td>\n",
       "      <td>4.402957</td>\n",
       "      <td>4.000154</td>\n",
       "      <td>3.782060</td>\n",
       "      <td>5.393734</td>\n",
       "      <td>...</td>\n",
       "      <td>6.365799</td>\n",
       "      <td>3.992209</td>\n",
       "      <td>3.946725</td>\n",
       "      <td>4.480630</td>\n",
       "      <td>4.421643</td>\n",
       "      <td>5.207624</td>\n",
       "      <td>4.023286</td>\n",
       "      <td>5.073387</td>\n",
       "      <td>6.659423</td>\n",
       "      <td>4.330594</td>\n",
       "    </tr>\n",
       "    <tr>\n",
       "      <th>深南电Ａ</th>\n",
       "      <td>3.379118</td>\n",
       "      <td>0.000000</td>\n",
       "      <td>2.461015</td>\n",
       "      <td>4.190203</td>\n",
       "      <td>3.605859</td>\n",
       "      <td>3.855684</td>\n",
       "      <td>2.217316</td>\n",
       "      <td>2.649428</td>\n",
       "      <td>2.076872</td>\n",
       "      <td>4.557174</td>\n",
       "      <td>...</td>\n",
       "      <td>4.492618</td>\n",
       "      <td>2.793176</td>\n",
       "      <td>2.910862</td>\n",
       "      <td>2.734690</td>\n",
       "      <td>5.220889</td>\n",
       "      <td>3.472708</td>\n",
       "      <td>2.558000</td>\n",
       "      <td>3.602563</td>\n",
       "      <td>5.008292</td>\n",
       "      <td>2.984867</td>\n",
       "    </tr>\n",
       "    <tr>\n",
       "      <th>富龙热力</th>\n",
       "      <td>3.874762</td>\n",
       "      <td>2.461015</td>\n",
       "      <td>0.000000</td>\n",
       "      <td>4.630450</td>\n",
       "      <td>4.138633</td>\n",
       "      <td>3.117996</td>\n",
       "      <td>1.745931</td>\n",
       "      <td>1.639896</td>\n",
       "      <td>1.291378</td>\n",
       "      <td>3.807715</td>\n",
       "      <td>...</td>\n",
       "      <td>4.606979</td>\n",
       "      <td>3.200095</td>\n",
       "      <td>3.009992</td>\n",
       "      <td>1.108109</td>\n",
       "      <td>4.622174</td>\n",
       "      <td>2.438251</td>\n",
       "      <td>2.673798</td>\n",
       "      <td>2.268543</td>\n",
       "      <td>5.723838</td>\n",
       "      <td>1.421010</td>\n",
       "    </tr>\n",
       "    <tr>\n",
       "      <th>穗恒运Ａ</th>\n",
       "      <td>4.398155</td>\n",
       "      <td>4.190203</td>\n",
       "      <td>4.630450</td>\n",
       "      <td>0.000000</td>\n",
       "      <td>6.295367</td>\n",
       "      <td>5.212151</td>\n",
       "      <td>4.630793</td>\n",
       "      <td>5.304445</td>\n",
       "      <td>3.996461</td>\n",
       "      <td>6.315439</td>\n",
       "      <td>...</td>\n",
       "      <td>6.208700</td>\n",
       "      <td>5.860063</td>\n",
       "      <td>4.245158</td>\n",
       "      <td>5.372205</td>\n",
       "      <td>6.853964</td>\n",
       "      <td>4.514394</td>\n",
       "      <td>5.176371</td>\n",
       "      <td>4.860329</td>\n",
       "      <td>7.108400</td>\n",
       "      <td>4.698155</td>\n",
       "    </tr>\n",
       "    <tr>\n",
       "      <th>粤电力Ａ</th>\n",
       "      <td>5.644342</td>\n",
       "      <td>3.605859</td>\n",
       "      <td>4.138633</td>\n",
       "      <td>6.295367</td>\n",
       "      <td>0.000000</td>\n",
       "      <td>4.750881</td>\n",
       "      <td>3.825051</td>\n",
       "      <td>3.760294</td>\n",
       "      <td>4.110323</td>\n",
       "      <td>5.115032</td>\n",
       "      <td>...</td>\n",
       "      <td>5.269970</td>\n",
       "      <td>4.953507</td>\n",
       "      <td>5.177451</td>\n",
       "      <td>3.715594</td>\n",
       "      <td>6.793018</td>\n",
       "      <td>4.584830</td>\n",
       "      <td>4.981956</td>\n",
       "      <td>5.273549</td>\n",
       "      <td>6.650183</td>\n",
       "      <td>4.918128</td>\n",
       "    </tr>\n",
       "  </tbody>\n",
       "</table>\n",
       "<p>5 rows × 35 columns</p>\n",
       "</div>"
      ],
      "text/plain": [
       "          深能源Ａ      深南电Ａ      富龙热力      穗恒运Ａ      粤电力Ａ      韶能股份      惠天热电  \\\n",
       "深能源Ａ  0.000000  3.379118  3.874762  4.398155  5.644342  4.053026  4.402957   \n",
       "深南电Ａ  3.379118  0.000000  2.461015  4.190203  3.605859  3.855684  2.217316   \n",
       "富龙热力  3.874762  2.461015  0.000000  4.630450  4.138633  3.117996  1.745931   \n",
       "穗恒运Ａ  4.398155  4.190203  4.630450  0.000000  6.295367  5.212151  4.630793   \n",
       "粤电力Ａ  5.644342  3.605859  4.138633  6.295367  0.000000  4.750881  3.825051   \n",
       "\n",
       "          原水股份      大连热电      龙电股份    ...        中 关 村      中兴通讯      长城电脑  \\\n",
       "深能源Ａ  4.000154  3.782060  5.393734    ...     6.365799  3.992209  3.946725   \n",
       "深南电Ａ  2.649428  2.076872  4.557174    ...     4.492618  2.793176  2.910862   \n",
       "富龙热力  1.639896  1.291378  3.807715    ...     4.606979  3.200095  3.009992   \n",
       "穗恒运Ａ  5.304445  3.996461  6.315439    ...     6.208700  5.860063  4.245158   \n",
       "粤电力Ａ  3.760294  4.110323  5.115032    ...     5.269970  4.953507  5.177451   \n",
       "\n",
       "          青鸟华光      清华同方      永鼎光缆      宏图高科      海星科技      方正科技      复华实业  \n",
       "深能源Ａ  4.480630  4.421643  5.207624  4.023286  5.073387  6.659423  4.330594  \n",
       "深南电Ａ  2.734690  5.220889  3.472708  2.558000  3.602563  5.008292  2.984867  \n",
       "富龙热力  1.108109  4.622174  2.438251  2.673798  2.268543  5.723838  1.421010  \n",
       "穗恒运Ａ  5.372205  6.853964  4.514394  5.176371  4.860329  7.108400  4.698155  \n",
       "粤电力Ａ  3.715594  6.793018  4.584830  4.981956  5.273549  6.650183  4.918128  \n",
       "\n",
       "[5 rows x 35 columns]"
      ]
     },
     "execution_count": 14,
     "metadata": {},
     "output_type": "execute_result"
    }
   ],
   "source": [
    "## 计算一一个样本所有点的马氏距离\n",
    "dis_all = pd.DataFrame(distance.cdist(data, data, metric='mahalanobis', V = np.linalg.inv(data.cov())),columns=data.index.values, index=data.index.values)\n",
    "dis_all.head()"
   ]
  },
  {
   "cell_type": "code",
   "execution_count": 15,
   "metadata": {},
   "outputs": [
    {
     "data": {
      "text/plain": [
       "3.6490571291389871"
      ]
     },
     "execution_count": 15,
     "metadata": {},
     "output_type": "execute_result"
    }
   ],
   "source": [
    "## 计算一个点到一个总体的距离\n",
    "distance.mahalanobis(data.iloc[0], data.mean(),np.linalg.inv(data.cov()))"
   ]
  },
  {
   "cell_type": "markdown",
   "metadata": {},
   "source": [
    "## PCA 降维"
   ]
  },
  {
   "cell_type": "code",
   "execution_count": 16,
   "metadata": {},
   "outputs": [
    {
     "data": {
      "text/plain": [
       "PCA(copy=True, iterated_power='auto', n_components=2, random_state=None,\n",
       "  svd_solver='auto', tol=0.0, whiten=False)"
      ]
     },
     "execution_count": 16,
     "metadata": {},
     "output_type": "execute_result"
    }
   ],
   "source": [
    "from sklearn.decomposition import PCA\n",
    "pca = PCA(n_components= 2)#data.shape[1])\n",
    "pca.fit(data)"
   ]
  },
  {
   "cell_type": "code",
   "execution_count": 17,
   "metadata": {},
   "outputs": [
    {
     "data": {
      "text/html": [
       "<div>\n",
       "<style>\n",
       "    .dataframe thead tr:only-child th {\n",
       "        text-align: right;\n",
       "    }\n",
       "\n",
       "    .dataframe thead th {\n",
       "        text-align: left;\n",
       "    }\n",
       "\n",
       "    .dataframe tbody tr th {\n",
       "        vertical-align: top;\n",
       "    }\n",
       "</style>\n",
       "<table border=\"1\" class=\"dataframe\">\n",
       "  <thead>\n",
       "    <tr style=\"text-align: right;\">\n",
       "      <th></th>\n",
       "      <th>方差</th>\n",
       "      <th>累计贡献率</th>\n",
       "      <th>贡献率</th>\n",
       "    </tr>\n",
       "  </thead>\n",
       "  <tbody>\n",
       "    <tr>\n",
       "      <th>0</th>\n",
       "      <td>1587.172742</td>\n",
       "      <td>0.692682</td>\n",
       "      <td>0.692682</td>\n",
       "    </tr>\n",
       "    <tr>\n",
       "      <th>1</th>\n",
       "      <td>456.441006</td>\n",
       "      <td>0.891885</td>\n",
       "      <td>0.199202</td>\n",
       "    </tr>\n",
       "  </tbody>\n",
       "</table>\n",
       "</div>"
      ],
      "text/plain": [
       "            方差     累计贡献率       贡献率\n",
       "0  1587.172742  0.692682  0.692682\n",
       "1   456.441006  0.891885  0.199202"
      ]
     },
     "execution_count": 17,
     "metadata": {},
     "output_type": "execute_result"
    }
   ],
   "source": [
    "## 解释方差 及贡献率\n",
    "pd.DataFrame({'方差': pca.explained_variance_,\n",
    "              '贡献率': pca.explained_variance_ratio_,\n",
    "             '累计贡献率': np.cumsum(pca.explained_variance_ratio_)})"
   ]
  },
  {
   "cell_type": "code",
   "execution_count": 33,
   "metadata": {
    "scrolled": true
   },
   "outputs": [
    {
     "data": {
      "text/html": [
       "<div>\n",
       "<style>\n",
       "    .dataframe thead tr:only-child th {\n",
       "        text-align: right;\n",
       "    }\n",
       "\n",
       "    .dataframe thead th {\n",
       "        text-align: left;\n",
       "    }\n",
       "\n",
       "    .dataframe tbody tr th {\n",
       "        vertical-align: top;\n",
       "    }\n",
       "</style>\n",
       "<table border=\"1\" class=\"dataframe\">\n",
       "  <thead>\n",
       "    <tr style=\"text-align: right;\">\n",
       "      <th></th>\n",
       "      <th>0</th>\n",
       "      <th>1</th>\n",
       "      <th>2</th>\n",
       "      <th>3</th>\n",
       "      <th>4</th>\n",
       "      <th>5</th>\n",
       "      <th>6</th>\n",
       "      <th>7</th>\n",
       "    </tr>\n",
       "  </thead>\n",
       "  <tbody>\n",
       "    <tr>\n",
       "      <th>0</th>\n",
       "      <td>0.117628</td>\n",
       "      <td>0.062777</td>\n",
       "      <td>0.041878</td>\n",
       "      <td>0.006530</td>\n",
       "      <td>0.008420</td>\n",
       "      <td>0.063632</td>\n",
       "      <td>0.942812</td>\n",
       "      <td>0.295655</td>\n",
       "    </tr>\n",
       "    <tr>\n",
       "      <th>1</th>\n",
       "      <td>0.047853</td>\n",
       "      <td>0.046320</td>\n",
       "      <td>-0.486906</td>\n",
       "      <td>0.000262</td>\n",
       "      <td>0.005455</td>\n",
       "      <td>0.201150</td>\n",
       "      <td>-0.254503</td>\n",
       "      <td>0.808223</td>\n",
       "    </tr>\n",
       "  </tbody>\n",
       "</table>\n",
       "</div>"
      ],
      "text/plain": [
       "          0         1         2         3         4         5         6  \\\n",
       "0  0.117628  0.062777  0.041878  0.006530  0.008420  0.063632  0.942812   \n",
       "1  0.047853  0.046320 -0.486906  0.000262  0.005455  0.201150 -0.254503   \n",
       "\n",
       "          7  \n",
       "0  0.295655  \n",
       "1  0.808223  "
      ]
     },
     "execution_count": 33,
     "metadata": {},
     "output_type": "execute_result"
    }
   ],
   "source": [
    "## 成分\n",
    "component = pd.DataFrame(pca.components_)\n",
    "component"
   ]
  },
  {
   "cell_type": "code",
   "execution_count": 36,
   "metadata": {},
   "outputs": [
    {
     "data": {
      "text/html": [
       "<div>\n",
       "<style>\n",
       "    .dataframe thead tr:only-child th {\n",
       "        text-align: right;\n",
       "    }\n",
       "\n",
       "    .dataframe thead th {\n",
       "        text-align: left;\n",
       "    }\n",
       "\n",
       "    .dataframe tbody tr th {\n",
       "        vertical-align: top;\n",
       "    }\n",
       "</style>\n",
       "<table border=\"1\" class=\"dataframe\">\n",
       "  <thead>\n",
       "    <tr style=\"text-align: right;\">\n",
       "      <th></th>\n",
       "      <th>0</th>\n",
       "      <th>1</th>\n",
       "    </tr>\n",
       "  </thead>\n",
       "  <tbody>\n",
       "    <tr>\n",
       "      <th>深能源Ａ</th>\n",
       "      <td>38.832000</td>\n",
       "      <td>27.852772</td>\n",
       "    </tr>\n",
       "    <tr>\n",
       "      <th>深南电Ａ</th>\n",
       "      <td>32.198675</td>\n",
       "      <td>-1.095044</td>\n",
       "    </tr>\n",
       "    <tr>\n",
       "      <th>富龙热力</th>\n",
       "      <td>-2.333111</td>\n",
       "      <td>4.303850</td>\n",
       "    </tr>\n",
       "    <tr>\n",
       "      <th>穗恒运Ａ</th>\n",
       "      <td>-10.852640</td>\n",
       "      <td>-6.501903</td>\n",
       "    </tr>\n",
       "    <tr>\n",
       "      <th>粤电力Ａ</th>\n",
       "      <td>9.126691</td>\n",
       "      <td>8.602257</td>\n",
       "    </tr>\n",
       "  </tbody>\n",
       "</table>\n",
       "</div>"
      ],
      "text/plain": [
       "              0          1\n",
       "深能源Ａ  38.832000  27.852772\n",
       "深南电Ａ  32.198675  -1.095044\n",
       "富龙热力  -2.333111   4.303850\n",
       "穗恒运Ａ -10.852640  -6.501903\n",
       "粤电力Ａ   9.126691   8.602257"
      ]
     },
     "execution_count": 36,
     "metadata": {},
     "output_type": "execute_result"
    }
   ],
   "source": [
    "data_transform = pd.DataFrame(pca.transform(data), index=data.index.values)\n",
    "data_transform.head()"
   ]
  },
  {
   "cell_type": "code",
   "execution_count": 37,
   "metadata": {},
   "outputs": [
    {
     "data": {
      "text/plain": [
       "<matplotlib.axes._subplots.AxesSubplot at 0x1a32c912f28>"
      ]
     },
     "execution_count": 37,
     "metadata": {},
     "output_type": "execute_result"
    },
    {
     "data": {
      "image/png": "[encoded data removed]",
      "text/plain": [
       "<matplotlib.figure.Figure at 0x1a32c927cc0>"
      ]
     },
     "metadata": {
      "image/png": {
       "height": 259,
       "width": 384
      }
     },
     "output_type": "display_data"
    }
   ],
   "source": [
    "data_transform.plot.scatter(0,1)"
   ]
  },
  {
   "cell_type": "code",
   "execution_count": 38,
   "metadata": {},
   "outputs": [
    {
     "data": {
      "text/plain": [
       "<matplotlib.collections.PathCollection at 0x1a32d604c18>"
      ]
     },
     "execution_count": 38,
     "metadata": {},
     "output_type": "execute_result"
    },
    {
     "data": {
      "image/png": "[encoded data removed]",
      "text/plain": [
       "<matplotlib.figure.Figure at 0x1a32c6c8748>"
      ]
     },
     "metadata": {
      "image/png": {
       "height": 248,
       "width": 383
      }
     },
     "output_type": "display_data"
    }
   ],
   "source": [
    "plt.scatter(component.iloc[0,:], component.iloc[1,:])"
   ]
  },
  {
   "cell_type": "code",
   "execution_count": null,
   "metadata": {
    "collapsed": true
   },
   "outputs": [],
   "source": []
  }
 ],
 "metadata": {
  "kernelspec": {
   "display_name": "Python [conda root]",
   "language": "python",
   "name": "conda-root-py"
  },
  "language_info": {
   "codemirror_mode": {
    "name": "ipython",
    "version": 3
   },
   "file_extension": ".py",
   "mimetype": "text/x-python",
   "name": "python",
   "nbconvert_exporter": "python",
   "pygments_lexer": "ipython3",
   "version": "3.6.2"
  },
  "toc": {
   "nav_menu": {},
   "number_sections": true,
   "sideBar": true,
   "skip_h1_title": false,
   "toc_cell": false,
   "toc_position": {},
   "toc_section_display": "block",
   "toc_window_display": false
  },
  "varInspector": {
   "cols": {
    "lenName": 16,
    "lenType": 16,
    "lenVar": 40
   },
   "kernels_config": {
    "python": {
     "delete_cmd_postfix": "",
     "delete_cmd_prefix": "del ",
     "library": "var_list.py",
     "varRefreshCmd": "print(var_dic_list())"
    },
    "r": {
     "delete_cmd_postfix": ") ",
     "delete_cmd_prefix": "rm(",
     "library": "var_list.r",
     "varRefreshCmd": "cat(var_dic_list()) "
    }
   },
   "types_to_exclude": [
    "module",
    "function",
    "builtin_function_or_method",
    "instance",
    "_Feature"
   ],
   "window_display": false
  }
 },
 "nbformat": 4,
 "nbformat_minor": 2
}
