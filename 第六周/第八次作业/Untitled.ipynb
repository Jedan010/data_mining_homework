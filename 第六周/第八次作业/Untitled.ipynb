{
 "cells": [
  {
   "cell_type": "markdown",
   "metadata": {},
   "source": [
    "# 手算ID3决策树"
   ]
  },
  {
   "cell_type": "code",
   "execution_count": 37,
   "metadata": {
    "collapsed": true
   },
   "outputs": [],
   "source": [
    "import numpy as np\n",
    "import pandas as pd\n",
    "import xlwings as xw"
   ]
  },
  {
   "cell_type": "code",
   "execution_count": 3,
   "metadata": {
    "collapsed": false,
    "scrolled": false
   },
   "outputs": [
    {
     "data": {
      "text/html": [
       "<div>\n",
       "<table border=\"1\" class=\"dataframe\">\n",
       "  <thead>\n",
       "    <tr style=\"text-align: right;\">\n",
       "      <th></th>\n",
       "      <th>age</th>\n",
       "      <th>income</th>\n",
       "      <th>student</th>\n",
       "      <th>credit_rating</th>\n",
       "      <th>label</th>\n",
       "    </tr>\n",
       "  </thead>\n",
       "  <tbody>\n",
       "    <tr>\n",
       "      <th>0</th>\n",
       "      <td>youth</td>\n",
       "      <td>high</td>\n",
       "      <td>no</td>\n",
       "      <td>fair</td>\n",
       "      <td>no</td>\n",
       "    </tr>\n",
       "    <tr>\n",
       "      <th>1</th>\n",
       "      <td>youth</td>\n",
       "      <td>high</td>\n",
       "      <td>no</td>\n",
       "      <td>excellent</td>\n",
       "      <td>no</td>\n",
       "    </tr>\n",
       "    <tr>\n",
       "      <th>2</th>\n",
       "      <td>middle_age</td>\n",
       "      <td>high</td>\n",
       "      <td>no</td>\n",
       "      <td>fair</td>\n",
       "      <td>yes</td>\n",
       "    </tr>\n",
       "    <tr>\n",
       "      <th>3</th>\n",
       "      <td>senior</td>\n",
       "      <td>medium</td>\n",
       "      <td>no</td>\n",
       "      <td>fair</td>\n",
       "      <td>yes</td>\n",
       "    </tr>\n",
       "    <tr>\n",
       "      <th>4</th>\n",
       "      <td>senior</td>\n",
       "      <td>low</td>\n",
       "      <td>yes</td>\n",
       "      <td>fair</td>\n",
       "      <td>yes</td>\n",
       "    </tr>\n",
       "    <tr>\n",
       "      <th>5</th>\n",
       "      <td>senior</td>\n",
       "      <td>low</td>\n",
       "      <td>yes</td>\n",
       "      <td>excellent</td>\n",
       "      <td>no</td>\n",
       "    </tr>\n",
       "    <tr>\n",
       "      <th>6</th>\n",
       "      <td>middle_age</td>\n",
       "      <td>low</td>\n",
       "      <td>yes</td>\n",
       "      <td>excellent</td>\n",
       "      <td>yes</td>\n",
       "    </tr>\n",
       "    <tr>\n",
       "      <th>7</th>\n",
       "      <td>youth</td>\n",
       "      <td>medium</td>\n",
       "      <td>no</td>\n",
       "      <td>fair</td>\n",
       "      <td>no</td>\n",
       "    </tr>\n",
       "    <tr>\n",
       "      <th>8</th>\n",
       "      <td>youth</td>\n",
       "      <td>low</td>\n",
       "      <td>yes</td>\n",
       "      <td>fair</td>\n",
       "      <td>yes</td>\n",
       "    </tr>\n",
       "    <tr>\n",
       "      <th>9</th>\n",
       "      <td>senior</td>\n",
       "      <td>medium</td>\n",
       "      <td>yes</td>\n",
       "      <td>fair</td>\n",
       "      <td>yes</td>\n",
       "    </tr>\n",
       "    <tr>\n",
       "      <th>10</th>\n",
       "      <td>youth</td>\n",
       "      <td>medium</td>\n",
       "      <td>yes</td>\n",
       "      <td>excellent</td>\n",
       "      <td>yes</td>\n",
       "    </tr>\n",
       "    <tr>\n",
       "      <th>11</th>\n",
       "      <td>middle_age</td>\n",
       "      <td>medium</td>\n",
       "      <td>no</td>\n",
       "      <td>excellent</td>\n",
       "      <td>yes</td>\n",
       "    </tr>\n",
       "    <tr>\n",
       "      <th>12</th>\n",
       "      <td>middle_age</td>\n",
       "      <td>high</td>\n",
       "      <td>yes</td>\n",
       "      <td>fair</td>\n",
       "      <td>yes</td>\n",
       "    </tr>\n",
       "    <tr>\n",
       "      <th>13</th>\n",
       "      <td>senior</td>\n",
       "      <td>medium</td>\n",
       "      <td>no</td>\n",
       "      <td>excellent</td>\n",
       "      <td>no</td>\n",
       "    </tr>\n",
       "  </tbody>\n",
       "</table>\n",
       "</div>"
      ],
      "text/plain": [
       "           age  income student credit_rating label\n",
       "0        youth    high      no          fair    no\n",
       "1        youth    high      no     excellent    no\n",
       "2   middle_age    high      no          fair   yes\n",
       "3       senior  medium      no          fair   yes\n",
       "4       senior     low     yes          fair   yes\n",
       "5       senior     low     yes     excellent    no\n",
       "6   middle_age     low     yes     excellent   yes\n",
       "7        youth  medium      no          fair    no\n",
       "8        youth     low     yes          fair   yes\n",
       "9       senior  medium     yes          fair   yes\n",
       "10       youth  medium     yes     excellent   yes\n",
       "11  middle_age  medium      no     excellent   yes\n",
       "12  middle_age    high     yes          fair   yes\n",
       "13      senior  medium      no     excellent    no"
      ]
     },
     "execution_count": 3,
     "metadata": {},
     "output_type": "execute_result"
    }
   ],
   "source": [
    "data = pd.read_csv('data.csv')\n",
    "data"
   ]
  },
  {
   "cell_type": "code",
   "execution_count": 49,
   "metadata": {
    "collapsed": false
   },
   "outputs": [],
   "source": [
    "wb = xw.Book('决策树.xlsx')\n",
    "sht = wb.sheets[0]\n",
    "sht.range('a1').value = '数据'\n",
    "sht.range('a2').options(index=False).value = data"
   ]
  },
  {
   "cell_type": "markdown",
   "metadata": {},
   "source": [
    "## y的信息量"
   ]
  },
  {
   "cell_type": "markdown",
   "metadata": {},
   "source": [
    "### 定义信息量函数 "
   ]
  },
  {
   "cell_type": "code",
   "execution_count": 35,
   "metadata": {
    "collapsed": false
   },
   "outputs": [],
   "source": [
    "def information(p):    \n",
    "    p_mask = np.ma.masked_values(p, 0)\n",
    "    I_mask = - p_mask * (np.ma.log2(p_mask))\n",
    "    I  = I_mask.filled()\n",
    "    return  I"
   ]
  },
  {
   "cell_type": "markdown",
   "metadata": {},
   "source": [
    "### y的类别数"
   ]
  },
  {
   "cell_type": "code",
   "execution_count": 36,
   "metadata": {
    "collapsed": false,
    "scrolled": true
   },
   "outputs": [
    {
     "data": {
      "text/plain": [
       "2"
      ]
     },
     "execution_count": 36,
     "metadata": {},
     "output_type": "execute_result"
    }
   ],
   "source": [
    "y = data['label']\n",
    "y_label_num = len(np.unique(y))\n",
    "y_label_num"
   ]
  },
  {
   "cell_type": "markdown",
   "metadata": {},
   "source": [
    "### 计算各类别占比"
   ]
  },
  {
   "cell_type": "code",
   "execution_count": 62,
   "metadata": {
    "collapsed": false,
    "scrolled": true
   },
   "outputs": [
    {
     "name": "stdout",
     "output_type": "stream",
     "text": [
      "p_y1: 0.35714285714285715\n",
      "p_y2: 0.6428571428571429\n"
     ]
    }
   ],
   "source": [
    "y_1 = y[y == np.unique(data['label'])[0]]\n",
    "y_2 = y[y == np.unique(data['label'])[1]]\n",
    "\n",
    "p_y1 = len(y_1) / len(y)\n",
    "p_y2 = len(y_2) / len(y)\n",
    "\n",
    "print('p_y1:' , p_y1)\n",
    "print('p_y2:' , p_y2)"
   ]
  },
  {
   "cell_type": "code",
   "execution_count": 111,
   "metadata": {
    "collapsed": false
   },
   "outputs": [],
   "source": []
  },
  {
   "cell_type": "markdown",
   "metadata": {},
   "source": [
    "### 计算y的信息量"
   ]
  },
  {
   "cell_type": "code",
   "execution_count": 67,
   "metadata": {
    "collapsed": false
   },
   "outputs": [
    {
     "data": {
      "text/plain": [
       "array([ 0.94028596])"
      ]
     },
     "execution_count": 67,
     "metadata": {},
     "output_type": "execute_result"
    }
   ],
   "source": [
    "I_y= information(np.array([p_y1])) + information(np.array([p_y2]))\n",
    "print(I_y)"
   ]
  },
  {
   "cell_type": "markdown",
   "metadata": {},
   "source": [
    "## 计算信息增益"
   ]
  },
  {
   "cell_type": "code",
   "execution_count": 68,
   "metadata": {
    "collapsed": false,
    "scrolled": false
   },
   "outputs": [],
   "source": [
    "data_2 = data[['age','label']].sort_values(by='age')"
   ]
  },
  {
   "cell_type": "markdown",
   "metadata": {},
   "source": [
    "### 计算每个类别的占比"
   ]
  },
  {
   "cell_type": "code",
   "execution_count": 70,
   "metadata": {
    "collapsed": false
   },
   "outputs": [
    {
     "name": "stdout",
     "output_type": "stream",
     "text": [
      "            0  num    retiao   no  yes\n",
      "0  middle_age  4.0  0.285714  0.0  1.0\n",
      "1      senior  5.0  0.357143  0.4  0.6\n",
      "2       youth  5.0  0.357143  0.6  0.4\n"
     ]
    }
   ],
   "source": [
    "data_2_retio = pd.DataFrame(np.unique(data['age']))\n",
    "from statsmodels.tools import categorical\n",
    "data_2_retio['num'] = np.sum(categorical(data['age'].values, drop=True), axis=0)\n",
    "data_2_retio['retiao'] = np.sum(categorical(data['age'].values, drop=True), axis=0) / len(data)\n",
    "\n",
    "for y_value in np.unique(y):\n",
    "    data_2_retio[y_value] = [len(data.loc[data.age==x_value].loc[data.label==y_value])/len(data.loc[data.age==x_value]) for x_value in np.unique(data['age']) ] \n",
    "    \n",
    "print(data_2_retio)"
   ]
  },
  {
   "cell_type": "code",
   "execution_count": 71,
   "metadata": {
    "collapsed": false,
    "scrolled": false
   },
   "outputs": [
    {
     "name": "stdout",
     "output_type": "stream",
     "text": [
      "age:\n",
      "            0  num    retiao   no      I_no  yes     I_yes         I\n",
      "0  middle_age  4.0  0.285714  0.0  0.000000  1.0 -0.000000  0.000000\n",
      "1      senior  5.0  0.357143  0.4  0.528771  0.6  0.442179  0.970951\n",
      "2       youth  5.0  0.357143  0.6  0.442179  0.4  0.528771  0.970951\n",
      "\n",
      "\n",
      "\n",
      "income:\n",
      "        0  num    retiao        no      I_no       yes     I_yes         I\n",
      "0    high  4.0  0.285714  0.500000  0.500000  0.500000  0.500000  1.000000\n",
      "1     low  4.0  0.285714  0.250000  0.500000  0.750000  0.311278  0.811278\n",
      "2  medium  6.0  0.428571  0.333333  0.528321  0.666667  0.389975  0.918296\n",
      "\n",
      "\n",
      "\n",
      "student:\n",
      "     0  num  retiao        no      I_no       yes     I_yes         I\n",
      "0   no  7.0     0.5  0.571429  0.461346  0.428571  0.523882  0.985228\n",
      "1  yes  7.0     0.5  0.142857  0.401051  0.857143  0.190622  0.591673\n",
      "\n",
      "\n",
      "\n",
      "credit_rating:\n",
      "           0  num    retiao    no  I_no   yes     I_yes         I\n",
      "0  excellent  6.0  0.428571  0.50   0.5  0.50  0.500000  1.000000\n",
      "1       fair  8.0  0.571429  0.25   0.5  0.75  0.311278  0.811278\n",
      "\n",
      "\n",
      "\n"
     ]
    }
   ],
   "source": [
    "from statsmodels.tools import categorical\n",
    "data_2 = {}\n",
    "for column in data.columns[:-1]:\n",
    "    data_2_df = pd.DataFrame(np.unique(data[column]))\n",
    "    \n",
    "    data_2_df['num'] = np.sum(categorical(data[column].values, drop=True), axis=0)\n",
    "    data_2_df['retiao'] = np.sum(categorical(data[column].values, drop=True), axis=0) / len(data)\n",
    "\n",
    "    for y_value in np.unique(y):\n",
    "        data_2_df[y_value] = [len(data.loc[data[column]==x_value].loc[data.label==y_value])/len(data.loc[data[column]==x_value]) for x_value in np.unique(data[column]) ] \n",
    "    \n",
    "        data_2_df['I'+'_'+y_value] = information(data_2_df[y_value].values)\n",
    "    \n",
    "    data_2_df['I'] = data_2_df['I_yes'] + data_2_df['I_no'] \n",
    "       \n",
    "    print(column + ':')\n",
    "    print(data_2_df)\n",
    "    print('\\n\\n')\n",
    "    data_2[column] = data_2_df"
   ]
  },
  {
   "cell_type": "code",
   "execution_count": 72,
   "metadata": {
    "collapsed": false
   },
   "outputs": [],
   "source": [
    "index = 1\n",
    "for column in data.columns[:-1]:    \n",
    "    sht['g'+str(index)].value = column\n",
    "    index += 1\n",
    "\n",
    "    sht['g'+str(index)].options(index=False).value = data_2[column]\n",
    "\n",
    "    index +=len(data_2[column]) +2"
   ]
  },
  {
   "cell_type": "code",
   "execution_count": 79,
   "metadata": {
    "collapsed": false
   },
   "outputs": [],
   "source": []
  },
  {
   "cell_type": "markdown",
   "metadata": {},
   "source": [
    "### 计算信息增益"
   ]
  },
  {
   "cell_type": "code",
   "execution_count": 73,
   "metadata": {
    "collapsed": false
   },
   "outputs": [
    {
     "name": "stdout",
     "output_type": "stream",
     "text": [
      "age 的信息增益值为 [ 0.24674982] \n",
      "\n",
      "income 的信息增益值为 [ 0.02922257] \n",
      "\n",
      "student 的信息增益值为 [ 0.1518355] \n",
      "\n",
      "credit_rating 的信息增益值为 [ 0.04812703] \n",
      "\n"
     ]
    }
   ],
   "source": [
    "for column in data.columns[:-1]:\n",
    "    entropy = np.sum(data_2[column]['I'] * data_2[column]['retiao'])\n",
    "    gain = I_y -entropy\n",
    "    print(column , '的信息增益值为', gain, '\\n')"
   ]
  },
  {
   "cell_type": "code",
   "execution_count": 74,
   "metadata": {
    "collapsed": false,
    "scrolled": true
   },
   "outputs": [
    {
     "data": {
      "text/html": [
       "<div>\n",
       "<table border=\"1\" class=\"dataframe\">\n",
       "  <thead>\n",
       "    <tr style=\"text-align: right;\">\n",
       "      <th></th>\n",
       "      <th>Gain</th>\n",
       "    </tr>\n",
       "  </thead>\n",
       "  <tbody>\n",
       "    <tr>\n",
       "      <th>age</th>\n",
       "      <td>0.246750</td>\n",
       "    </tr>\n",
       "    <tr>\n",
       "      <th>income</th>\n",
       "      <td>0.029223</td>\n",
       "    </tr>\n",
       "    <tr>\n",
       "      <th>student</th>\n",
       "      <td>0.151836</td>\n",
       "    </tr>\n",
       "    <tr>\n",
       "      <th>credit_rating</th>\n",
       "      <td>0.048127</td>\n",
       "    </tr>\n",
       "  </tbody>\n",
       "</table>\n",
       "</div>"
      ],
      "text/plain": [
       "                   Gain\n",
       "age            0.246750\n",
       "income         0.029223\n",
       "student        0.151836\n",
       "credit_rating  0.048127"
      ]
     },
     "execution_count": 74,
     "metadata": {},
     "output_type": "execute_result"
    }
   ],
   "source": [
    "data_2_gain = pd.DataFrame([I_y - np.sum(data_2[column]['I'] * data_2[column]['retiao']) for column in data.columns[:-1]], index=data.columns[:-1], columns=['Gain'])\n",
    "data_2_gain"
   ]
  },
  {
   "cell_type": "code",
   "execution_count": 76,
   "metadata": {
    "collapsed": true
   },
   "outputs": [],
   "source": [
    "sht['a20'].options(index=True).value = data_2_gain"
   ]
  },
  {
   "cell_type": "markdown",
   "metadata": {},
   "source": [
    "可以看出age的信息增益最大，所以按age划分"
   ]
  },
  {
   "cell_type": "code",
   "execution_count": 83,
   "metadata": {
    "collapsed": false
   },
   "outputs": [
    {
     "name": "stdout",
     "output_type": "stream",
     "text": [
      "middle_age\n",
      "           age  income student credit_rating label\n",
      "2   middle_age    high      no          fair   yes\n",
      "6   middle_age     low     yes     excellent   yes\n",
      "11  middle_age  medium      no     excellent   yes\n",
      "12  middle_age    high     yes          fair   yes\n",
      "\n",
      "senior\n",
      "       age  income student credit_rating label\n",
      "3   senior  medium      no          fair   yes\n",
      "4   senior     low     yes          fair   yes\n",
      "5   senior     low     yes     excellent    no\n",
      "9   senior  medium     yes          fair   yes\n",
      "13  senior  medium      no     excellent    no\n",
      "\n",
      "youth\n",
      "      age  income student credit_rating label\n",
      "0   youth    high      no          fair    no\n",
      "1   youth    high      no     excellent    no\n",
      "7   youth  medium      no          fair    no\n",
      "8   youth     low     yes          fair   yes\n",
      "10  youth  medium     yes     excellent   yes\n",
      "\n"
     ]
    }
   ],
   "source": [
    "sht_2 = wb.sheets['age_split']\n",
    "\n",
    "index = 1\n",
    "data_3 = dict(list(data.groupby(by='age')))\n",
    "for key, value in data_3.items():\n",
    "    sht_2['a'+str(index)].value = key\n",
    "    index += 1\n",
    "    sht_2['a'+str(index)].options(index=False).value=value\n",
    "    index += len(key) + 2\n",
    "    \n",
    "    print(key)\n",
    "    print(value)\n",
    "    print()"
   ]
  },
  {
   "cell_type": "code",
   "execution_count": 125,
   "metadata": {
    "collapsed": false,
    "scrolled": true
   },
   "outputs": [
    {
     "data": {
      "text/html": [
       "<div>\n",
       "<table border=\"1\" class=\"dataframe\">\n",
       "  <thead>\n",
       "    <tr style=\"text-align: right;\">\n",
       "      <th></th>\n",
       "      <th>income</th>\n",
       "      <th>student</th>\n",
       "      <th>credit_rating</th>\n",
       "      <th>label</th>\n",
       "    </tr>\n",
       "  </thead>\n",
       "  <tbody>\n",
       "    <tr>\n",
       "      <th>0</th>\n",
       "      <td>high</td>\n",
       "      <td>no</td>\n",
       "      <td>fair</td>\n",
       "      <td>no</td>\n",
       "    </tr>\n",
       "    <tr>\n",
       "      <th>1</th>\n",
       "      <td>high</td>\n",
       "      <td>no</td>\n",
       "      <td>excellent</td>\n",
       "      <td>no</td>\n",
       "    </tr>\n",
       "    <tr>\n",
       "      <th>2</th>\n",
       "      <td>medium</td>\n",
       "      <td>no</td>\n",
       "      <td>fair</td>\n",
       "      <td>no</td>\n",
       "    </tr>\n",
       "    <tr>\n",
       "      <th>3</th>\n",
       "      <td>low</td>\n",
       "      <td>yes</td>\n",
       "      <td>fair</td>\n",
       "      <td>yes</td>\n",
       "    </tr>\n",
       "    <tr>\n",
       "      <th>4</th>\n",
       "      <td>medium</td>\n",
       "      <td>yes</td>\n",
       "      <td>excellent</td>\n",
       "      <td>yes</td>\n",
       "    </tr>\n",
       "  </tbody>\n",
       "</table>\n",
       "</div>"
      ],
      "text/plain": [
       "   income student credit_rating label\n",
       "0    high      no          fair    no\n",
       "1    high      no     excellent    no\n",
       "2  medium      no          fair    no\n",
       "3     low     yes          fair   yes\n",
       "4  medium     yes     excellent   yes"
      ]
     },
     "execution_count": 125,
     "metadata": {},
     "output_type": "execute_result"
    }
   ],
   "source": [
    "sht = wb.sheets('youth')\n",
    "data3 = sht.range('a1').options(pd.DataFrame, expand='table', index=False).value\n",
    "data3"
   ]
  },
  {
   "cell_type": "code",
   "execution_count": 126,
   "metadata": {
    "collapsed": true
   },
   "outputs": [],
   "source": [
    "data = data3"
   ]
  },
  {
   "cell_type": "code",
   "execution_count": 127,
   "metadata": {
    "collapsed": false
   },
   "outputs": [
    {
     "name": "stdout",
     "output_type": "stream",
     "text": [
      "p_y1: 0.35714285714285715\n",
      "p_y2: 0.6428571428571429\n",
      "[ 0.94028596]\n"
     ]
    }
   ],
   "source": [
    "y_1 = y[y == np.unique(data['label'])[0]]\n",
    "y_2 = y[y == np.unique(data['label'])[1]]\n",
    "\n",
    "p_y1 = len(y_1) / len(y)\n",
    "p_y2 = len(y_2) / len(y)\n",
    "\n",
    "print('p_y1:' , p_y1)\n",
    "print('p_y2:' , p_y2)\n",
    "\n",
    "I_y= information(np.array([p_y1])) + information(np.array([p_y2]))\n",
    "print(I_y)"
   ]
  },
  {
   "cell_type": "code",
   "execution_count": 128,
   "metadata": {
    "collapsed": false
   },
   "outputs": [],
   "source": [
    "sht.range('a8').value = np.array([['p_y1:' , p_y1],['p_y2:' , p_y2], ['gain:', I_y[0]]])"
   ]
  },
  {
   "cell_type": "code",
   "execution_count": 129,
   "metadata": {
    "collapsed": false
   },
   "outputs": [
    {
     "name": "stdout",
     "output_type": "stream",
     "text": [
      "income:\n",
      "        0  num  retiao   no  I_no  yes  I_yes    I\n",
      "0    high  2.0     0.4  1.0  -0.0  0.0    0.0  0.0\n",
      "1     low  1.0     0.2  0.0   0.0  1.0   -0.0  0.0\n",
      "2  medium  2.0     0.4  0.5   0.5  0.5    0.5  1.0\n",
      "\n",
      "\n",
      "\n",
      "student:\n",
      "     0  num  retiao   no  I_no  yes  I_yes    I\n",
      "0   no  3.0     0.6  1.0  -0.0  0.0    0.0  0.0\n",
      "1  yes  2.0     0.4  0.0   0.0  1.0   -0.0  0.0\n",
      "\n",
      "\n",
      "\n",
      "credit_rating:\n",
      "           0  num  retiao        no      I_no       yes     I_yes         I\n",
      "0  excellent  2.0     0.4  0.500000  0.500000  0.500000  0.500000  1.000000\n",
      "1       fair  3.0     0.6  0.666667  0.389975  0.333333  0.528321  0.918296\n",
      "\n",
      "\n",
      "\n"
     ]
    }
   ],
   "source": [
    "data_2 = {}\n",
    "for column in data.columns[:-1]:\n",
    "    data_2_df = pd.DataFrame(np.unique(data[column]))\n",
    "    \n",
    "    data_2_df['num'] = np.sum(categorical(data[column].values, drop=True), axis=0)\n",
    "    data_2_df['retiao'] = np.sum(categorical(data[column].values, drop=True), axis=0) / len(data)\n",
    "\n",
    "    for y_value in np.unique(y):\n",
    "        data_2_df[y_value] = [len(data.loc[data[column]==x_value].loc[data.label==y_value])/len(data.loc[data[column]==x_value]) for x_value in np.unique(data[column]) ] \n",
    "    \n",
    "        data_2_df['I'+'_'+y_value] = information(data_2_df[y_value].values)\n",
    "    \n",
    "    data_2_df['I'] = data_2_df['I_yes'] + data_2_df['I_no'] \n",
    "       \n",
    "    print(column + ':')\n",
    "    print(data_2_df)\n",
    "    print('\\n\\n')\n",
    "    data_2[column] = data_2_df"
   ]
  },
  {
   "cell_type": "code",
   "execution_count": 130,
   "metadata": {
    "collapsed": true
   },
   "outputs": [],
   "source": [
    "index = 1\n",
    "for column in data.columns[:-1]:    \n",
    "    sht['f'+str(index)].value = column\n",
    "    index += 1\n",
    "\n",
    "    sht['g'+str(index)].options(index=False).value = data_2[column]\n",
    "\n",
    "    index +=len(data_2[column]) +2"
   ]
  },
  {
   "cell_type": "code",
   "execution_count": 131,
   "metadata": {
    "collapsed": false
   },
   "outputs": [
    {
     "data": {
      "text/html": [
       "<div>\n",
       "<table border=\"1\" class=\"dataframe\">\n",
       "  <thead>\n",
       "    <tr style=\"text-align: right;\">\n",
       "      <th></th>\n",
       "      <th>Gain</th>\n",
       "    </tr>\n",
       "  </thead>\n",
       "  <tbody>\n",
       "    <tr>\n",
       "      <th>income</th>\n",
       "      <td>0.540286</td>\n",
       "    </tr>\n",
       "    <tr>\n",
       "      <th>student</th>\n",
       "      <td>0.940286</td>\n",
       "    </tr>\n",
       "    <tr>\n",
       "      <th>credit_rating</th>\n",
       "      <td>-0.010692</td>\n",
       "    </tr>\n",
       "  </tbody>\n",
       "</table>\n",
       "</div>"
      ],
      "text/plain": [
       "                   Gain\n",
       "income         0.540286\n",
       "student        0.940286\n",
       "credit_rating -0.010692"
      ]
     },
     "execution_count": 131,
     "metadata": {},
     "output_type": "execute_result"
    }
   ],
   "source": [
    "data_2_gain = pd.DataFrame([I_y - np.sum(data_2[column]['I'] * data_2[column]['retiao']) for column in data.columns[:-1]], index=data.columns[:-1], columns=['Gain'])\n",
    "data_2_gain"
   ]
  },
  {
   "cell_type": "code",
   "execution_count": 132,
   "metadata": {
    "collapsed": true
   },
   "outputs": [],
   "source": [
    "sht['a12'].options(index=True).value = data_2_gain"
   ]
  },
  {
   "cell_type": "code",
   "execution_count": null,
   "metadata": {
    "collapsed": true
   },
   "outputs": [],
   "source": []
  }
 ],
 "metadata": {
  "kernelspec": {
   "display_name": "Python [conda root]",
   "language": "python",
   "name": "conda-root-py"
  },
  "language_info": {
   "codemirror_mode": {
    "name": "ipython",
    "version": 3
   },
   "file_extension": ".py",
   "mimetype": "text/x-python",
   "name": "python",
   "nbconvert_exporter": "python",
   "pygments_lexer": "ipython3",
   "version": "3.6.2"
  },
  "toc": {
   "nav_menu": {},
   "number_sections": true,
   "sideBar": true,
   "skip_h1_title": false,
   "toc_cell": false,
   "toc_position": {},
   "toc_section_display": "block",
   "toc_window_display": false
  }
 },
 "nbformat": 4,
 "nbformat_minor": 2
}
