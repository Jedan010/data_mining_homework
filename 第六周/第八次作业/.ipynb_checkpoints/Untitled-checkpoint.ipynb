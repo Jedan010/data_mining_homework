{
 "cells": [
  {
   "cell_type": "markdown",
   "metadata": {},
   "source": [
    "# 手算ID3决策树"
   ]
  },
  {
   "cell_type": "code",
   "execution_count": 3,
   "metadata": {
    "collapsed": true
   },
   "outputs": [],
   "source": [
    "import numpy as np\n",
    "import pandas as pd"
   ]
  },
  {
   "cell_type": "code",
   "execution_count": 4,
   "metadata": {
    "collapsed": false,
    "scrolled": false
   },
   "outputs": [
    {
     "data": {
      "text/html": [
       "<div>\n",
       "<table border=\"1\" class=\"dataframe\">\n",
       "  <thead>\n",
       "    <tr style=\"text-align: right;\">\n",
       "      <th></th>\n",
       "      <th>age</th>\n",
       "      <th>income</th>\n",
       "      <th>student</th>\n",
       "      <th>credit_rating</th>\n",
       "      <th>label</th>\n",
       "    </tr>\n",
       "  </thead>\n",
       "  <tbody>\n",
       "    <tr>\n",
       "      <th>0</th>\n",
       "      <td>youth</td>\n",
       "      <td>high</td>\n",
       "      <td>no</td>\n",
       "      <td>fair</td>\n",
       "      <td>no</td>\n",
       "    </tr>\n",
       "    <tr>\n",
       "      <th>1</th>\n",
       "      <td>youth</td>\n",
       "      <td>high</td>\n",
       "      <td>no</td>\n",
       "      <td>excellent</td>\n",
       "      <td>no</td>\n",
       "    </tr>\n",
       "    <tr>\n",
       "      <th>2</th>\n",
       "      <td>middle_age</td>\n",
       "      <td>high</td>\n",
       "      <td>no</td>\n",
       "      <td>fair</td>\n",
       "      <td>yes</td>\n",
       "    </tr>\n",
       "    <tr>\n",
       "      <th>3</th>\n",
       "      <td>senior</td>\n",
       "      <td>medium</td>\n",
       "      <td>no</td>\n",
       "      <td>fair</td>\n",
       "      <td>yes</td>\n",
       "    </tr>\n",
       "    <tr>\n",
       "      <th>4</th>\n",
       "      <td>senior</td>\n",
       "      <td>low</td>\n",
       "      <td>yes</td>\n",
       "      <td>fair</td>\n",
       "      <td>yes</td>\n",
       "    </tr>\n",
       "    <tr>\n",
       "      <th>5</th>\n",
       "      <td>senior</td>\n",
       "      <td>low</td>\n",
       "      <td>yes</td>\n",
       "      <td>excellent</td>\n",
       "      <td>no</td>\n",
       "    </tr>\n",
       "    <tr>\n",
       "      <th>6</th>\n",
       "      <td>middle_age</td>\n",
       "      <td>low</td>\n",
       "      <td>yes</td>\n",
       "      <td>excellent</td>\n",
       "      <td>yes</td>\n",
       "    </tr>\n",
       "    <tr>\n",
       "      <th>7</th>\n",
       "      <td>youth</td>\n",
       "      <td>medium</td>\n",
       "      <td>no</td>\n",
       "      <td>fair</td>\n",
       "      <td>no</td>\n",
       "    </tr>\n",
       "    <tr>\n",
       "      <th>8</th>\n",
       "      <td>youth</td>\n",
       "      <td>low</td>\n",
       "      <td>yes</td>\n",
       "      <td>fair</td>\n",
       "      <td>yes</td>\n",
       "    </tr>\n",
       "    <tr>\n",
       "      <th>9</th>\n",
       "      <td>senior</td>\n",
       "      <td>medium</td>\n",
       "      <td>yes</td>\n",
       "      <td>fair</td>\n",
       "      <td>yes</td>\n",
       "    </tr>\n",
       "    <tr>\n",
       "      <th>10</th>\n",
       "      <td>youth</td>\n",
       "      <td>medium</td>\n",
       "      <td>yes</td>\n",
       "      <td>excellent</td>\n",
       "      <td>yes</td>\n",
       "    </tr>\n",
       "    <tr>\n",
       "      <th>11</th>\n",
       "      <td>middle_age</td>\n",
       "      <td>medium</td>\n",
       "      <td>no</td>\n",
       "      <td>excellent</td>\n",
       "      <td>yes</td>\n",
       "    </tr>\n",
       "    <tr>\n",
       "      <th>12</th>\n",
       "      <td>middle_age</td>\n",
       "      <td>high</td>\n",
       "      <td>yes</td>\n",
       "      <td>fair</td>\n",
       "      <td>yes</td>\n",
       "    </tr>\n",
       "    <tr>\n",
       "      <th>13</th>\n",
       "      <td>senior</td>\n",
       "      <td>medium</td>\n",
       "      <td>no</td>\n",
       "      <td>excellent</td>\n",
       "      <td>no</td>\n",
       "    </tr>\n",
       "  </tbody>\n",
       "</table>\n",
       "</div>"
      ],
      "text/plain": [
       "           age  income student credit_rating label\n",
       "0        youth    high      no          fair    no\n",
       "1        youth    high      no     excellent    no\n",
       "2   middle_age    high      no          fair   yes\n",
       "3       senior  medium      no          fair   yes\n",
       "4       senior     low     yes          fair   yes\n",
       "5       senior     low     yes     excellent    no\n",
       "6   middle_age     low     yes     excellent   yes\n",
       "7        youth  medium      no          fair    no\n",
       "8        youth     low     yes          fair   yes\n",
       "9       senior  medium     yes          fair   yes\n",
       "10       youth  medium     yes     excellent   yes\n",
       "11  middle_age  medium      no     excellent   yes\n",
       "12  middle_age    high     yes          fair   yes\n",
       "13      senior  medium      no     excellent    no"
      ]
     },
     "execution_count": 4,
     "metadata": {},
     "output_type": "execute_result"
    }
   ],
   "source": [
    "data = pd.read_csv('data.csv')\n",
    "data"
   ]
  },
  {
   "cell_type": "markdown",
   "metadata": {},
   "source": [
    "## y的信息量"
   ]
  },
  {
   "cell_type": "markdown",
   "metadata": {},
   "source": [
    "### 定义信息量函数 "
   ]
  },
  {
   "cell_type": "code",
   "execution_count": 122,
   "metadata": {
    "collapsed": false
   },
   "outputs": [],
   "source": [
    "def information(p):\n",
    "    I = - p * np.log2(p)\n",
    "    \n",
    "    return  np.nan_to_num(I)"
   ]
  },
  {
   "cell_type": "code",
   "execution_count": 123,
   "metadata": {
    "collapsed": false,
    "scrolled": true
   },
   "outputs": [
    {
     "name": "stderr",
     "output_type": "stream",
     "text": [
      "C:\\Users\\J\\AppData\\Local\\Continuum\\Anaconda3\\lib\\site-packages\\ipykernel\\__main__.py:2: RuntimeWarning: divide by zero encountered in log2\n",
      "  from ipykernel import kernelapp as app\n",
      "C:\\Users\\J\\AppData\\Local\\Continuum\\Anaconda3\\lib\\site-packages\\ipykernel\\__main__.py:2: RuntimeWarning: invalid value encountered in multiply\n",
      "  from ipykernel import kernelapp as app\n"
     ]
    }
   ],
   "source": [
    "a = information(np.array([1,0,0.5]))"
   ]
  },
  {
   "cell_type": "markdown",
   "metadata": {},
   "source": [
    "### y的类别数"
   ]
  },
  {
   "cell_type": "code",
   "execution_count": 11,
   "metadata": {
    "collapsed": false,
    "scrolled": true
   },
   "outputs": [
    {
     "data": {
      "text/plain": [
       "2"
      ]
     },
     "execution_count": 11,
     "metadata": {},
     "output_type": "execute_result"
    }
   ],
   "source": [
    "y = data['label']\n",
    "y_label_num = len(np.unique(y))\n",
    "y_label_num"
   ]
  },
  {
   "cell_type": "markdown",
   "metadata": {},
   "source": [
    "### 计算各类别占比"
   ]
  },
  {
   "cell_type": "code",
   "execution_count": 17,
   "metadata": {
    "collapsed": false,
    "scrolled": true
   },
   "outputs": [
    {
     "name": "stdout",
     "output_type": "stream",
     "text": [
      "p_y1: 0.35714285714285715\n",
      "p_y2: 0.6428571428571429\n"
     ]
    }
   ],
   "source": [
    "y_1 = y[y == np.unique(data['label'])[0]]\n",
    "y_2 = y[y == np.unique(data['label'])[1]]\n",
    "\n",
    "p_y1 = len(y_1) / len(y)\n",
    "p_y2 = len(y_2) / len(y)\n",
    "\n",
    "print('p_y1:' , p_y1)\n",
    "print('p_y2:' , p_y2)"
   ]
  },
  {
   "cell_type": "markdown",
   "metadata": {},
   "source": [
    "### 计算y的信息量"
   ]
  },
  {
   "cell_type": "code",
   "execution_count": 18,
   "metadata": {
    "collapsed": false
   },
   "outputs": [
    {
     "data": {
      "text/plain": [
       "0.94028595867063114"
      ]
     },
     "execution_count": 18,
     "metadata": {},
     "output_type": "execute_result"
    }
   ],
   "source": [
    "I_y = information(p_y1) + information(p_y2)\n",
    "I_y"
   ]
  },
  {
   "cell_type": "markdown",
   "metadata": {},
   "source": [
    "## 计算信息增益"
   ]
  },
  {
   "cell_type": "code",
   "execution_count": 45,
   "metadata": {
    "collapsed": false,
    "scrolled": false
   },
   "outputs": [
    {
     "data": {
      "text/html": [
       "<div>\n",
       "<table border=\"1\" class=\"dataframe\">\n",
       "  <thead>\n",
       "    <tr style=\"text-align: right;\">\n",
       "      <th></th>\n",
       "      <th>age</th>\n",
       "      <th>label</th>\n",
       "    </tr>\n",
       "  </thead>\n",
       "  <tbody>\n",
       "    <tr>\n",
       "      <th>2</th>\n",
       "      <td>middle_age</td>\n",
       "      <td>yes</td>\n",
       "    </tr>\n",
       "    <tr>\n",
       "      <th>6</th>\n",
       "      <td>middle_age</td>\n",
       "      <td>yes</td>\n",
       "    </tr>\n",
       "    <tr>\n",
       "      <th>11</th>\n",
       "      <td>middle_age</td>\n",
       "      <td>yes</td>\n",
       "    </tr>\n",
       "    <tr>\n",
       "      <th>12</th>\n",
       "      <td>middle_age</td>\n",
       "      <td>yes</td>\n",
       "    </tr>\n",
       "    <tr>\n",
       "      <th>3</th>\n",
       "      <td>senior</td>\n",
       "      <td>yes</td>\n",
       "    </tr>\n",
       "    <tr>\n",
       "      <th>4</th>\n",
       "      <td>senior</td>\n",
       "      <td>yes</td>\n",
       "    </tr>\n",
       "    <tr>\n",
       "      <th>5</th>\n",
       "      <td>senior</td>\n",
       "      <td>no</td>\n",
       "    </tr>\n",
       "    <tr>\n",
       "      <th>9</th>\n",
       "      <td>senior</td>\n",
       "      <td>yes</td>\n",
       "    </tr>\n",
       "    <tr>\n",
       "      <th>13</th>\n",
       "      <td>senior</td>\n",
       "      <td>no</td>\n",
       "    </tr>\n",
       "    <tr>\n",
       "      <th>0</th>\n",
       "      <td>youth</td>\n",
       "      <td>no</td>\n",
       "    </tr>\n",
       "    <tr>\n",
       "      <th>1</th>\n",
       "      <td>youth</td>\n",
       "      <td>no</td>\n",
       "    </tr>\n",
       "    <tr>\n",
       "      <th>7</th>\n",
       "      <td>youth</td>\n",
       "      <td>no</td>\n",
       "    </tr>\n",
       "    <tr>\n",
       "      <th>8</th>\n",
       "      <td>youth</td>\n",
       "      <td>yes</td>\n",
       "    </tr>\n",
       "    <tr>\n",
       "      <th>10</th>\n",
       "      <td>youth</td>\n",
       "      <td>yes</td>\n",
       "    </tr>\n",
       "  </tbody>\n",
       "</table>\n",
       "</div>"
      ],
      "text/plain": [
       "           age label\n",
       "2   middle_age   yes\n",
       "6   middle_age   yes\n",
       "11  middle_age   yes\n",
       "12  middle_age   yes\n",
       "3       senior   yes\n",
       "4       senior   yes\n",
       "5       senior    no\n",
       "9       senior   yes\n",
       "13      senior    no\n",
       "0        youth    no\n",
       "1        youth    no\n",
       "7        youth    no\n",
       "8        youth   yes\n",
       "10       youth   yes"
      ]
     },
     "execution_count": 45,
     "metadata": {},
     "output_type": "execute_result"
    }
   ],
   "source": [
    "data_2 = data[['age','label']].sort_values(by='age')"
   ]
  },
  {
   "cell_type": "markdown",
   "metadata": {},
   "source": [
    "### 计算每个类别的占比"
   ]
  },
  {
   "cell_type": "code",
   "execution_count": 70,
   "metadata": {
    "collapsed": false
   },
   "outputs": [
    {
     "name": "stdout",
     "output_type": "stream",
     "text": [
      "            0  num    retiao   no  yes\n",
      "0  middle_age  4.0  0.285714  0.0  1.0\n",
      "1      senior  5.0  0.357143  0.4  0.6\n",
      "2       youth  5.0  0.357143  0.6  0.4\n"
     ]
    }
   ],
   "source": [
    "data_2_retio = pd.DataFrame(np.unique(data['age']))\n",
    "from statsmodels.tools import categorical\n",
    "data_2_retio['num'] = np.sum(categorical(data['age'].values, drop=True), axis=0)\n",
    "data_2_retio['retiao'] = np.sum(categorical(data['age'].values, drop=True), axis=0) / len(data)\n",
    "\n",
    "for y_value in np.unique(y):\n",
    "    data_2_retio[y_value] = [len(data.loc[data.age==x_value].loc[data.label==y_value])/len(data.loc[data.age==x_value]) for x_value in np.unique(data['age']) ] \n",
    "    \n",
    "print(data_2_retio)"
   ]
  },
  {
   "cell_type": "code",
   "execution_count": 148,
   "metadata": {
    "collapsed": false,
    "scrolled": false
   },
   "outputs": [
    {
     "name": "stdout",
     "output_type": "stream",
     "text": [
      "age:\n",
      "            0  num    retiao   no      I_no  yes     I_yes         I\n",
      "0  middle_age  4.0  0.285714  0.0  0.000000  1.0 -0.000000  0.000000\n",
      "1      senior  5.0  0.357143  0.4  0.528771  0.6  0.442179  0.970951\n",
      "2       youth  5.0  0.357143  0.6  0.442179  0.4  0.528771  0.970951\n",
      "\n",
      "\n",
      "\n",
      "income:\n",
      "        0  num    retiao        no      I_no       yes     I_yes         I\n",
      "0    high  4.0  0.285714  0.500000  0.500000  0.500000  0.500000  1.000000\n",
      "1     low  4.0  0.285714  0.250000  0.500000  0.750000  0.311278  0.811278\n",
      "2  medium  6.0  0.428571  0.333333  0.528321  0.666667  0.389975  0.918296\n",
      "\n",
      "\n",
      "\n",
      "student:\n",
      "     0  num  retiao        no      I_no       yes     I_yes         I\n",
      "0   no  7.0     0.5  0.571429  0.461346  0.428571  0.523882  0.985228\n",
      "1  yes  7.0     0.5  0.142857  0.401051  0.857143  0.190622  0.591673\n",
      "\n",
      "\n",
      "\n",
      "credit_rating:\n",
      "           0  num    retiao    no  I_no   yes     I_yes         I\n",
      "0  excellent  6.0  0.428571  0.50   0.5  0.50  0.500000  1.000000\n",
      "1       fair  8.0  0.571429  0.25   0.5  0.75  0.311278  0.811278\n",
      "\n",
      "\n",
      "\n"
     ]
    },
    {
     "name": "stderr",
     "output_type": "stream",
     "text": [
      "C:\\Users\\J\\AppData\\Local\\Continuum\\Anaconda3\\lib\\site-packages\\ipykernel\\__main__.py:2: RuntimeWarning: divide by zero encountered in log2\n",
      "  from ipykernel import kernelapp as app\n",
      "C:\\Users\\J\\AppData\\Local\\Continuum\\Anaconda3\\lib\\site-packages\\ipykernel\\__main__.py:2: RuntimeWarning: invalid value encountered in multiply\n",
      "  from ipykernel import kernelapp as app\n"
     ]
    }
   ],
   "source": [
    "from statsmodels.tools import categorical\n",
    "data_2 = {}\n",
    "for column in data.columns[:-1]:\n",
    "    data_2_df = pd.DataFrame(np.unique(data[column]))\n",
    "    \n",
    "    data_2_df['num'] = np.sum(categorical(data[column].values, drop=True), axis=0)\n",
    "    data_2_df['retiao'] = np.sum(categorical(data[column].values, drop=True), axis=0) / len(data)\n",
    "\n",
    "    for y_value in np.unique(y):\n",
    "        data_2_df[y_value] = [len(data.loc[data[column]==x_value].loc[data.label==y_value])/len(data.loc[data[column]==x_value]) for x_value in np.unique(data[column]) ] \n",
    "    \n",
    "        data_2_df['I'+'_'+y_value] = information(data_2_df[y_value].values)\n",
    "    \n",
    "    data_2_df['I'] = data_2_df['I_yes'] + data_2_df['I_no'] \n",
    "       \n",
    "    print(column + ':')\n",
    "    print(data_2_df)\n",
    "    print('\\n\\n')\n",
    "    data_2[column] = data_2_df"
   ]
  },
  {
   "cell_type": "markdown",
   "metadata": {},
   "source": [
    "### 计算信息增益"
   ]
  },
  {
   "cell_type": "code",
   "execution_count": 147,
   "metadata": {
    "collapsed": false,
    "scrolled": true
   },
   "outputs": [
    {
     "name": "stdout",
     "output_type": "stream",
     "text": [
      "age 的信息增益值为 0.246749819774 \n",
      "\n",
      "income 的信息增益值为 0.029222565659 \n",
      "\n",
      "student 的信息增益值为 0.151835501362 \n",
      "\n",
      "credit_rating 的信息增益值为 0.0481270304083 \n",
      "\n"
     ]
    }
   ],
   "source": [
    "for column in data.columns[:-1]:\n",
    "    entropy = np.sum(data_2[column]['I'] * data_2[column]['retiao'])\n",
    "    gain = I_y -entropy\n",
    "    print(column , '的信息增益值为', gain, '\\n')"
   ]
  },
  {
   "cell_type": "code",
   "execution_count": 152,
   "metadata": {
    "collapsed": false,
    "scrolled": true
   },
   "outputs": [
    {
     "data": {
      "text/html": [
       "<div>\n",
       "<table border=\"1\" class=\"dataframe\">\n",
       "  <thead>\n",
       "    <tr style=\"text-align: right;\">\n",
       "      <th></th>\n",
       "      <th>Gain</th>\n",
       "    </tr>\n",
       "  </thead>\n",
       "  <tbody>\n",
       "    <tr>\n",
       "      <th>age</th>\n",
       "      <td>0.246750</td>\n",
       "    </tr>\n",
       "    <tr>\n",
       "      <th>income</th>\n",
       "      <td>0.029223</td>\n",
       "    </tr>\n",
       "    <tr>\n",
       "      <th>student</th>\n",
       "      <td>0.151836</td>\n",
       "    </tr>\n",
       "    <tr>\n",
       "      <th>credit_rating</th>\n",
       "      <td>0.048127</td>\n",
       "    </tr>\n",
       "  </tbody>\n",
       "</table>\n",
       "</div>"
      ],
      "text/plain": [
       "                   Gain\n",
       "age            0.246750\n",
       "income         0.029223\n",
       "student        0.151836\n",
       "credit_rating  0.048127"
      ]
     },
     "execution_count": 152,
     "metadata": {},
     "output_type": "execute_result"
    }
   ],
   "source": [
    "data_2_gain = pd.DataFrame([I_y - np.sum(data_2[column]['I'] * data_2[column]['retiao']) for column in data.columns[:-1]], index=data.columns[:-1], columns=['Gain'])\n",
    "data_2_gain"
   ]
  },
  {
   "cell_type": "markdown",
   "metadata": {},
   "source": [
    "可以看出age的信息增益最大，所以按age划分"
   ]
  },
  {
   "cell_type": "code",
   "execution_count": 170,
   "metadata": {
    "collapsed": false
   },
   "outputs": [
    {
     "name": "stdout",
     "output_type": "stream",
     "text": [
      "middle_age\n",
      "           age  income student credit_rating label\n",
      "2   middle_age    high      no          fair   yes\n",
      "6   middle_age     low     yes     excellent   yes\n",
      "11  middle_age  medium      no     excellent   yes\n",
      "12  middle_age    high     yes          fair   yes\n",
      "\n",
      "senior\n",
      "       age  income student credit_rating label\n",
      "3   senior  medium      no          fair   yes\n",
      "4   senior     low     yes          fair   yes\n",
      "5   senior     low     yes     excellent    no\n",
      "9   senior  medium     yes          fair   yes\n",
      "13  senior  medium      no     excellent    no\n",
      "\n",
      "youth\n",
      "      age  income student credit_rating label\n",
      "0   youth    high      no          fair    no\n",
      "1   youth    high      no     excellent    no\n",
      "7   youth  medium      no          fair    no\n",
      "8   youth     low     yes          fair   yes\n",
      "10  youth  medium     yes     excellent   yes\n",
      "\n"
     ]
    }
   ],
   "source": [
    "data_3 = dict(list(data.groupby(by='age')))\n",
    "for key, value in data_3.items():\n",
    "    print(key)\n",
    "    print(value)\n",
    "    print()"
   ]
  },
  {
   "cell_type": "code",
   "execution_count": 167,
   "metadata": {
    "collapsed": false
   },
   "outputs": [
    {
     "data": {
      "text/plain": [
       "{'middle_age':            age  income student credit_rating label\n",
       " 2   middle_age    high      no          fair   yes\n",
       " 6   middle_age     low     yes     excellent   yes\n",
       " 11  middle_age  medium      no     excellent   yes\n",
       " 12  middle_age    high     yes          fair   yes,\n",
       " 'senior':        age  income student credit_rating label\n",
       " 3   senior  medium      no          fair   yes\n",
       " 4   senior     low     yes          fair   yes\n",
       " 5   senior     low     yes     excellent    no\n",
       " 9   senior  medium     yes          fair   yes\n",
       " 13  senior  medium      no     excellent    no,\n",
       " 'youth':       age  income student credit_rating label\n",
       " 0   youth    high      no          fair    no\n",
       " 1   youth    high      no     excellent    no\n",
       " 7   youth  medium      no          fair    no\n",
       " 8   youth     low     yes          fair   yes\n",
       " 10  youth  medium     yes     excellent   yes}"
      ]
     },
     "execution_count": 167,
     "metadata": {},
     "output_type": "execute_result"
    }
   ],
   "source": []
  },
  {
   "cell_type": "code",
   "execution_count": null,
   "metadata": {
    "collapsed": true
   },
   "outputs": [],
   "source": []
  }
 ],
 "metadata": {
  "kernelspec": {
   "display_name": "Python [conda root]",
   "language": "python",
   "name": "conda-root-py"
  },
  "language_info": {
   "codemirror_mode": {
    "name": "ipython",
    "version": 3
   },
   "file_extension": ".py",
   "mimetype": "text/x-python",
   "name": "python",
   "nbconvert_exporter": "python",
   "pygments_lexer": "ipython3",
   "version": "3.6.2"
  },
  "toc": {
   "nav_menu": {},
   "number_sections": true,
   "sideBar": true,
   "skip_h1_title": false,
   "toc_cell": false,
   "toc_position": {},
   "toc_section_display": "block",
   "toc_window_display": false
  }
 },
 "nbformat": 4,
 "nbformat_minor": 2
}
