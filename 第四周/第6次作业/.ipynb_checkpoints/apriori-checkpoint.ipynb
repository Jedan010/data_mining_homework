{
 "cells": [
  {
   "cell_type": "code",
   "execution_count": 6,
   "metadata": {
    "collapsed": false
   },
   "outputs": [],
   "source": [
    "from apyori import apriori\n",
    "\n",
    "data = [\n",
    "    ['m', 'o', 'n', 'k', 'e', 'y' ],\n",
    "    ['d', 'o', 'n', 'k', 'e', 'y' ],\n",
    "    ['m', 'a', 'k', 'e','',''],\n",
    "    ['m', 'u', 'c', 'k', 'y',''],\n",
    "    ['c', 'o', 'o', 'k', 'i', 'e']\n",
    "       ]"
   ]
  },
  {
   "cell_type": "code",
   "execution_count": 34,
   "metadata": {
    "collapsed": false
   },
   "outputs": [
    {
     "data": {
      "text/plain": [
       "[['m', 'o', 'n', 'k', 'e', 'y'],\n",
       " ['d', 'o', 'n', 'k', 'e', 'y'],\n",
       " ['m', 'a', 'k', 'e'],\n",
       " ['m', 'u', 'c', 'k', 'y'],\n",
       " ['c', 'o', 'o', 'k', 'i', 'e']]"
      ]
     },
     "execution_count": 34,
     "metadata": {},
     "output_type": "execute_result"
    }
   ],
   "source": [
    "lists = ['monkey','donkey','make','mucky','cookie']\n",
    "data = [[str(i) for i in item] for item in lists]\n",
    "data"
   ]
  },
  {
   "cell_type": "code",
   "execution_count": 7,
   "metadata": {
    "collapsed": false
   },
   "outputs": [
    {
     "name": "stdout",
     "output_type": "stream",
     "text": [
      "[RelationRecord(items=frozenset({'e'}), support=0.8, ordered_statistics=[OrderedStatistic(items_base=frozenset(), items_add=frozenset({'e'}), confidence=0.8, lift=1.0)]), RelationRecord(items=frozenset({'k'}), support=1.0, ordered_statistics=[OrderedStatistic(items_base=frozenset(), items_add=frozenset({'k'}), confidence=1.0, lift=1.0)]), RelationRecord(items=frozenset({'k', 'e'}), support=0.8, ordered_statistics=[OrderedStatistic(items_base=frozenset({'e'}), items_add=frozenset({'k'}), confidence=1.0, lift=1.0), OrderedStatistic(items_base=frozenset({'k'}), items_add=frozenset({'e'}), confidence=0.8, lift=1.0)]), RelationRecord(items=frozenset({'e', 'o'}), support=0.6, ordered_statistics=[OrderedStatistic(items_base=frozenset({'o'}), items_add=frozenset({'e'}), confidence=1.0, lift=1.25)]), RelationRecord(items=frozenset({'k', 'm'}), support=0.6, ordered_statistics=[OrderedStatistic(items_base=frozenset({'m'}), items_add=frozenset({'k'}), confidence=1.0, lift=1.0)]), RelationRecord(items=frozenset({'k', 'o'}), support=0.6, ordered_statistics=[OrderedStatistic(items_base=frozenset({'o'}), items_add=frozenset({'k'}), confidence=1.0, lift=1.0)]), RelationRecord(items=frozenset({'k', 'y'}), support=0.6, ordered_statistics=[OrderedStatistic(items_base=frozenset({'y'}), items_add=frozenset({'k'}), confidence=1.0, lift=1.0)]), RelationRecord(items=frozenset({'k', 'e', 'o'}), support=0.6, ordered_statistics=[OrderedStatistic(items_base=frozenset({'e', 'o'}), items_add=frozenset({'k'}), confidence=1.0, lift=1.0), OrderedStatistic(items_base=frozenset({'k', 'o'}), items_add=frozenset({'e'}), confidence=1.0, lift=1.25)])]\n"
     ]
    }
   ],
   "source": [
    "result = list(apriori(data, min_support=0.6, min_confidence=0.8))\n",
    "print(result)"
   ]
  },
  {
   "cell_type": "code",
   "execution_count": 9,
   "metadata": {
    "collapsed": false
   },
   "outputs": [
    {
     "name": "stdout",
     "output_type": "stream",
     "text": [
      "\n",
      "RelationRecord(items=frozenset({'k', 'e'}), support=0.8, ordered_statistics=[OrderedStatistic(items_base=frozenset({'e'}), items_add=frozenset({'k'}), confidence=1.0, lift=1.0), OrderedStatistic(items_base=frozenset({'k'}), items_add=frozenset({'e'}), confidence=0.8, lift=1.0)])\n",
      "\n",
      "RelationRecord(items=frozenset({'e', 'o'}), support=0.6, ordered_statistics=[OrderedStatistic(items_base=frozenset({'o'}), items_add=frozenset({'e'}), confidence=1.0, lift=1.25)])\n",
      "\n",
      "RelationRecord(items=frozenset({'k', 'm'}), support=0.6, ordered_statistics=[OrderedStatistic(items_base=frozenset({'m'}), items_add=frozenset({'k'}), confidence=1.0, lift=1.0)])\n",
      "\n",
      "RelationRecord(items=frozenset({'k', 'o'}), support=0.6, ordered_statistics=[OrderedStatistic(items_base=frozenset({'o'}), items_add=frozenset({'k'}), confidence=1.0, lift=1.0)])\n",
      "\n",
      "RelationRecord(items=frozenset({'k', 'y'}), support=0.6, ordered_statistics=[OrderedStatistic(items_base=frozenset({'y'}), items_add=frozenset({'k'}), confidence=1.0, lift=1.0)])\n",
      "\n",
      "RelationRecord(items=frozenset({'k', 'e', 'o'}), support=0.6, ordered_statistics=[OrderedStatistic(items_base=frozenset({'e', 'o'}), items_add=frozenset({'k'}), confidence=1.0, lift=1.0), OrderedStatistic(items_base=frozenset({'k', 'o'}), items_add=frozenset({'e'}), confidence=1.0, lift=1.25)])\n"
     ]
    }
   ],
   "source": [
    "for r in result[2:]:\n",
    "    print('')\n",
    "    print(r)"
   ]
  },
  {
   "cell_type": "code",
   "execution_count": 39,
   "metadata": {
    "collapsed": false
   },
   "outputs": [],
   "source": [
    "with open('result.csv', 'w') as f:\n",
    "    for r in result[2:]:\n",
    "        f.write(str(r))"
   ]
  },
  {
   "cell_type": "code",
   "execution_count": 64,
   "metadata": {
    "collapsed": false
   },
   "outputs": [],
   "source": [
    "import xlwings as xw\n",
    "xb = xw.Book('apriori.xlsx')\n",
    "sheet = xb.sheets[0]\n",
    "sheet.range('A1').value = np.array(data)"
   ]
  },
  {
   "cell_type": "code",
   "execution_count": 61,
   "metadata": {
    "collapsed": false
   },
   "outputs": [],
   "source": [
    "sheet.range('A1').value = [['m', 'o', 'n', 'k', 'e', 'y'],['d', 'o', 'n', 'k', 'e', 'y'],['m', 'a', 'k', 'e'],]"
   ]
  },
  {
   "cell_type": "code",
   "execution_count": 49,
   "metadata": {
    "collapsed": false
   },
   "outputs": [],
   "source": [
    "import numpy as np\n",
    "b = np.array(data)"
   ]
  },
  {
   "cell_type": "code",
   "execution_count": 62,
   "metadata": {
    "collapsed": false
   },
   "outputs": [
    {
     "data": {
      "text/plain": [
       "[['m', 'o', 'n', 'k', 'e', 'y'],\n",
       " ['d', 'o', 'n', 'k', 'e', 'y'],\n",
       " ['m', 'a', 'k', 'e'],\n",
       " ['m', 'u', 'c', 'k', 'y'],\n",
       " ['c', 'q', 'o', 'k', 'i', 'e']]"
      ]
     },
     "execution_count": 62,
     "metadata": {},
     "output_type": "execute_result"
    }
   ],
   "source": [
    "data"
   ]
  },
  {
   "cell_type": "code",
   "execution_count": null,
   "metadata": {
    "collapsed": true
   },
   "outputs": [],
   "source": []
  }
 ],
 "metadata": {
  "kernelspec": {
   "display_name": "Python [default]",
   "language": "python",
   "name": "python3"
  },
  "language_info": {
   "codemirror_mode": {
    "name": "ipython",
    "version": 3
   },
   "file_extension": ".py",
   "mimetype": "text/x-python",
   "name": "python",
   "nbconvert_exporter": "python",
   "pygments_lexer": "ipython3",
   "version": "3.6.2"
  },
  "toc": {
   "nav_menu": {},
   "number_sections": true,
   "sideBar": true,
   "skip_h1_title": false,
   "toc_cell": false,
   "toc_position": {},
   "toc_section_display": "block",
   "toc_window_display": false
  },
  "varInspector": {
   "cols": {
    "lenName": 16,
    "lenType": 16,
    "lenVar": 40
   },
   "kernels_config": {
    "python": {
     "delete_cmd_postfix": "",
     "delete_cmd_prefix": "del ",
     "library": "var_list.py",
     "varRefreshCmd": "print(var_dic_list())"
    },
    "r": {
     "delete_cmd_postfix": ") ",
     "delete_cmd_prefix": "rm(",
     "library": "var_list.r",
     "varRefreshCmd": "cat(var_dic_list()) "
    }
   },
   "types_to_exclude": [
    "module",
    "function",
    "builtin_function_or_method",
    "instance",
    "_Feature"
   ],
   "window_display": false
  }
 },
 "nbformat": 4,
 "nbformat_minor": 2
}
