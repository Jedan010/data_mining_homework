{
 "cells": [
  {
   "cell_type": "code",
   "execution_count": 1,
   "metadata": {
    "collapsed": false
   },
   "outputs": [],
   "source": [
    "def apriori(data_set, min_support, min_confidence, print_result=True):\n",
    "    \n",
    "    import itertools\n",
    "    num = len(data_set)\n",
    "    min_s = min_support * num\n",
    "    data_list = set(item for data in data_set for item in data)\n",
    "    k = num\n",
    "    items = {}\n",
    "    C = {}\n",
    "\n",
    "    L = {}\n",
    "    L_rule = {}\n",
    "\n",
    "\n",
    "    for i in range(1,k+1):\n",
    "\n",
    "        ##用于计算C\n",
    "        items['item_' + str(i)] = set(itertools.combinations(data_list,i))\n",
    "        C['C_'+str(i)] = {}\n",
    "        L['L_'+str(i)] = {}\n",
    "        for item in items['item_' + str(i)]:\n",
    "            s = 0\n",
    "            for data in data_set:\n",
    "                if set(item).issubset(data):\n",
    "                    s += 1 \n",
    "            C['C_'+str(i)][item] = s\n",
    "        ## 用于计算L\n",
    "        for item in C['C_'+str(i)]:\n",
    "            if C['C_'+str(i)][item] >= min_s:\n",
    "                L['L_'+str(i)][item] = C['C_'+str(i)][item]\n",
    "        \n",
    "        ## 用于终止频繁项集的迭代\n",
    "        if not L['L_'+str(i)]:\n",
    "            break\n",
    "\n",
    "        ## 用于计算强相关规则\n",
    "        L_rule['L_'+str(i)] = []\n",
    "        for m in L['L_'+str(i)]:\n",
    "            for n in range(1,i):\n",
    "                for j in itertools.combinations(m,n):\n",
    "                    x = j\n",
    "                    y = set(m) - set(x)      \n",
    "                    x_num = L['L_'+str(len(x))].get(tuple(x))\n",
    "                    y_num = L['L_'+str(len(m))][m]\n",
    "\n",
    "                    support = x_num / num *100\n",
    "                    confidence = y_num / x_num *100\n",
    "\n",
    "                    if confidence >= min_confidence*100:\n",
    "                        L_rule['L_'+str(i)].append([set(x) , y, str(round(support, 2))+'%', str(round(confidence, 2))+'%'])\n",
    "                        \n",
    "                        if print_result:\n",
    "                            print(set(x) , '==>' , y, end='\\t\\t')\n",
    "                            print('support: %.2f%%' %float(support), end='\\t\\t')\n",
    "                            print('confidence: %.2f%%' %float(confidence))\n",
    "    return L_rule, L\n",
    "                    \n",
    "   "
   ]
  },
  {
   "cell_type": "code",
   "execution_count": 11,
   "metadata": {
    "collapsed": false
   },
   "outputs": [
    {
     "name": "stdout",
     "output_type": "stream",
     "text": [
      "rule关联规则的结果：\n",
      "{'L_1': [],\n",
      " 'L_2': [[{'l4'}, {'l2'}, '22.22%', '100.0%'],\n",
      "         [{'l5'}, {'l1'}, '22.22%', '100.0%'],\n",
      "         [{'l5'}, {'l2'}, '22.22%', '100.0%']],\n",
      " 'L_3': [[{'l5'}, {'l1', 'l2'}, '22.22%', '100.0%'],\n",
      "         [{'l2', 'l5'}, {'l1'}, '22.22%', '100.0%'],\n",
      "         [{'l1', 'l5'}, {'l2'}, '22.22%', '100.0%']]}\n",
      "\n",
      "l频繁项级的结果：\n",
      "{'L_1': {('l1',): 6, ('l2',): 7, ('l3',): 6, ('l4',): 2, ('l5',): 2},\n",
      " 'L_2': {('l1', 'l5'): 2,\n",
      "         ('l2', 'l1'): 4,\n",
      "         ('l2', 'l3'): 4,\n",
      "         ('l2', 'l4'): 2,\n",
      "         ('l2', 'l5'): 2,\n",
      "         ('l3', 'l1'): 4},\n",
      " 'L_3': {('l2', 'l1', 'l5'): 2, ('l2', 'l3', 'l1'): 2},\n",
      " 'L_4': {}}\n"
     ]
    }
   ],
   "source": [
    "## test 1:\n",
    "data = [['l1', 'l2', 'l5'], ['l2', 'l4'], ['l2', 'l3'],\n",
    "        ['l1', 'l2', 'l4'], ['l1', 'l3'], ['l2', 'l3'],\n",
    "        ['l1', 'l3'], ['l1', 'l2', 'l3', 'l5'], ['l1', 'l2', 'l3']]\n",
    "\n",
    "min_support = 0.22\n",
    "min_confidence = 0.7\n",
    "\n",
    "rule, l = apriori(data, min_support, min_confidence, print_result=False)\n",
    "\n",
    "import pprint\n",
    "print('rule关联规则的结果：')\n",
    "pprint.pprint(rule)\n",
    "print()\n",
    "print('l频繁项级的结果：')\n",
    "pprint.pprint(l)"
   ]
  },
  {
   "cell_type": "code",
   "execution_count": 12,
   "metadata": {
    "collapsed": false
   },
   "outputs": [
    {
     "name": "stdout",
     "output_type": "stream",
     "text": [
      "{'k'} ==> {'e'}\t\tsupport: 100.00%\t\tconfidence: 80.00%\n",
      "{'e'} ==> {'k'}\t\tsupport: 80.00%\t\tconfidence: 100.00%\n",
      "{'o'} ==> {'e'}\t\tsupport: 60.00%\t\tconfidence: 100.00%\n",
      "{'o'} ==> {'k'}\t\tsupport: 60.00%\t\tconfidence: 100.00%\n",
      "{'y'} ==> {'k'}\t\tsupport: 60.00%\t\tconfidence: 100.00%\n",
      "{'m'} ==> {'k'}\t\tsupport: 60.00%\t\tconfidence: 100.00%\n",
      "{'o'} ==> {'e', 'k'}\t\tsupport: 60.00%\t\tconfidence: 100.00%\n",
      "{'o', 'k'} ==> {'e'}\t\tsupport: 60.00%\t\tconfidence: 100.00%\n",
      "{'o', 'e'} ==> {'k'}\t\tsupport: 60.00%\t\tconfidence: 100.00%\n"
     ]
    }
   ],
   "source": [
    "## test 2:\n",
    "data_set = ['monkey','donkey', 'make', 'mucky', 'cookie']\n",
    "data = [[_ for _ in d] for d in data_set]\n",
    "min_support = 0.6\n",
    "min_confidence = 0.8\n",
    "\n",
    "rule, l = apriori(data, min_support, min_confidence)"
   ]
  },
  {
   "cell_type": "code",
   "execution_count": null,
   "metadata": {
    "collapsed": true
   },
   "outputs": [],
   "source": []
  }
 ],
 "metadata": {
  "kernelspec": {
   "display_name": "Python [default]",
   "language": "python",
   "name": "python3"
  },
  "language_info": {
   "codemirror_mode": {
    "name": "ipython",
    "version": 3
   },
   "file_extension": ".py",
   "mimetype": "text/x-python",
   "name": "python",
   "nbconvert_exporter": "python",
   "pygments_lexer": "ipython3",
   "version": "3.6.2"
  },
  "toc": {
   "nav_menu": {},
   "number_sections": true,
   "sideBar": true,
   "skip_h1_title": false,
   "toc_cell": false,
   "toc_position": {},
   "toc_section_display": "block",
   "toc_window_display": false
  },
  "varInspector": {
   "cols": {
    "lenName": 16,
    "lenType": 16,
    "lenVar": 40
   },
   "kernels_config": {
    "python": {
     "delete_cmd_postfix": "",
     "delete_cmd_prefix": "del ",
     "library": "var_list.py",
     "varRefreshCmd": "print(var_dic_list())"
    },
    "r": {
     "delete_cmd_postfix": ") ",
     "delete_cmd_prefix": "rm(",
     "library": "var_list.r",
     "varRefreshCmd": "cat(var_dic_list()) "
    }
   },
   "types_to_exclude": [
    "module",
    "function",
    "builtin_function_or_method",
    "instance",
    "_Feature"
   ],
   "window_display": false
  }
 },
 "nbformat": 4,
 "nbformat_minor": 2
}
