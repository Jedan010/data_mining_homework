{
 "cells": [
  {
   "cell_type": "code",
   "execution_count": 1,
   "metadata": {
    "collapsed": true
   },
   "outputs": [],
   "source": [
    "import pandas as pd\n",
    "import numpy as np\n",
    "import matplotlib.pyplot as plt\n",
    "import seaborn as sns\n",
    "%matplotlib inline\n",
    "from pyecharts import Pie\n",
    "import missingno as msno"
   ]
  },
  {
   "cell_type": "markdown",
   "metadata": {},
   "source": [
    "## 导入数据"
   ]
  },
  {
   "cell_type": "code",
   "execution_count": 2,
   "metadata": {
    "collapsed": false
   },
   "outputs": [
    {
     "data": {
      "text/html": [
       "<div>\n",
       "<style>\n",
       "    .dataframe thead tr:only-child th {\n",
       "        text-align: right;\n",
       "    }\n",
       "\n",
       "    .dataframe thead th {\n",
       "        text-align: left;\n",
       "    }\n",
       "\n",
       "    .dataframe tbody tr th {\n",
       "        vertical-align: top;\n",
       "    }\n",
       "</style>\n",
       "<table border=\"1\" class=\"dataframe\">\n",
       "  <thead>\n",
       "    <tr style=\"text-align: right;\">\n",
       "      <th></th>\n",
       "      <th>Status_of_existing_checking_account</th>\n",
       "      <th>Duration_in_month</th>\n",
       "      <th>Credit_history</th>\n",
       "      <th>Purpose</th>\n",
       "      <th>Credit_amount</th>\n",
       "      <th>Savings_account</th>\n",
       "      <th>Present_employment_since</th>\n",
       "      <th>Installment_rate_in_percentage_of_disposable_income</th>\n",
       "      <th>Personal_status_and_sex</th>\n",
       "      <th>guarantors</th>\n",
       "      <th>...</th>\n",
       "      <th>Property</th>\n",
       "      <th>Age</th>\n",
       "      <th>Other_installment_plans</th>\n",
       "      <th>Housing</th>\n",
       "      <th>Number_of_existing_credits_at_this_bank</th>\n",
       "      <th>Job</th>\n",
       "      <th>Number_of_people_being_liable_to_provide_maintenance_for</th>\n",
       "      <th>Telephone</th>\n",
       "      <th>foreign_worker</th>\n",
       "      <th>label</th>\n",
       "    </tr>\n",
       "  </thead>\n",
       "  <tbody>\n",
       "    <tr>\n",
       "      <th>0</th>\n",
       "      <td>A11</td>\n",
       "      <td>6</td>\n",
       "      <td>A34</td>\n",
       "      <td>A43</td>\n",
       "      <td>1169</td>\n",
       "      <td>A65</td>\n",
       "      <td>A75</td>\n",
       "      <td>4</td>\n",
       "      <td>A93</td>\n",
       "      <td>A101</td>\n",
       "      <td>...</td>\n",
       "      <td>A121</td>\n",
       "      <td>67</td>\n",
       "      <td>A143</td>\n",
       "      <td>A152</td>\n",
       "      <td>2</td>\n",
       "      <td>A173</td>\n",
       "      <td>1</td>\n",
       "      <td>A192</td>\n",
       "      <td>A201</td>\n",
       "      <td>1</td>\n",
       "    </tr>\n",
       "    <tr>\n",
       "      <th>1</th>\n",
       "      <td>A12</td>\n",
       "      <td>48</td>\n",
       "      <td>A32</td>\n",
       "      <td>A43</td>\n",
       "      <td>5951</td>\n",
       "      <td>A61</td>\n",
       "      <td>A73</td>\n",
       "      <td>2</td>\n",
       "      <td>A92</td>\n",
       "      <td>A101</td>\n",
       "      <td>...</td>\n",
       "      <td>A121</td>\n",
       "      <td>22</td>\n",
       "      <td>A143</td>\n",
       "      <td>A152</td>\n",
       "      <td>1</td>\n",
       "      <td>A173</td>\n",
       "      <td>1</td>\n",
       "      <td>A191</td>\n",
       "      <td>A201</td>\n",
       "      <td>0</td>\n",
       "    </tr>\n",
       "    <tr>\n",
       "      <th>2</th>\n",
       "      <td>A14</td>\n",
       "      <td>12</td>\n",
       "      <td>A34</td>\n",
       "      <td>A46</td>\n",
       "      <td>2096</td>\n",
       "      <td>A61</td>\n",
       "      <td>A74</td>\n",
       "      <td>2</td>\n",
       "      <td>A93</td>\n",
       "      <td>A101</td>\n",
       "      <td>...</td>\n",
       "      <td>A121</td>\n",
       "      <td>49</td>\n",
       "      <td>A143</td>\n",
       "      <td>A152</td>\n",
       "      <td>1</td>\n",
       "      <td>A172</td>\n",
       "      <td>2</td>\n",
       "      <td>A191</td>\n",
       "      <td>A201</td>\n",
       "      <td>1</td>\n",
       "    </tr>\n",
       "    <tr>\n",
       "      <th>3</th>\n",
       "      <td>A11</td>\n",
       "      <td>42</td>\n",
       "      <td>A32</td>\n",
       "      <td>A42</td>\n",
       "      <td>7882</td>\n",
       "      <td>A61</td>\n",
       "      <td>A74</td>\n",
       "      <td>2</td>\n",
       "      <td>A93</td>\n",
       "      <td>A103</td>\n",
       "      <td>...</td>\n",
       "      <td>A122</td>\n",
       "      <td>45</td>\n",
       "      <td>A143</td>\n",
       "      <td>A153</td>\n",
       "      <td>1</td>\n",
       "      <td>A173</td>\n",
       "      <td>2</td>\n",
       "      <td>A191</td>\n",
       "      <td>A201</td>\n",
       "      <td>1</td>\n",
       "    </tr>\n",
       "    <tr>\n",
       "      <th>4</th>\n",
       "      <td>A11</td>\n",
       "      <td>24</td>\n",
       "      <td>A33</td>\n",
       "      <td>A40</td>\n",
       "      <td>4870</td>\n",
       "      <td>A61</td>\n",
       "      <td>A73</td>\n",
       "      <td>3</td>\n",
       "      <td>A93</td>\n",
       "      <td>A101</td>\n",
       "      <td>...</td>\n",
       "      <td>A124</td>\n",
       "      <td>53</td>\n",
       "      <td>A143</td>\n",
       "      <td>A153</td>\n",
       "      <td>2</td>\n",
       "      <td>A173</td>\n",
       "      <td>2</td>\n",
       "      <td>A191</td>\n",
       "      <td>A201</td>\n",
       "      <td>0</td>\n",
       "    </tr>\n",
       "  </tbody>\n",
       "</table>\n",
       "<p>5 rows × 21 columns</p>\n",
       "</div>"
      ],
      "text/plain": [
       "  Status_of_existing_checking_account  Duration_in_month Credit_history  \\\n",
       "0                                 A11                  6            A34   \n",
       "1                                 A12                 48            A32   \n",
       "2                                 A14                 12            A34   \n",
       "3                                 A11                 42            A32   \n",
       "4                                 A11                 24            A33   \n",
       "\n",
       "  Purpose  Credit_amount Savings_account Present_employment_since  \\\n",
       "0     A43           1169             A65                      A75   \n",
       "1     A43           5951             A61                      A73   \n",
       "2     A46           2096             A61                      A74   \n",
       "3     A42           7882             A61                      A74   \n",
       "4     A40           4870             A61                      A73   \n",
       "\n",
       "   Installment_rate_in_percentage_of_disposable_income  \\\n",
       "0                                                  4     \n",
       "1                                                  2     \n",
       "2                                                  2     \n",
       "3                                                  2     \n",
       "4                                                  3     \n",
       "\n",
       "  Personal_status_and_sex guarantors  ...   Property Age  \\\n",
       "0                     A93       A101  ...       A121  67   \n",
       "1                     A92       A101  ...       A121  22   \n",
       "2                     A93       A101  ...       A121  49   \n",
       "3                     A93       A103  ...       A122  45   \n",
       "4                     A93       A101  ...       A124  53   \n",
       "\n",
       "   Other_installment_plans Housing Number_of_existing_credits_at_this_bank  \\\n",
       "0                     A143    A152                                       2   \n",
       "1                     A143    A152                                       1   \n",
       "2                     A143    A152                                       1   \n",
       "3                     A143    A153                                       1   \n",
       "4                     A143    A153                                       2   \n",
       "\n",
       "    Job Number_of_people_being_liable_to_provide_maintenance_for  Telephone  \\\n",
       "0  A173                                                  1             A192   \n",
       "1  A173                                                  1             A191   \n",
       "2  A172                                                  2             A191   \n",
       "3  A173                                                  2             A191   \n",
       "4  A173                                                  2             A191   \n",
       "\n",
       "  foreign_worker label  \n",
       "0           A201     1  \n",
       "1           A201     0  \n",
       "2           A201     1  \n",
       "3           A201     1  \n",
       "4           A201     0  \n",
       "\n",
       "[5 rows x 21 columns]"
      ]
     },
     "execution_count": 2,
     "metadata": {},
     "output_type": "execute_result"
    }
   ],
   "source": [
    "data = pd.read_excel('data_cn.xlsx')\n",
    "data.loc[data.label ==2,'label'] = 0\n",
    "data.head()"
   ]
  },
  {
   "cell_type": "markdown",
   "metadata": {},
   "source": [
    "## 数据转换为数值"
   ]
  },
  {
   "cell_type": "code",
   "execution_count": 3,
   "metadata": {
    "collapsed": false
   },
   "outputs": [],
   "source": [
    "maping = {'Status_of_existing_checking_account':\n",
    "{'A11': 100 , \n",
    "'A12': 200, \n",
    "'A13': 400 , \n",
    "'A14': 0, },\n",
    "\n",
    "'Credit_history':\n",
    "{'A30': 4, \n",
    "'A31': 3, \n",
    "'A32': 2, \n",
    "'A33': 1, \n",
    "'A34': 0, },\n",
    "\n",
    "'Savings_account':\n",
    "{'A61': 100, \n",
    "'A62': 500, \n",
    "'A63': 1000, \n",
    "'A64': 2000, \n",
    "'A65': 1, },\n",
    "\n",
    "'Present_employment_since':\n",
    "{'A71': 0, \n",
    "'A72': 1, \n",
    "'A73': 4, \n",
    "'A74': 7, \n",
    "'A75': 10, },\n",
    "\n",
    "'guarantors':\n",
    "{'A101': 0, \n",
    "'A102': 1, \n",
    "'A103': 2, },\n",
    "\n",
    "'Property':\n",
    "{'A121': 4, \n",
    "'A122': 3, \n",
    "'A123': 2, \n",
    "'A124': 1, },\n",
    "\n",
    "'Housing':\n",
    "{'A151': 1, \n",
    "'A152': 2, \n",
    "'A153': 0, },\n",
    "\n",
    "'Job':\n",
    "{'A171': 1, \n",
    "'A172': 2, \n",
    "'A173': 3, \n",
    "'A174': 4, },\n",
    "\n",
    "'Telephone':\n",
    "{'A191': 0, \n",
    "'A192': 1, },\n",
    "          \n",
    "'foreign_worker':\n",
    "{'A201': 1,\n",
    "'A202': 0}}"
   ]
  },
  {
   "cell_type": "code",
   "execution_count": 4,
   "metadata": {
    "collapsed": false
   },
   "outputs": [
    {
     "data": {
      "text/html": [
       "<div>\n",
       "<style>\n",
       "    .dataframe thead tr:only-child th {\n",
       "        text-align: right;\n",
       "    }\n",
       "\n",
       "    .dataframe thead th {\n",
       "        text-align: left;\n",
       "    }\n",
       "\n",
       "    .dataframe tbody tr th {\n",
       "        vertical-align: top;\n",
       "    }\n",
       "</style>\n",
       "<table border=\"1\" class=\"dataframe\">\n",
       "  <thead>\n",
       "    <tr style=\"text-align: right;\">\n",
       "      <th></th>\n",
       "      <th>Status_of_existing_checking_account</th>\n",
       "      <th>Duration_in_month</th>\n",
       "      <th>Credit_history</th>\n",
       "      <th>Purpose</th>\n",
       "      <th>Credit_amount</th>\n",
       "      <th>Savings_account</th>\n",
       "      <th>Present_employment_since</th>\n",
       "      <th>Installment_rate_in_percentage_of_disposable_income</th>\n",
       "      <th>Personal_status_and_sex</th>\n",
       "      <th>guarantors</th>\n",
       "      <th>...</th>\n",
       "      <th>Property</th>\n",
       "      <th>Age</th>\n",
       "      <th>Other_installment_plans</th>\n",
       "      <th>Housing</th>\n",
       "      <th>Number_of_existing_credits_at_this_bank</th>\n",
       "      <th>Job</th>\n",
       "      <th>Number_of_people_being_liable_to_provide_maintenance_for</th>\n",
       "      <th>Telephone</th>\n",
       "      <th>foreign_worker</th>\n",
       "      <th>label</th>\n",
       "    </tr>\n",
       "  </thead>\n",
       "  <tbody>\n",
       "    <tr>\n",
       "      <th>0</th>\n",
       "      <td>100</td>\n",
       "      <td>6</td>\n",
       "      <td>0</td>\n",
       "      <td>A43</td>\n",
       "      <td>1169</td>\n",
       "      <td>1</td>\n",
       "      <td>10</td>\n",
       "      <td>4</td>\n",
       "      <td>A93</td>\n",
       "      <td>0</td>\n",
       "      <td>...</td>\n",
       "      <td>4</td>\n",
       "      <td>67</td>\n",
       "      <td>A143</td>\n",
       "      <td>2</td>\n",
       "      <td>2</td>\n",
       "      <td>3</td>\n",
       "      <td>1</td>\n",
       "      <td>1</td>\n",
       "      <td>1</td>\n",
       "      <td>1</td>\n",
       "    </tr>\n",
       "    <tr>\n",
       "      <th>1</th>\n",
       "      <td>200</td>\n",
       "      <td>48</td>\n",
       "      <td>2</td>\n",
       "      <td>A43</td>\n",
       "      <td>5951</td>\n",
       "      <td>100</td>\n",
       "      <td>4</td>\n",
       "      <td>2</td>\n",
       "      <td>A92</td>\n",
       "      <td>0</td>\n",
       "      <td>...</td>\n",
       "      <td>4</td>\n",
       "      <td>22</td>\n",
       "      <td>A143</td>\n",
       "      <td>2</td>\n",
       "      <td>1</td>\n",
       "      <td>3</td>\n",
       "      <td>1</td>\n",
       "      <td>0</td>\n",
       "      <td>1</td>\n",
       "      <td>0</td>\n",
       "    </tr>\n",
       "    <tr>\n",
       "      <th>2</th>\n",
       "      <td>0</td>\n",
       "      <td>12</td>\n",
       "      <td>0</td>\n",
       "      <td>A46</td>\n",
       "      <td>2096</td>\n",
       "      <td>100</td>\n",
       "      <td>7</td>\n",
       "      <td>2</td>\n",
       "      <td>A93</td>\n",
       "      <td>0</td>\n",
       "      <td>...</td>\n",
       "      <td>4</td>\n",
       "      <td>49</td>\n",
       "      <td>A143</td>\n",
       "      <td>2</td>\n",
       "      <td>1</td>\n",
       "      <td>2</td>\n",
       "      <td>2</td>\n",
       "      <td>0</td>\n",
       "      <td>1</td>\n",
       "      <td>1</td>\n",
       "    </tr>\n",
       "    <tr>\n",
       "      <th>3</th>\n",
       "      <td>100</td>\n",
       "      <td>42</td>\n",
       "      <td>2</td>\n",
       "      <td>A42</td>\n",
       "      <td>7882</td>\n",
       "      <td>100</td>\n",
       "      <td>7</td>\n",
       "      <td>2</td>\n",
       "      <td>A93</td>\n",
       "      <td>2</td>\n",
       "      <td>...</td>\n",
       "      <td>3</td>\n",
       "      <td>45</td>\n",
       "      <td>A143</td>\n",
       "      <td>0</td>\n",
       "      <td>1</td>\n",
       "      <td>3</td>\n",
       "      <td>2</td>\n",
       "      <td>0</td>\n",
       "      <td>1</td>\n",
       "      <td>1</td>\n",
       "    </tr>\n",
       "    <tr>\n",
       "      <th>4</th>\n",
       "      <td>100</td>\n",
       "      <td>24</td>\n",
       "      <td>1</td>\n",
       "      <td>A40</td>\n",
       "      <td>4870</td>\n",
       "      <td>100</td>\n",
       "      <td>4</td>\n",
       "      <td>3</td>\n",
       "      <td>A93</td>\n",
       "      <td>0</td>\n",
       "      <td>...</td>\n",
       "      <td>1</td>\n",
       "      <td>53</td>\n",
       "      <td>A143</td>\n",
       "      <td>0</td>\n",
       "      <td>2</td>\n",
       "      <td>3</td>\n",
       "      <td>2</td>\n",
       "      <td>0</td>\n",
       "      <td>1</td>\n",
       "      <td>0</td>\n",
       "    </tr>\n",
       "  </tbody>\n",
       "</table>\n",
       "<p>5 rows × 21 columns</p>\n",
       "</div>"
      ],
      "text/plain": [
       "   Status_of_existing_checking_account  Duration_in_month  Credit_history  \\\n",
       "0                                  100                  6               0   \n",
       "1                                  200                 48               2   \n",
       "2                                    0                 12               0   \n",
       "3                                  100                 42               2   \n",
       "4                                  100                 24               1   \n",
       "\n",
       "  Purpose  Credit_amount  Savings_account  Present_employment_since  \\\n",
       "0     A43           1169                1                        10   \n",
       "1     A43           5951              100                         4   \n",
       "2     A46           2096              100                         7   \n",
       "3     A42           7882              100                         7   \n",
       "4     A40           4870              100                         4   \n",
       "\n",
       "   Installment_rate_in_percentage_of_disposable_income  \\\n",
       "0                                                  4     \n",
       "1                                                  2     \n",
       "2                                                  2     \n",
       "3                                                  2     \n",
       "4                                                  3     \n",
       "\n",
       "  Personal_status_and_sex  guarantors  ...    Property  Age  \\\n",
       "0                     A93           0  ...           4   67   \n",
       "1                     A92           0  ...           4   22   \n",
       "2                     A93           0  ...           4   49   \n",
       "3                     A93           2  ...           3   45   \n",
       "4                     A93           0  ...           1   53   \n",
       "\n",
       "   Other_installment_plans Housing  Number_of_existing_credits_at_this_bank  \\\n",
       "0                     A143       2                                        2   \n",
       "1                     A143       2                                        1   \n",
       "2                     A143       2                                        1   \n",
       "3                     A143       0                                        1   \n",
       "4                     A143       0                                        2   \n",
       "\n",
       "   Job  Number_of_people_being_liable_to_provide_maintenance_for  Telephone  \\\n",
       "0    3                                                  1                 1   \n",
       "1    3                                                  1                 0   \n",
       "2    2                                                  2                 0   \n",
       "3    3                                                  2                 0   \n",
       "4    3                                                  2                 0   \n",
       "\n",
       "   foreign_worker  label  \n",
       "0               1      1  \n",
       "1               1      0  \n",
       "2               1      1  \n",
       "3               1      1  \n",
       "4               1      0  \n",
       "\n",
       "[5 rows x 21 columns]"
      ]
     },
     "execution_count": 4,
     "metadata": {},
     "output_type": "execute_result"
    }
   ],
   "source": [
    "data_tranfer = data.copy()\n",
    "for column, map_value in maping.items():\n",
    "    data_tranfer[column] = data[column].map(map_value)\n",
    "data_tranfer.head()"
   ]
  },
  {
   "cell_type": "code",
   "execution_count": 5,
   "metadata": {
    "collapsed": false
   },
   "outputs": [
    {
     "data": {
      "text/html": [
       "<div>\n",
       "<style>\n",
       "    .dataframe thead tr:only-child th {\n",
       "        text-align: right;\n",
       "    }\n",
       "\n",
       "    .dataframe thead th {\n",
       "        text-align: left;\n",
       "    }\n",
       "\n",
       "    .dataframe tbody tr th {\n",
       "        vertical-align: top;\n",
       "    }\n",
       "</style>\n",
       "<table border=\"1\" class=\"dataframe\">\n",
       "  <thead>\n",
       "    <tr style=\"text-align: right;\">\n",
       "      <th></th>\n",
       "      <th>Status_of_existing_checking_account</th>\n",
       "      <th>Duration_in_month</th>\n",
       "      <th>Credit_history</th>\n",
       "      <th>Credit_amount</th>\n",
       "      <th>Savings_account</th>\n",
       "      <th>Present_employment_since</th>\n",
       "      <th>Installment_rate_in_percentage_of_disposable_income</th>\n",
       "      <th>guarantors</th>\n",
       "      <th>Present_residence_since</th>\n",
       "      <th>Property</th>\n",
       "      <th>Age</th>\n",
       "      <th>Housing</th>\n",
       "      <th>Number_of_existing_credits_at_this_bank</th>\n",
       "      <th>Job</th>\n",
       "      <th>Number_of_people_being_liable_to_provide_maintenance_for</th>\n",
       "      <th>Telephone</th>\n",
       "      <th>foreign_worker</th>\n",
       "      <th>label</th>\n",
       "    </tr>\n",
       "  </thead>\n",
       "  <tbody>\n",
       "    <tr>\n",
       "      <th>0</th>\n",
       "      <td>100</td>\n",
       "      <td>6</td>\n",
       "      <td>0</td>\n",
       "      <td>1169</td>\n",
       "      <td>1</td>\n",
       "      <td>10</td>\n",
       "      <td>4</td>\n",
       "      <td>0</td>\n",
       "      <td>4</td>\n",
       "      <td>4</td>\n",
       "      <td>67</td>\n",
       "      <td>2</td>\n",
       "      <td>2</td>\n",
       "      <td>3</td>\n",
       "      <td>1</td>\n",
       "      <td>1</td>\n",
       "      <td>1</td>\n",
       "      <td>1</td>\n",
       "    </tr>\n",
       "    <tr>\n",
       "      <th>1</th>\n",
       "      <td>200</td>\n",
       "      <td>48</td>\n",
       "      <td>2</td>\n",
       "      <td>5951</td>\n",
       "      <td>100</td>\n",
       "      <td>4</td>\n",
       "      <td>2</td>\n",
       "      <td>0</td>\n",
       "      <td>2</td>\n",
       "      <td>4</td>\n",
       "      <td>22</td>\n",
       "      <td>2</td>\n",
       "      <td>1</td>\n",
       "      <td>3</td>\n",
       "      <td>1</td>\n",
       "      <td>0</td>\n",
       "      <td>1</td>\n",
       "      <td>0</td>\n",
       "    </tr>\n",
       "    <tr>\n",
       "      <th>2</th>\n",
       "      <td>0</td>\n",
       "      <td>12</td>\n",
       "      <td>0</td>\n",
       "      <td>2096</td>\n",
       "      <td>100</td>\n",
       "      <td>7</td>\n",
       "      <td>2</td>\n",
       "      <td>0</td>\n",
       "      <td>3</td>\n",
       "      <td>4</td>\n",
       "      <td>49</td>\n",
       "      <td>2</td>\n",
       "      <td>1</td>\n",
       "      <td>2</td>\n",
       "      <td>2</td>\n",
       "      <td>0</td>\n",
       "      <td>1</td>\n",
       "      <td>1</td>\n",
       "    </tr>\n",
       "    <tr>\n",
       "      <th>3</th>\n",
       "      <td>100</td>\n",
       "      <td>42</td>\n",
       "      <td>2</td>\n",
       "      <td>7882</td>\n",
       "      <td>100</td>\n",
       "      <td>7</td>\n",
       "      <td>2</td>\n",
       "      <td>2</td>\n",
       "      <td>4</td>\n",
       "      <td>3</td>\n",
       "      <td>45</td>\n",
       "      <td>0</td>\n",
       "      <td>1</td>\n",
       "      <td>3</td>\n",
       "      <td>2</td>\n",
       "      <td>0</td>\n",
       "      <td>1</td>\n",
       "      <td>1</td>\n",
       "    </tr>\n",
       "    <tr>\n",
       "      <th>4</th>\n",
       "      <td>100</td>\n",
       "      <td>24</td>\n",
       "      <td>1</td>\n",
       "      <td>4870</td>\n",
       "      <td>100</td>\n",
       "      <td>4</td>\n",
       "      <td>3</td>\n",
       "      <td>0</td>\n",
       "      <td>4</td>\n",
       "      <td>1</td>\n",
       "      <td>53</td>\n",
       "      <td>0</td>\n",
       "      <td>2</td>\n",
       "      <td>3</td>\n",
       "      <td>2</td>\n",
       "      <td>0</td>\n",
       "      <td>1</td>\n",
       "      <td>0</td>\n",
       "    </tr>\n",
       "  </tbody>\n",
       "</table>\n",
       "</div>"
      ],
      "text/plain": [
       "   Status_of_existing_checking_account  Duration_in_month  Credit_history  \\\n",
       "0                                  100                  6               0   \n",
       "1                                  200                 48               2   \n",
       "2                                    0                 12               0   \n",
       "3                                  100                 42               2   \n",
       "4                                  100                 24               1   \n",
       "\n",
       "   Credit_amount  Savings_account  Present_employment_since  \\\n",
       "0           1169                1                        10   \n",
       "1           5951              100                         4   \n",
       "2           2096              100                         7   \n",
       "3           7882              100                         7   \n",
       "4           4870              100                         4   \n",
       "\n",
       "   Installment_rate_in_percentage_of_disposable_income  guarantors  \\\n",
       "0                                                  4             0   \n",
       "1                                                  2             0   \n",
       "2                                                  2             0   \n",
       "3                                                  2             2   \n",
       "4                                                  3             0   \n",
       "\n",
       "   Present_residence_since  Property  Age  Housing  \\\n",
       "0                        4         4   67        2   \n",
       "1                        2         4   22        2   \n",
       "2                        3         4   49        2   \n",
       "3                        4         3   45        0   \n",
       "4                        4         1   53        0   \n",
       "\n",
       "   Number_of_existing_credits_at_this_bank  Job  \\\n",
       "0                                        2    3   \n",
       "1                                        1    3   \n",
       "2                                        1    2   \n",
       "3                                        1    3   \n",
       "4                                        2    3   \n",
       "\n",
       "   Number_of_people_being_liable_to_provide_maintenance_for  Telephone  \\\n",
       "0                                                  1                 1   \n",
       "1                                                  1                 0   \n",
       "2                                                  2                 0   \n",
       "3                                                  2                 0   \n",
       "4                                                  2                 0   \n",
       "\n",
       "   foreign_worker  label  \n",
       "0               1      1  \n",
       "1               1      0  \n",
       "2               1      1  \n",
       "3               1      1  \n",
       "4               1      0  "
      ]
     },
     "execution_count": 5,
     "metadata": {},
     "output_type": "execute_result"
    }
   ],
   "source": [
    "drop_cols = ['Other_installment_plans', 'Personal_status_and_sex', 'Purpose']\n",
    "data_drop = data_tranfer.drop(labels=drop_cols, axis=1)\n",
    "data_drop.head()"
   ]
  },
  {
   "cell_type": "markdown",
   "metadata": {},
   "source": [
    "## 增加特征"
   ]
  },
  {
   "cell_type": "code",
   "execution_count": 6,
   "metadata": {
    "collapsed": false
   },
   "outputs": [
    {
     "data": {
      "text/html": [
       "<div>\n",
       "<style>\n",
       "    .dataframe thead tr:only-child th {\n",
       "        text-align: right;\n",
       "    }\n",
       "\n",
       "    .dataframe thead th {\n",
       "        text-align: left;\n",
       "    }\n",
       "\n",
       "    .dataframe tbody tr th {\n",
       "        vertical-align: top;\n",
       "    }\n",
       "</style>\n",
       "<table border=\"1\" class=\"dataframe\">\n",
       "  <thead>\n",
       "    <tr style=\"text-align: right;\">\n",
       "      <th></th>\n",
       "      <th>Status_of_existing_checking_account</th>\n",
       "      <th>Duration_in_month</th>\n",
       "      <th>Credit_history</th>\n",
       "      <th>Credit_amount</th>\n",
       "      <th>Savings_account</th>\n",
       "      <th>Present_employment_since</th>\n",
       "      <th>Installment_rate_in_percentage_of_disposable_income</th>\n",
       "      <th>guarantors</th>\n",
       "      <th>Present_residence_since</th>\n",
       "      <th>Property</th>\n",
       "      <th>Age</th>\n",
       "      <th>Housing</th>\n",
       "      <th>Number_of_existing_credits_at_this_bank</th>\n",
       "      <th>Job</th>\n",
       "      <th>Number_of_people_being_liable_to_provide_maintenance_for</th>\n",
       "      <th>Telephone</th>\n",
       "      <th>foreign_worker</th>\n",
       "      <th>label</th>\n",
       "      <th>saving_by_credit</th>\n",
       "      <th>each_loan</th>\n",
       "    </tr>\n",
       "  </thead>\n",
       "  <tbody>\n",
       "    <tr>\n",
       "      <th>0</th>\n",
       "      <td>100</td>\n",
       "      <td>6</td>\n",
       "      <td>0</td>\n",
       "      <td>1169</td>\n",
       "      <td>1</td>\n",
       "      <td>10</td>\n",
       "      <td>4</td>\n",
       "      <td>0</td>\n",
       "      <td>4</td>\n",
       "      <td>4</td>\n",
       "      <td>67</td>\n",
       "      <td>2</td>\n",
       "      <td>2</td>\n",
       "      <td>3</td>\n",
       "      <td>1</td>\n",
       "      <td>1</td>\n",
       "      <td>1</td>\n",
       "      <td>1</td>\n",
       "      <td>0.000855</td>\n",
       "      <td>1169.000000</td>\n",
       "    </tr>\n",
       "    <tr>\n",
       "      <th>1</th>\n",
       "      <td>200</td>\n",
       "      <td>48</td>\n",
       "      <td>2</td>\n",
       "      <td>5951</td>\n",
       "      <td>100</td>\n",
       "      <td>4</td>\n",
       "      <td>2</td>\n",
       "      <td>0</td>\n",
       "      <td>2</td>\n",
       "      <td>4</td>\n",
       "      <td>22</td>\n",
       "      <td>2</td>\n",
       "      <td>1</td>\n",
       "      <td>3</td>\n",
       "      <td>1</td>\n",
       "      <td>0</td>\n",
       "      <td>1</td>\n",
       "      <td>0</td>\n",
       "      <td>0.016804</td>\n",
       "      <td>5951.000000</td>\n",
       "    </tr>\n",
       "    <tr>\n",
       "      <th>2</th>\n",
       "      <td>0</td>\n",
       "      <td>12</td>\n",
       "      <td>0</td>\n",
       "      <td>2096</td>\n",
       "      <td>100</td>\n",
       "      <td>7</td>\n",
       "      <td>2</td>\n",
       "      <td>0</td>\n",
       "      <td>3</td>\n",
       "      <td>4</td>\n",
       "      <td>49</td>\n",
       "      <td>2</td>\n",
       "      <td>1</td>\n",
       "      <td>2</td>\n",
       "      <td>2</td>\n",
       "      <td>0</td>\n",
       "      <td>1</td>\n",
       "      <td>1</td>\n",
       "      <td>0.047710</td>\n",
       "      <td>2096.000000</td>\n",
       "    </tr>\n",
       "    <tr>\n",
       "      <th>3</th>\n",
       "      <td>100</td>\n",
       "      <td>42</td>\n",
       "      <td>2</td>\n",
       "      <td>7882</td>\n",
       "      <td>100</td>\n",
       "      <td>7</td>\n",
       "      <td>2</td>\n",
       "      <td>2</td>\n",
       "      <td>4</td>\n",
       "      <td>3</td>\n",
       "      <td>45</td>\n",
       "      <td>0</td>\n",
       "      <td>1</td>\n",
       "      <td>3</td>\n",
       "      <td>2</td>\n",
       "      <td>0</td>\n",
       "      <td>1</td>\n",
       "      <td>1</td>\n",
       "      <td>0.012687</td>\n",
       "      <td>2627.333333</td>\n",
       "    </tr>\n",
       "    <tr>\n",
       "      <th>4</th>\n",
       "      <td>100</td>\n",
       "      <td>24</td>\n",
       "      <td>1</td>\n",
       "      <td>4870</td>\n",
       "      <td>100</td>\n",
       "      <td>4</td>\n",
       "      <td>3</td>\n",
       "      <td>0</td>\n",
       "      <td>4</td>\n",
       "      <td>1</td>\n",
       "      <td>53</td>\n",
       "      <td>0</td>\n",
       "      <td>2</td>\n",
       "      <td>3</td>\n",
       "      <td>2</td>\n",
       "      <td>0</td>\n",
       "      <td>1</td>\n",
       "      <td>0</td>\n",
       "      <td>0.020534</td>\n",
       "      <td>4870.000000</td>\n",
       "    </tr>\n",
       "  </tbody>\n",
       "</table>\n",
       "</div>"
      ],
      "text/plain": [
       "   Status_of_existing_checking_account  Duration_in_month  Credit_history  \\\n",
       "0                                  100                  6               0   \n",
       "1                                  200                 48               2   \n",
       "2                                    0                 12               0   \n",
       "3                                  100                 42               2   \n",
       "4                                  100                 24               1   \n",
       "\n",
       "   Credit_amount  Savings_account  Present_employment_since  \\\n",
       "0           1169                1                        10   \n",
       "1           5951              100                         4   \n",
       "2           2096              100                         7   \n",
       "3           7882              100                         7   \n",
       "4           4870              100                         4   \n",
       "\n",
       "   Installment_rate_in_percentage_of_disposable_income  guarantors  \\\n",
       "0                                                  4             0   \n",
       "1                                                  2             0   \n",
       "2                                                  2             0   \n",
       "3                                                  2             2   \n",
       "4                                                  3             0   \n",
       "\n",
       "   Present_residence_since  Property  Age  Housing  \\\n",
       "0                        4         4   67        2   \n",
       "1                        2         4   22        2   \n",
       "2                        3         4   49        2   \n",
       "3                        4         3   45        0   \n",
       "4                        4         1   53        0   \n",
       "\n",
       "   Number_of_existing_credits_at_this_bank  Job  \\\n",
       "0                                        2    3   \n",
       "1                                        1    3   \n",
       "2                                        1    2   \n",
       "3                                        1    3   \n",
       "4                                        2    3   \n",
       "\n",
       "   Number_of_people_being_liable_to_provide_maintenance_for  Telephone  \\\n",
       "0                                                  1                 1   \n",
       "1                                                  1                 0   \n",
       "2                                                  2                 0   \n",
       "3                                                  2                 0   \n",
       "4                                                  2                 0   \n",
       "\n",
       "   foreign_worker  label  saving_by_credit    each_loan  \n",
       "0               1      1          0.000855  1169.000000  \n",
       "1               1      0          0.016804  5951.000000  \n",
       "2               1      1          0.047710  2096.000000  \n",
       "3               1      1          0.012687  2627.333333  \n",
       "4               1      0          0.020534  4870.000000  "
      ]
     },
     "execution_count": 6,
     "metadata": {},
     "output_type": "execute_result"
    }
   ],
   "source": [
    "data_add = data_drop.copy()\n",
    "data_add['saving_by_credit'] = data_drop['Savings_account'] / data_drop['Credit_amount']\n",
    "data_add['each_loan'] =   data_drop['Credit_amount'] / (data_drop['guarantors']+1)\n",
    "data_add.head()"
   ]
  },
  {
   "cell_type": "markdown",
   "metadata": {},
   "source": [
    "## 数据划分"
   ]
  },
  {
   "cell_type": "code",
   "execution_count": 7,
   "metadata": {
    "collapsed": true
   },
   "outputs": [],
   "source": [
    "from sklearn.model_selection import train_test_split\n",
    "\n",
    "X = data_add.drop('label', axis=1).astype(np.float64).values\n",
    "y = data_add['label'].values"
   ]
  },
  {
   "cell_type": "markdown",
   "metadata": {},
   "source": [
    "### z-score 规范化"
   ]
  },
  {
   "cell_type": "code",
   "execution_count": 8,
   "metadata": {
    "collapsed": false
   },
   "outputs": [
    {
     "data": {
      "text/html": [
       "<div>\n",
       "<style>\n",
       "    .dataframe thead tr:only-child th {\n",
       "        text-align: right;\n",
       "    }\n",
       "\n",
       "    .dataframe thead th {\n",
       "        text-align: left;\n",
       "    }\n",
       "\n",
       "    .dataframe tbody tr th {\n",
       "        vertical-align: top;\n",
       "    }\n",
       "</style>\n",
       "<table border=\"1\" class=\"dataframe\">\n",
       "  <thead>\n",
       "    <tr style=\"text-align: right;\">\n",
       "      <th></th>\n",
       "      <th>Status_of_existing_checking_account</th>\n",
       "      <th>Duration_in_month</th>\n",
       "      <th>Credit_history</th>\n",
       "      <th>Credit_amount</th>\n",
       "      <th>Savings_account</th>\n",
       "      <th>Present_employment_since</th>\n",
       "      <th>Installment_rate_in_percentage_of_disposable_income</th>\n",
       "      <th>guarantors</th>\n",
       "      <th>Present_residence_since</th>\n",
       "      <th>Property</th>\n",
       "      <th>Age</th>\n",
       "      <th>Housing</th>\n",
       "      <th>Number_of_existing_credits_at_this_bank</th>\n",
       "      <th>Job</th>\n",
       "      <th>Number_of_people_being_liable_to_provide_maintenance_for</th>\n",
       "      <th>Telephone</th>\n",
       "      <th>foreign_worker</th>\n",
       "      <th>label</th>\n",
       "      <th>saving_by_credit</th>\n",
       "      <th>each_loan</th>\n",
       "    </tr>\n",
       "  </thead>\n",
       "  <tbody>\n",
       "    <tr>\n",
       "      <th>0</th>\n",
       "      <td>-0.057803</td>\n",
       "      <td>-1.236478</td>\n",
       "      <td>-1.344014</td>\n",
       "      <td>-0.745131</td>\n",
       "      <td>-0.584510</td>\n",
       "      <td>1.387862</td>\n",
       "      <td>0.918477</td>\n",
       "      <td>-0.303686</td>\n",
       "      <td>1.046987</td>\n",
       "      <td>1.293723</td>\n",
       "      <td>2.766456</td>\n",
       "      <td>0.585603</td>\n",
       "      <td>1.027079</td>\n",
       "      <td>0.146949</td>\n",
       "      <td>-0.428290</td>\n",
       "      <td>1.214598</td>\n",
       "      <td>0.196014</td>\n",
       "      <td>1</td>\n",
       "      <td>-0.365994</td>\n",
       "      <td>-0.696278</td>\n",
       "    </tr>\n",
       "    <tr>\n",
       "      <th>1</th>\n",
       "      <td>0.845372</td>\n",
       "      <td>2.248194</td>\n",
       "      <td>0.503428</td>\n",
       "      <td>0.949817</td>\n",
       "      <td>-0.370176</td>\n",
       "      <td>-0.374876</td>\n",
       "      <td>-0.870183</td>\n",
       "      <td>-0.303686</td>\n",
       "      <td>-0.765977</td>\n",
       "      <td>1.293723</td>\n",
       "      <td>-1.191404</td>\n",
       "      <td>0.585603</td>\n",
       "      <td>-0.704926</td>\n",
       "      <td>0.146949</td>\n",
       "      <td>-0.428290</td>\n",
       "      <td>-0.823318</td>\n",
       "      <td>0.196014</td>\n",
       "      <td>0</td>\n",
       "      <td>-0.331161</td>\n",
       "      <td>1.031663</td>\n",
       "    </tr>\n",
       "    <tr>\n",
       "      <th>2</th>\n",
       "      <td>-0.960978</td>\n",
       "      <td>-0.738668</td>\n",
       "      <td>-1.344014</td>\n",
       "      <td>-0.416562</td>\n",
       "      <td>-0.370176</td>\n",
       "      <td>0.506493</td>\n",
       "      <td>-0.870183</td>\n",
       "      <td>-0.303686</td>\n",
       "      <td>0.140505</td>\n",
       "      <td>1.293723</td>\n",
       "      <td>1.183312</td>\n",
       "      <td>0.585603</td>\n",
       "      <td>-0.704926</td>\n",
       "      <td>-1.383771</td>\n",
       "      <td>2.334869</td>\n",
       "      <td>-0.823318</td>\n",
       "      <td>0.196014</td>\n",
       "      <td>1</td>\n",
       "      <td>-0.263660</td>\n",
       "      <td>-0.361313</td>\n",
       "    </tr>\n",
       "    <tr>\n",
       "      <th>3</th>\n",
       "      <td>-0.057803</td>\n",
       "      <td>1.750384</td>\n",
       "      <td>0.503428</td>\n",
       "      <td>1.634247</td>\n",
       "      <td>-0.370176</td>\n",
       "      <td>0.506493</td>\n",
       "      <td>-0.870183</td>\n",
       "      <td>3.885083</td>\n",
       "      <td>1.046987</td>\n",
       "      <td>0.341055</td>\n",
       "      <td>0.831502</td>\n",
       "      <td>-2.379476</td>\n",
       "      <td>-0.704926</td>\n",
       "      <td>0.146949</td>\n",
       "      <td>2.334869</td>\n",
       "      <td>-0.823318</td>\n",
       "      <td>0.196014</td>\n",
       "      <td>1</td>\n",
       "      <td>-0.340153</td>\n",
       "      <td>-0.169320</td>\n",
       "    </tr>\n",
       "    <tr>\n",
       "      <th>4</th>\n",
       "      <td>-0.057803</td>\n",
       "      <td>0.256953</td>\n",
       "      <td>-0.420293</td>\n",
       "      <td>0.566664</td>\n",
       "      <td>-0.370176</td>\n",
       "      <td>-0.374876</td>\n",
       "      <td>0.024147</td>\n",
       "      <td>-0.303686</td>\n",
       "      <td>1.046987</td>\n",
       "      <td>-1.564281</td>\n",
       "      <td>1.535122</td>\n",
       "      <td>-2.379476</td>\n",
       "      <td>1.027079</td>\n",
       "      <td>0.146949</td>\n",
       "      <td>2.334869</td>\n",
       "      <td>-0.823318</td>\n",
       "      <td>0.196014</td>\n",
       "      <td>0</td>\n",
       "      <td>-0.323015</td>\n",
       "      <td>0.641052</td>\n",
       "    </tr>\n",
       "  </tbody>\n",
       "</table>\n",
       "</div>"
      ],
      "text/plain": [
       "   Status_of_existing_checking_account  Duration_in_month  Credit_history  \\\n",
       "0                            -0.057803          -1.236478       -1.344014   \n",
       "1                             0.845372           2.248194        0.503428   \n",
       "2                            -0.960978          -0.738668       -1.344014   \n",
       "3                            -0.057803           1.750384        0.503428   \n",
       "4                            -0.057803           0.256953       -0.420293   \n",
       "\n",
       "   Credit_amount  Savings_account  Present_employment_since  \\\n",
       "0      -0.745131        -0.584510                  1.387862   \n",
       "1       0.949817        -0.370176                 -0.374876   \n",
       "2      -0.416562        -0.370176                  0.506493   \n",
       "3       1.634247        -0.370176                  0.506493   \n",
       "4       0.566664        -0.370176                 -0.374876   \n",
       "\n",
       "   Installment_rate_in_percentage_of_disposable_income  guarantors  \\\n",
       "0                                           0.918477     -0.303686   \n",
       "1                                          -0.870183     -0.303686   \n",
       "2                                          -0.870183     -0.303686   \n",
       "3                                          -0.870183      3.885083   \n",
       "4                                           0.024147     -0.303686   \n",
       "\n",
       "   Present_residence_since  Property       Age   Housing  \\\n",
       "0                 1.046987  1.293723  2.766456  0.585603   \n",
       "1                -0.765977  1.293723 -1.191404  0.585603   \n",
       "2                 0.140505  1.293723  1.183312  0.585603   \n",
       "3                 1.046987  0.341055  0.831502 -2.379476   \n",
       "4                 1.046987 -1.564281  1.535122 -2.379476   \n",
       "\n",
       "   Number_of_existing_credits_at_this_bank       Job  \\\n",
       "0                                 1.027079  0.146949   \n",
       "1                                -0.704926  0.146949   \n",
       "2                                -0.704926 -1.383771   \n",
       "3                                -0.704926  0.146949   \n",
       "4                                 1.027079  0.146949   \n",
       "\n",
       "   Number_of_people_being_liable_to_provide_maintenance_for  Telephone  \\\n",
       "0                                          -0.428290          1.214598   \n",
       "1                                          -0.428290         -0.823318   \n",
       "2                                           2.334869         -0.823318   \n",
       "3                                           2.334869         -0.823318   \n",
       "4                                           2.334869         -0.823318   \n",
       "\n",
       "   foreign_worker  label  saving_by_credit  each_loan  \n",
       "0        0.196014      1         -0.365994  -0.696278  \n",
       "1        0.196014      0         -0.331161   1.031663  \n",
       "2        0.196014      1         -0.263660  -0.361313  \n",
       "3        0.196014      1         -0.340153  -0.169320  \n",
       "4        0.196014      0         -0.323015   0.641052  "
      ]
     },
     "execution_count": 8,
     "metadata": {},
     "output_type": "execute_result"
    }
   ],
   "source": [
    "from sklearn.preprocessing import scale\n",
    "X_scale = scale(X)\n",
    "\n",
    "col = data_add.columns.drop('label') #剔除目标变量\n",
    "data_scale = data_add.copy()\n",
    "from sklearn.preprocessing import StandardScaler # 导入模块\n",
    "sc =StandardScaler() # 初始化缩放器\n",
    "data_scale[col] =sc.fit_transform(data_scale[col]) #对数据进行标准化\n",
    "data_scale.head() #查看经标准化后的数据"
   ]
  },
  {
   "cell_type": "code",
   "execution_count": 9,
   "metadata": {
    "collapsed": false
   },
   "outputs": [],
   "source": [
    "x_val = data_scale.drop('label', axis=1)\n",
    "y_val = data_scale['label']"
   ]
  },
  {
   "cell_type": "markdown",
   "metadata": {},
   "source": [
    "## 递归特征消除 (Recursive Feature Elimination)"
   ]
  },
  {
   "cell_type": "code",
   "execution_count": 10,
   "metadata": {
    "collapsed": false
   },
   "outputs": [
    {
     "name": "stdout",
     "output_type": "stream",
     "text": [
      "[ True  True  True  True  True  True  True False False False False  True\n",
      " False False False  True  True False False]\n",
      "[ 1  1  1  1  1  1  1  4  8  6  5  1  2 10  9  1  1  7  3]\n"
     ]
    }
   ],
   "source": [
    "from sklearn.feature_selection import RFE\n",
    "from sklearn.linear_model import LogisticRegression\n",
    "# 建立逻辑回归分类器\n",
    "model = LogisticRegression()\n",
    "# 建立递归特征消除筛选器\n",
    "rfe = RFE(model, 10) #通过递归选择特征，选择30个特征\n",
    "rfe = rfe.fit(x_val, y_val)\n",
    "# 打印筛选结果\n",
    "print(rfe.support_)\n",
    "print(rfe.ranking_) #ranking 为 1代表被选中，其他则未被代表未被选中"
   ]
  },
  {
   "cell_type": "code",
   "execution_count": 11,
   "metadata": {
    "collapsed": false,
    "scrolled": false
   },
   "outputs": [
    {
     "data": {
      "text/plain": [
       "Index(['Status_of_existing_checking_account', 'Duration_in_month',\n",
       "       'Credit_history', 'Credit_amount', 'Savings_account',\n",
       "       'Present_employment_since',\n",
       "       'Installment_rate_in_percentage_of_disposable_income', 'Housing',\n",
       "       'Telephone', 'foreign_worker'],\n",
       "      dtype='object')"
      ]
     },
     "execution_count": 11,
     "metadata": {},
     "output_type": "execute_result"
    }
   ],
   "source": [
    "col_filter = x_val.columns[rfe.support_] #通过布尔值筛选首次降维后的变量\n",
    "col_filter # 查看通过递归特征消除法筛选的变量"
   ]
  },
  {
   "cell_type": "markdown",
   "metadata": {},
   "source": [
    "## 相关性分析"
   ]
  },
  {
   "cell_type": "code",
   "execution_count": 12,
   "metadata": {
    "collapsed": false
   },
   "outputs": [
    {
     "data": {
      "text/plain": [
       "<matplotlib.axes._subplots.AxesSubplot at 0x2b3a2293080>"
      ]
     },
     "execution_count": 12,
     "metadata": {},
     "output_type": "execute_result"
    },
    {
     "data": {
      "image/png": "[encoded data removed]",
      "text/plain": [
       "<matplotlib.figure.Figure at 0x2b3a21fffd0>"
      ]
     },
     "metadata": {},
     "output_type": "display_data"
    }
   ],
   "source": [
    "colormap = plt.cm.viridis\n",
    "plt.figure(figsize=(12,12))\n",
    "plt.title('Pearson Correlation of Features', y=1.05, size=15)\n",
    "sns.heatmap(data_scale[col_filter].corr(),linewidths=0.1,vmax=1.0, square=True, cmap=colormap, linecolor='white', annot=True)"
   ]
  },
  {
   "cell_type": "markdown",
   "metadata": {},
   "source": [
    "## Embedded"
   ]
  },
  {
   "cell_type": "code",
   "execution_count": 13,
   "metadata": {
    "collapsed": false
   },
   "outputs": [
    {
     "name": "stdout",
     "output_type": "stream",
     "text": [
      "('Status_of_existing_checking_account', 0.1094375084510419)\n",
      "('Duration_in_month', 0.085310467528865688)\n",
      "('Credit_history', 0.068860835170413373)\n",
      "('Credit_amount', 0.11521275097639147)\n",
      "('Savings_account', 0.029010466906583411)\n",
      "('Present_employment_since', 0.055628848768016347)\n",
      "('Installment_rate_in_percentage_of_disposable_income', 0.03808188180916855)\n",
      "('guarantors', 0.024102217787252817)\n",
      "('Present_residence_since', 0.032546095901067537)\n",
      "('Property', 0.041687231704734304)\n",
      "('Age', 0.10627991962415897)\n",
      "('Housing', 0.014037357485973342)\n",
      "('Number_of_existing_credits_at_this_bank', 0.02053506181011281)\n",
      "('Job', 0.020856197287260809)\n",
      "('Number_of_people_being_liable_to_provide_maintenance_for', 0.0098091239375144579)\n",
      "('Telephone', 0.015104714199101915)\n",
      "('foreign_worker', 0.0021353886222161104)\n",
      "('label', 0.1061873374240139)\n",
      "('saving_by_credit', 0.10517659460611228)\n"
     ]
    }
   ],
   "source": [
    "names = data_scale.columns\n",
    "from sklearn.ensemble import RandomForestClassifier\n",
    "clf=RandomForestClassifier(n_estimators=10,random_state=123)#构建分类随机森林分类器\n",
    "clf.fit(x_val, y_val) #对自变量和因变量进行拟合\n",
    "names, clf.feature_importances_\n",
    "for feature in zip(names, clf.feature_importances_):\n",
    "    print(feature)"
   ]
  },
  {
   "cell_type": "code",
   "execution_count": 14,
   "metadata": {
    "collapsed": false
   },
   "outputs": [
    {
     "data": {
      "image/png": "[encoded data removed]",
      "text/plain": [
       "<matplotlib.figure.Figure at 0x2b39e91f978>"
      ]
     },
     "metadata": {},
     "output_type": "display_data"
    }
   ],
   "source": [
    "plt.style.use('fivethirtyeight')\n",
    "plt.rcParams['figure.figsize'] = (12,6)\n",
    "\n",
    "## feature importances 可视化##\n",
    "importances = clf.feature_importances_\n",
    "feat_names = names\n",
    "indices = np.argsort(importances)[::-1]\n",
    "fig = plt.figure(figsize=(20,6))\n",
    "plt.title(\"Feature importances by RandomTreeClassifier\")\n",
    "plt.bar(range(len(indices)), importances[indices], color='lightblue',  align=\"center\")\n",
    "plt.step(range(len(indices)), np.cumsum(importances[indices]), where='mid', label='Cumulative')\n",
    "plt.xticks(range(len(indices)), feat_names[indices], rotation='vertical',fontsize=14)\n",
    "plt.xlim([-1, len(indices)])\n",
    "plt.show()"
   ]
  },
  {
   "cell_type": "markdown",
   "metadata": {},
   "source": [
    "## 过采样"
   ]
  },
  {
   "cell_type": "code",
   "execution_count": 15,
   "metadata": {
    "collapsed": false
   },
   "outputs": [
    {
     "name": "stdout",
     "output_type": "stream",
     "text": [
      "样本个数：1000; 正样本占70.00%; 负样本占0.00%\n",
      "特征维数： 19\n"
     ]
    }
   ],
   "source": [
    "# 构建自变量和因变量\n",
    "X = data_scale.drop('label', axis=1)\n",
    "y = data['label']\n",
    "\n",
    "n_sample = y.shape[0]\n",
    "n_pos_sample = y[y == 1].shape[0]\n",
    "n_neg_sample = y[y == 2].shape[0]\n",
    "print('样本个数：{}; 正样本占{:.2%}; 负样本占{:.2%}'.format(n_sample,\n",
    "                                                   n_pos_sample / n_sample,\n",
    "                                                   n_neg_sample / n_sample))\n",
    "print('特征维数：', X.shape[1])"
   ]
  },
  {
   "cell_type": "code",
   "execution_count": 16,
   "metadata": {
    "collapsed": false
   },
   "outputs": [
    {
     "name": "stdout",
     "output_type": "stream",
     "text": [
      "通过SMOTE方法平衡正负样本后\n",
      "样本个数：1400; 正样本占50.00%; 负样本占0.00%\n"
     ]
    }
   ],
   "source": [
    "from imblearn.over_sampling import SMOTE # 导入SMOTE算法模块\n",
    "# 处理不平衡数据\n",
    "sm = SMOTE(random_state=42)    # 处理过采样的方法\n",
    "X, y = sm.fit_sample(X, y)\n",
    "print('通过SMOTE方法平衡正负样本后')\n",
    "n_sample = y.shape[0]\n",
    "n_pos_sample = y[y == 1].shape[0]\n",
    "n_neg_sample = y[y == 2].shape[0]\n",
    "print('样本个数：{}; 正样本占{:.2%}; 负样本占{:.2%}'.format(n_sample,\n",
    "                                                   n_pos_sample / n_sample,\n",
    "                                                   n_neg_sample / n_sample))"
   ]
  },
  {
   "cell_type": "code",
   "execution_count": 17,
   "metadata": {
    "collapsed": false,
    "scrolled": true
   },
   "outputs": [
    {
     "data": {
      "text/plain": [
       "LogisticRegression(C=1.0, class_weight=None, dual=False, fit_intercept=True,\n",
       "          intercept_scaling=1, max_iter=100, multi_class='ovr', n_jobs=1,\n",
       "          penalty='l2', random_state=None, solver='liblinear', tol=0.0001,\n",
       "          verbose=0, warm_start=False)"
      ]
     },
     "execution_count": 17,
     "metadata": {},
     "output_type": "execute_result"
    }
   ],
   "source": [
    "from sklearn.linear_model import LogisticRegression\n",
    "clf1 = LogisticRegression() # 构建逻辑回归分类器\n",
    "clf1.fit(X, y)"
   ]
  },
  {
   "cell_type": "code",
   "execution_count": 18,
   "metadata": {
    "collapsed": true
   },
   "outputs": [],
   "source": [
    "predicted1 = clf.predict(X) # 通过分类器产生预测结果"
   ]
  },
  {
   "cell_type": "code",
   "execution_count": 19,
   "metadata": {
    "collapsed": false
   },
   "outputs": [
    {
     "name": "stdout",
     "output_type": "stream",
     "text": [
      "Test set accuracy score: 0.93929\n"
     ]
    }
   ],
   "source": [
    "from sklearn.metrics import accuracy_score\n",
    "print(\"Test set accuracy score: {:.5f}\".format(accuracy_score(predicted1, y,)))"
   ]
  },
  {
   "cell_type": "code",
   "execution_count": 20,
   "metadata": {
    "collapsed": false
   },
   "outputs": [
    {
     "data": {
      "text/plain": [
       "array([[621,  79],\n",
       "       [  6, 694]], dtype=int64)"
      ]
     },
     "execution_count": 20,
     "metadata": {},
     "output_type": "execute_result"
    }
   ],
   "source": [
    "from sklearn.metrics import confusion_matrix\n",
    "m = confusion_matrix(y, predicted1) \n",
    "m"
   ]
  },
  {
   "cell_type": "code",
   "execution_count": 21,
   "metadata": {
    "collapsed": false
   },
   "outputs": [
    {
     "name": "stdout",
     "output_type": "stream",
     "text": [
      "Area under the ROC curve : 0.939286\n"
     ]
    }
   ],
   "source": [
    "from sklearn.metrics import roc_auc_score\n",
    "roc_auc1 = roc_auc_score(y, predicted1)\n",
    "print(\"Area under the ROC curve : %f\" % roc_auc1)"
   ]
  },
  {
   "cell_type": "markdown",
   "metadata": {},
   "source": [
    "## cross-validation+grid search"
   ]
  },
  {
   "cell_type": "markdown",
   "metadata": {},
   "source": [
    "### 数据划分"
   ]
  },
  {
   "cell_type": "markdown",
   "metadata": {},
   "source": [
    "## 使用最邻近算法"
   ]
  },
  {
   "cell_type": "markdown",
   "metadata": {},
   "source": [
    "### 网格搜索"
   ]
  },
  {
   "cell_type": "code",
   "execution_count": 28,
   "metadata": {
    "collapsed": true
   },
   "outputs": [],
   "source": [
    "from sklearn.metrics import confusion_matrix\n",
    "from sklearn.metrics import roc_auc_score\n",
    "from sklearn.metrics import classification_report\n",
    "from sklearn.metrics import confusion_matrix\n",
    "from plot_comfusion_matrix import *"
   ]
  },
  {
   "cell_type": "code",
   "execution_count": 29,
   "metadata": {
    "collapsed": false
   },
   "outputs": [],
   "source": [
    "from sklearn.cross_validation import train_test_split\n",
    "X_train, X_test, y_train, y_test = train_test_split(X, y, test_size = 0.3, random_state = 0) # random_state = 0 每次切分的数据都一样"
   ]
  },
  {
   "cell_type": "code",
   "execution_count": 30,
   "metadata": {
    "collapsed": false
   },
   "outputs": [
    {
     "name": "stdout",
     "output_type": "stream",
     "text": [
      "knn_best:0.780612\n"
     ]
    }
   ],
   "source": [
    "from sklearn.model_selection import RandomizedSearchCV\n",
    "from sklearn.model_selection import GridSearchCV\n",
    "from sklearn.neighbors import KNeighborsClassifier\n",
    "\n",
    "knn = KNeighborsClassifier()\n",
    "k_range = list(range(1,20))\n",
    "weight_options = ['uniform', 'distance']\n",
    "kernel = ['linear', 'poly', 'rbf', 'sigmoid', 'precomputed']\n",
    "algorithm = ['auto', 'ball_tree', 'kd_tree', 'brute']\n",
    "\n",
    "param_knn = dict(n_neighbors=k_range, weights=weight_options, algorithm=algorithm)\n",
    "#rand_knn = GridSearchCV(knn, param_knn, cv=10, scoring='accuracy')\n",
    "rand_knn = RandomizedSearchCV(knn, param_knn, cv=10, scoring='accuracy',n_iter=10, random_state=5)\n",
    "rand_knn.fit(X_train, y_train)\n",
    "print(\"knn_best:%f\" %rand_knn.best_score_)"
   ]
  },
  {
   "cell_type": "code",
   "execution_count": 31,
   "metadata": {
    "collapsed": false
   },
   "outputs": [
    {
     "name": "stdout",
     "output_type": "stream",
     "text": [
      "accuracy: 0.804761904762\n",
      "             precision    recall  f1-score   support\n",
      "\n",
      "          0       0.75      0.94      0.83       215\n",
      "          1       0.91      0.66      0.77       205\n",
      "\n",
      "avg / total       0.83      0.80      0.80       420\n",
      "\n"
     ]
    }
   ],
   "source": [
    "y_knn_pred = rand_knn.predict(X_test)\n",
    "print('accuracy:', accuracy_score(y_test, y_knn_pred))\n",
    "print(classification_report(y_test, y_knn_pred))"
   ]
  },
  {
   "cell_type": "code",
   "execution_count": 33,
   "metadata": {
    "collapsed": false
   },
   "outputs": [
    {
     "name": "stdout",
     "output_type": "stream",
     "text": [
      "Area under the ROC curve : 0.801475\n"
     ]
    }
   ],
   "source": [
    "roc_auc1 = roc_auc_score(y_test, y_knn_pred)\n",
    "print(\"Area under the ROC curve : %f\" % roc_auc1)"
   ]
  },
  {
   "cell_type": "code",
   "execution_count": 35,
   "metadata": {
    "collapsed": false
   },
   "outputs": [
    {
     "name": "stdout",
     "output_type": "stream",
     "text": [
      "Normalized confusion matrix\n",
      "[[ 0.93953488  0.06046512]\n",
      " [ 0.33658537  0.66341463]]\n"
     ]
    },
    {
     "data": {
      "image/png": "[encoded data removed]",
      "text/plain": [
       "<matplotlib.figure.Figure at 0x2b3a2f1dfd0>"
      ]
     },
     "metadata": {},
     "output_type": "display_data"
    }
   ],
   "source": [
    "cm = confusion_matrix(y_test, y_knn_pred)    \n",
    "classs = ['good', 'bad']\n",
    "plot_confusion_matrix(cm, classes=classs,normalize=True, title='Confusion matrix of best KNN')"
   ]
  },
  {
   "cell_type": "code",
   "execution_count": null,
   "metadata": {
    "collapsed": true
   },
   "outputs": [],
   "source": []
  }
 ],
 "metadata": {
  "kernelspec": {
   "display_name": "Python [conda root]",
   "language": "python",
   "name": "conda-root-py"
  },
  "language_info": {
   "codemirror_mode": {
    "name": "ipython",
    "version": 3
   },
   "file_extension": ".py",
   "mimetype": "text/x-python",
   "name": "python",
   "nbconvert_exporter": "python",
   "pygments_lexer": "ipython3",
   "version": "3.6.2"
  },
  "toc": {
   "nav_menu": {},
   "number_sections": true,
   "sideBar": true,
   "skip_h1_title": false,
   "toc_cell": false,
   "toc_position": {},
   "toc_section_display": "block",
   "toc_window_display": false
  },
  "varInspector": {
   "cols": {
    "lenName": 16,
    "lenType": 16,
    "lenVar": 40
   },
   "kernels_config": {
    "python": {
     "delete_cmd_postfix": "",
     "delete_cmd_prefix": "del ",
     "library": "var_list.py",
     "varRefreshCmd": "print(var_dic_list())"
    },
    "r": {
     "delete_cmd_postfix": ") ",
     "delete_cmd_prefix": "rm(",
     "library": "var_list.r",
     "varRefreshCmd": "cat(var_dic_list()) "
    }
   },
   "types_to_exclude": [
    "module",
    "function",
    "builtin_function_or_method",
    "instance",
    "_Feature"
   ],
   "window_display": false
  }
 },
 "nbformat": 4,
 "nbformat_minor": 2
}
