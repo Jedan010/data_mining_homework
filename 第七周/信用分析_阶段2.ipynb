{
 "cells": [
  {
   "cell_type": "code",
   "execution_count": 1,
   "metadata": {
    "collapsed": true
   },
   "outputs": [],
   "source": [
    "import pandas as pd\n",
    "import numpy as np\n",
    "import matplotlib.pyplot as plt\n",
    "import seaborn as sns\n",
    "%matplotlib inline\n",
    "from pyecharts import Pie\n",
    "import missingno as msno"
   ]
  },
  {
   "cell_type": "markdown",
   "metadata": {},
   "source": [
    "## 导入数据"
   ]
  },
  {
   "cell_type": "code",
   "execution_count": 2,
   "metadata": {
    "collapsed": false,
    "scrolled": true
   },
   "outputs": [
    {
     "data": {
      "text/html": [
       "<div>\n",
       "<style>\n",
       "    .dataframe thead tr:only-child th {\n",
       "        text-align: right;\n",
       "    }\n",
       "\n",
       "    .dataframe thead th {\n",
       "        text-align: left;\n",
       "    }\n",
       "\n",
       "    .dataframe tbody tr th {\n",
       "        vertical-align: top;\n",
       "    }\n",
       "</style>\n",
       "<table border=\"1\" class=\"dataframe\">\n",
       "  <thead>\n",
       "    <tr style=\"text-align: right;\">\n",
       "      <th></th>\n",
       "      <th>Status_of_existing_checking_account</th>\n",
       "      <th>Duration_in_month</th>\n",
       "      <th>Credit_history</th>\n",
       "      <th>Purpose</th>\n",
       "      <th>Credit_amount</th>\n",
       "      <th>Savings_account</th>\n",
       "      <th>Present_employment_since</th>\n",
       "      <th>Installment_rate_in_percentage_of_disposable_income</th>\n",
       "      <th>Personal_status_and_sex</th>\n",
       "      <th>guarantors</th>\n",
       "      <th>...</th>\n",
       "      <th>Property</th>\n",
       "      <th>Age</th>\n",
       "      <th>Other_installment_plans</th>\n",
       "      <th>Housing</th>\n",
       "      <th>Number_of_existing_credits_at_this_bank</th>\n",
       "      <th>Job</th>\n",
       "      <th>Number_of_people_being_liable_to_provide_maintenance_for</th>\n",
       "      <th>Telephone</th>\n",
       "      <th>foreign_worker</th>\n",
       "      <th>label</th>\n",
       "    </tr>\n",
       "  </thead>\n",
       "  <tbody>\n",
       "    <tr>\n",
       "      <th>0</th>\n",
       "      <td>A11</td>\n",
       "      <td>6</td>\n",
       "      <td>A34</td>\n",
       "      <td>A43</td>\n",
       "      <td>1169</td>\n",
       "      <td>A65</td>\n",
       "      <td>A75</td>\n",
       "      <td>4</td>\n",
       "      <td>A93</td>\n",
       "      <td>A101</td>\n",
       "      <td>...</td>\n",
       "      <td>A121</td>\n",
       "      <td>67</td>\n",
       "      <td>A143</td>\n",
       "      <td>A152</td>\n",
       "      <td>2</td>\n",
       "      <td>A173</td>\n",
       "      <td>1</td>\n",
       "      <td>A192</td>\n",
       "      <td>A201</td>\n",
       "      <td>1</td>\n",
       "    </tr>\n",
       "    <tr>\n",
       "      <th>1</th>\n",
       "      <td>A12</td>\n",
       "      <td>48</td>\n",
       "      <td>A32</td>\n",
       "      <td>A43</td>\n",
       "      <td>5951</td>\n",
       "      <td>A61</td>\n",
       "      <td>A73</td>\n",
       "      <td>2</td>\n",
       "      <td>A92</td>\n",
       "      <td>A101</td>\n",
       "      <td>...</td>\n",
       "      <td>A121</td>\n",
       "      <td>22</td>\n",
       "      <td>A143</td>\n",
       "      <td>A152</td>\n",
       "      <td>1</td>\n",
       "      <td>A173</td>\n",
       "      <td>1</td>\n",
       "      <td>A191</td>\n",
       "      <td>A201</td>\n",
       "      <td>0</td>\n",
       "    </tr>\n",
       "    <tr>\n",
       "      <th>2</th>\n",
       "      <td>A14</td>\n",
       "      <td>12</td>\n",
       "      <td>A34</td>\n",
       "      <td>A46</td>\n",
       "      <td>2096</td>\n",
       "      <td>A61</td>\n",
       "      <td>A74</td>\n",
       "      <td>2</td>\n",
       "      <td>A93</td>\n",
       "      <td>A101</td>\n",
       "      <td>...</td>\n",
       "      <td>A121</td>\n",
       "      <td>49</td>\n",
       "      <td>A143</td>\n",
       "      <td>A152</td>\n",
       "      <td>1</td>\n",
       "      <td>A172</td>\n",
       "      <td>2</td>\n",
       "      <td>A191</td>\n",
       "      <td>A201</td>\n",
       "      <td>1</td>\n",
       "    </tr>\n",
       "    <tr>\n",
       "      <th>3</th>\n",
       "      <td>A11</td>\n",
       "      <td>42</td>\n",
       "      <td>A32</td>\n",
       "      <td>A42</td>\n",
       "      <td>7882</td>\n",
       "      <td>A61</td>\n",
       "      <td>A74</td>\n",
       "      <td>2</td>\n",
       "      <td>A93</td>\n",
       "      <td>A103</td>\n",
       "      <td>...</td>\n",
       "      <td>A122</td>\n",
       "      <td>45</td>\n",
       "      <td>A143</td>\n",
       "      <td>A153</td>\n",
       "      <td>1</td>\n",
       "      <td>A173</td>\n",
       "      <td>2</td>\n",
       "      <td>A191</td>\n",
       "      <td>A201</td>\n",
       "      <td>1</td>\n",
       "    </tr>\n",
       "    <tr>\n",
       "      <th>4</th>\n",
       "      <td>A11</td>\n",
       "      <td>24</td>\n",
       "      <td>A33</td>\n",
       "      <td>A40</td>\n",
       "      <td>4870</td>\n",
       "      <td>A61</td>\n",
       "      <td>A73</td>\n",
       "      <td>3</td>\n",
       "      <td>A93</td>\n",
       "      <td>A101</td>\n",
       "      <td>...</td>\n",
       "      <td>A124</td>\n",
       "      <td>53</td>\n",
       "      <td>A143</td>\n",
       "      <td>A153</td>\n",
       "      <td>2</td>\n",
       "      <td>A173</td>\n",
       "      <td>2</td>\n",
       "      <td>A191</td>\n",
       "      <td>A201</td>\n",
       "      <td>0</td>\n",
       "    </tr>\n",
       "  </tbody>\n",
       "</table>\n",
       "<p>5 rows × 21 columns</p>\n",
       "</div>"
      ],
      "text/plain": [
       "  Status_of_existing_checking_account  Duration_in_month Credit_history  \\\n",
       "0                                 A11                  6            A34   \n",
       "1                                 A12                 48            A32   \n",
       "2                                 A14                 12            A34   \n",
       "3                                 A11                 42            A32   \n",
       "4                                 A11                 24            A33   \n",
       "\n",
       "  Purpose  Credit_amount Savings_account Present_employment_since  \\\n",
       "0     A43           1169             A65                      A75   \n",
       "1     A43           5951             A61                      A73   \n",
       "2     A46           2096             A61                      A74   \n",
       "3     A42           7882             A61                      A74   \n",
       "4     A40           4870             A61                      A73   \n",
       "\n",
       "   Installment_rate_in_percentage_of_disposable_income  \\\n",
       "0                                                  4     \n",
       "1                                                  2     \n",
       "2                                                  2     \n",
       "3                                                  2     \n",
       "4                                                  3     \n",
       "\n",
       "  Personal_status_and_sex guarantors  ...   Property Age  \\\n",
       "0                     A93       A101  ...       A121  67   \n",
       "1                     A92       A101  ...       A121  22   \n",
       "2                     A93       A101  ...       A121  49   \n",
       "3                     A93       A103  ...       A122  45   \n",
       "4                     A93       A101  ...       A124  53   \n",
       "\n",
       "   Other_installment_plans Housing Number_of_existing_credits_at_this_bank  \\\n",
       "0                     A143    A152                                       2   \n",
       "1                     A143    A152                                       1   \n",
       "2                     A143    A152                                       1   \n",
       "3                     A143    A153                                       1   \n",
       "4                     A143    A153                                       2   \n",
       "\n",
       "    Job Number_of_people_being_liable_to_provide_maintenance_for  Telephone  \\\n",
       "0  A173                                                  1             A192   \n",
       "1  A173                                                  1             A191   \n",
       "2  A172                                                  2             A191   \n",
       "3  A173                                                  2             A191   \n",
       "4  A173                                                  2             A191   \n",
       "\n",
       "  foreign_worker label  \n",
       "0           A201     1  \n",
       "1           A201     0  \n",
       "2           A201     1  \n",
       "3           A201     1  \n",
       "4           A201     0  \n",
       "\n",
       "[5 rows x 21 columns]"
      ]
     },
     "execution_count": 2,
     "metadata": {},
     "output_type": "execute_result"
    }
   ],
   "source": [
    "data = pd.read_excel('data_cn.xlsx')\n",
    "data.loc[data.label ==2,'label'] = 0\n",
    "data.head()"
   ]
  },
  {
   "cell_type": "code",
   "execution_count": 3,
   "metadata": {
    "collapsed": false
   },
   "outputs": [
    {
     "data": {
      "text/html": [
       "<div>\n",
       "<style>\n",
       "    .dataframe thead tr:only-child th {\n",
       "        text-align: right;\n",
       "    }\n",
       "\n",
       "    .dataframe thead th {\n",
       "        text-align: left;\n",
       "    }\n",
       "\n",
       "    .dataframe tbody tr th {\n",
       "        vertical-align: top;\n",
       "    }\n",
       "</style>\n",
       "<table border=\"1\" class=\"dataframe\">\n",
       "  <thead>\n",
       "    <tr style=\"text-align: right;\">\n",
       "      <th></th>\n",
       "      <th>Duration_in_month</th>\n",
       "      <th>Credit_amount</th>\n",
       "      <th>Installment_rate_in_percentage_of_disposable_income</th>\n",
       "      <th>Present_residence_since</th>\n",
       "      <th>Age</th>\n",
       "      <th>Number_of_existing_credits_at_this_bank</th>\n",
       "      <th>Number_of_people_being_liable_to_provide_maintenance_for</th>\n",
       "      <th>label</th>\n",
       "    </tr>\n",
       "  </thead>\n",
       "  <tbody>\n",
       "    <tr>\n",
       "      <th>count</th>\n",
       "      <td>1000.000000</td>\n",
       "      <td>1000.000000</td>\n",
       "      <td>1000.000000</td>\n",
       "      <td>1000.000000</td>\n",
       "      <td>1000.000000</td>\n",
       "      <td>1000.000000</td>\n",
       "      <td>1000.000000</td>\n",
       "      <td>1000.000000</td>\n",
       "    </tr>\n",
       "    <tr>\n",
       "      <th>mean</th>\n",
       "      <td>20.903000</td>\n",
       "      <td>3271.258000</td>\n",
       "      <td>2.973000</td>\n",
       "      <td>2.845000</td>\n",
       "      <td>35.546000</td>\n",
       "      <td>1.407000</td>\n",
       "      <td>1.155000</td>\n",
       "      <td>0.700000</td>\n",
       "    </tr>\n",
       "    <tr>\n",
       "      <th>std</th>\n",
       "      <td>12.058814</td>\n",
       "      <td>2822.736876</td>\n",
       "      <td>1.118715</td>\n",
       "      <td>1.103718</td>\n",
       "      <td>11.375469</td>\n",
       "      <td>0.577654</td>\n",
       "      <td>0.362086</td>\n",
       "      <td>0.458487</td>\n",
       "    </tr>\n",
       "    <tr>\n",
       "      <th>min</th>\n",
       "      <td>4.000000</td>\n",
       "      <td>250.000000</td>\n",
       "      <td>1.000000</td>\n",
       "      <td>1.000000</td>\n",
       "      <td>19.000000</td>\n",
       "      <td>1.000000</td>\n",
       "      <td>1.000000</td>\n",
       "      <td>0.000000</td>\n",
       "    </tr>\n",
       "    <tr>\n",
       "      <th>25%</th>\n",
       "      <td>12.000000</td>\n",
       "      <td>1365.500000</td>\n",
       "      <td>2.000000</td>\n",
       "      <td>2.000000</td>\n",
       "      <td>27.000000</td>\n",
       "      <td>1.000000</td>\n",
       "      <td>1.000000</td>\n",
       "      <td>0.000000</td>\n",
       "    </tr>\n",
       "    <tr>\n",
       "      <th>50%</th>\n",
       "      <td>18.000000</td>\n",
       "      <td>2319.500000</td>\n",
       "      <td>3.000000</td>\n",
       "      <td>3.000000</td>\n",
       "      <td>33.000000</td>\n",
       "      <td>1.000000</td>\n",
       "      <td>1.000000</td>\n",
       "      <td>1.000000</td>\n",
       "    </tr>\n",
       "    <tr>\n",
       "      <th>75%</th>\n",
       "      <td>24.000000</td>\n",
       "      <td>3972.250000</td>\n",
       "      <td>4.000000</td>\n",
       "      <td>4.000000</td>\n",
       "      <td>42.000000</td>\n",
       "      <td>2.000000</td>\n",
       "      <td>1.000000</td>\n",
       "      <td>1.000000</td>\n",
       "    </tr>\n",
       "    <tr>\n",
       "      <th>max</th>\n",
       "      <td>72.000000</td>\n",
       "      <td>18424.000000</td>\n",
       "      <td>4.000000</td>\n",
       "      <td>4.000000</td>\n",
       "      <td>75.000000</td>\n",
       "      <td>4.000000</td>\n",
       "      <td>2.000000</td>\n",
       "      <td>1.000000</td>\n",
       "    </tr>\n",
       "  </tbody>\n",
       "</table>\n",
       "</div>"
      ],
      "text/plain": [
       "       Duration_in_month  Credit_amount  \\\n",
       "count        1000.000000    1000.000000   \n",
       "mean           20.903000    3271.258000   \n",
       "std            12.058814    2822.736876   \n",
       "min             4.000000     250.000000   \n",
       "25%            12.000000    1365.500000   \n",
       "50%            18.000000    2319.500000   \n",
       "75%            24.000000    3972.250000   \n",
       "max            72.000000   18424.000000   \n",
       "\n",
       "       Installment_rate_in_percentage_of_disposable_income  \\\n",
       "count                                        1000.000000     \n",
       "mean                                            2.973000     \n",
       "std                                             1.118715     \n",
       "min                                             1.000000     \n",
       "25%                                             2.000000     \n",
       "50%                                             3.000000     \n",
       "75%                                             4.000000     \n",
       "max                                             4.000000     \n",
       "\n",
       "       Present_residence_since          Age  \\\n",
       "count              1000.000000  1000.000000   \n",
       "mean                  2.845000    35.546000   \n",
       "std                   1.103718    11.375469   \n",
       "min                   1.000000    19.000000   \n",
       "25%                   2.000000    27.000000   \n",
       "50%                   3.000000    33.000000   \n",
       "75%                   4.000000    42.000000   \n",
       "max                   4.000000    75.000000   \n",
       "\n",
       "       Number_of_existing_credits_at_this_bank  \\\n",
       "count                              1000.000000   \n",
       "mean                                  1.407000   \n",
       "std                                   0.577654   \n",
       "min                                   1.000000   \n",
       "25%                                   1.000000   \n",
       "50%                                   1.000000   \n",
       "75%                                   2.000000   \n",
       "max                                   4.000000   \n",
       "\n",
       "       Number_of_people_being_liable_to_provide_maintenance_for        label  \n",
       "count                                        1000.000000         1000.000000  \n",
       "mean                                            1.155000            0.700000  \n",
       "std                                             0.362086            0.458487  \n",
       "min                                             1.000000            0.000000  \n",
       "25%                                             1.000000            0.000000  \n",
       "50%                                             1.000000            1.000000  \n",
       "75%                                             1.000000            1.000000  \n",
       "max                                             2.000000            1.000000  "
      ]
     },
     "execution_count": 3,
     "metadata": {},
     "output_type": "execute_result"
    }
   ],
   "source": [
    "data.describe()"
   ]
  },
  {
   "cell_type": "code",
   "execution_count": 4,
   "metadata": {
    "collapsed": false,
    "scrolled": true
   },
   "outputs": [
    {
     "data": {
      "text/plain": [
       "(1000, 21)"
      ]
     },
     "execution_count": 4,
     "metadata": {},
     "output_type": "execute_result"
    }
   ],
   "source": [
    "data.shape"
   ]
  },
  {
   "cell_type": "code",
   "execution_count": 5,
   "metadata": {
    "collapsed": false
   },
   "outputs": [
    {
     "data": {
      "text/plain": [
       "Status_of_existing_checking_account                         object\n",
       "Duration_in_month                                            int64\n",
       "Credit_history                                              object\n",
       "Purpose                                                     object\n",
       "Credit_amount                                                int64\n",
       "Savings_account                                             object\n",
       "Present_employment_since                                    object\n",
       "Installment_rate_in_percentage_of_disposable_income          int64\n",
       "Personal_status_and_sex                                     object\n",
       "guarantors                                                  object\n",
       "Present_residence_since                                      int64\n",
       "Property                                                    object\n",
       "Age                                                          int64\n",
       "Other_installment_plans                                     object\n",
       "Housing                                                     object\n",
       "Number_of_existing_credits_at_this_bank                      int64\n",
       "Job                                                         object\n",
       "Number_of_people_being_liable_to_provide_maintenance_for     int64\n",
       "Telephone                                                   object\n",
       "foreign_worker                                              object\n",
       "label                                                        int64\n",
       "dtype: object"
      ]
     },
     "execution_count": 5,
     "metadata": {},
     "output_type": "execute_result"
    }
   ],
   "source": [
    "data.dtypes"
   ]
  },
  {
   "cell_type": "code",
   "execution_count": 6,
   "metadata": {
    "collapsed": false
   },
   "outputs": [
    {
     "data": {
      "text/html": [
       "<script>\n",
       "    require.config({\n",
       "         paths:{\n",
       "           'echarts': '/nbextensions/echarts/echarts.min'\n",
       "         }\n",
       "    });\n",
       "</script>\n",
       "<div id=\"7cfe776cf56741049b602039f132a388\" style=\"width:800px; height:400px;\"></div>\n",
       "\n",
       "<script>\n",
       "    require([ 'echarts' ],function(ec){\n",
       "\tvar myChart = ec.init(document.getElementById('7cfe776cf56741049b602039f132a388'));\n",
       "var option =  {\n",
       "    \"title\": [\n",
       "        {\n",
       "            \"text\": \"\\u8d37\\u6b3e\\u72b6\\u6001\\u5360\\u6bd4\",\n",
       "            \"subtext\": \"\",\n",
       "            \"left\": \"auto\",\n",
       "            \"top\": \"auto\",\n",
       "            \"textStyle\": {\n",
       "                \"color\": \"#000\",\n",
       "                \"fontSize\": 18\n",
       "            },\n",
       "            \"subtextStyle\": {\n",
       "                \"color\": \"#aaa\",\n",
       "                \"fontSize\": 12\n",
       "            }\n",
       "        }\n",
       "    ],\n",
       "    \"toolbox\": {\n",
       "        \"show\": true,\n",
       "        \"orient\": \"vertical\",\n",
       "        \"left\": \"95%\",\n",
       "        \"top\": \"center\",\n",
       "        \"feature\": {\n",
       "            \"saveAsImage\": {\n",
       "                \"show\": true,\n",
       "                \"title\": \"\\u4e0b\\u8f7d\\u56fe\\u7247\"\n",
       "            },\n",
       "            \"restore\": {\n",
       "                \"show\": true\n",
       "            },\n",
       "            \"dataView\": {\n",
       "                \"show\": true\n",
       "            }\n",
       "        }\n",
       "    },\n",
       "    \"series_id\": 1314278,\n",
       "    \"tooltip\": {\n",
       "        \"trigger\": \"item\",\n",
       "        \"triggerOn\": \"mousemove|click\",\n",
       "        \"axisPointer\": {\n",
       "            \"type\": \"line\"\n",
       "        },\n",
       "        \"formatter\": null,\n",
       "        \"textStyle\": {\n",
       "            \"color\": \"#fff\",\n",
       "            \"fontSize\": 14\n",
       "        }\n",
       "    },\n",
       "    \"series\": [\n",
       "        {\n",
       "            \"type\": \"pie\",\n",
       "            \"name\": \"\",\n",
       "            \"data\": [\n",
       "                {\n",
       "                    \"name\": \"\\u6b63\\u5e38\",\n",
       "                    \"value\": 700\n",
       "                },\n",
       "                {\n",
       "                    \"name\": \"\\u8fdd\\u7ea6\",\n",
       "                    \"value\": 300\n",
       "                }\n",
       "            ],\n",
       "            \"radius\": [\n",
       "                \"0%\",\n",
       "                \"75%\"\n",
       "            ],\n",
       "            \"center\": [\n",
       "                \"50%\",\n",
       "                \"50%\"\n",
       "            ],\n",
       "            \"roseType\": null,\n",
       "            \"label\": {\n",
       "                \"normal\": {\n",
       "                    \"show\": true,\n",
       "                    \"position\": \"outside\",\n",
       "                    \"textStyle\": {\n",
       "                        \"color\": \"#000\",\n",
       "                        \"fontSize\": 12\n",
       "                    },\n",
       "                    \"formatter\": \"{b}: {d}%\"\n",
       "                },\n",
       "                \"emphasis\": {\n",
       "                    \"show\": true,\n",
       "                    \"position\": null,\n",
       "                    \"textStyle\": {\n",
       "                        \"color\": \"#fff\",\n",
       "                        \"fontSize\": 12\n",
       "                    }\n",
       "                }\n",
       "            },\n",
       "            \"seriesId\": 1314278\n",
       "        }\n",
       "    ],\n",
       "    \"legend\": [\n",
       "        {\n",
       "            \"data\": [\n",
       "                \"\\u6b63\\u5e38\",\n",
       "                \"\\u8fdd\\u7ea6\"\n",
       "            ],\n",
       "            \"selectedMode\": \"multiple\",\n",
       "            \"show\": true,\n",
       "            \"left\": \"center\",\n",
       "            \"top\": \"top\",\n",
       "            \"orient\": \"horizontal\",\n",
       "            \"textStyle\": {\n",
       "                \"fontSize\": 12,\n",
       "                \"color\": \"#333\"\n",
       "            }\n",
       "        }\n",
       "    ],\n",
       "    \"backgroundColor\": \"#fff\",\n",
       "    \"color\": [\n",
       "        \"#c23531\",\n",
       "        \"#2f4554\",\n",
       "        \"#61a0a8\",\n",
       "        \"#d48265\",\n",
       "        \"#749f83\",\n",
       "        \"#ca8622\",\n",
       "        \"#bda29a\",\n",
       "        \"#6e7074\",\n",
       "        \"#546570\",\n",
       "        \"#c4ccd3\",\n",
       "        \"#f05b72\",\n",
       "        \"#ef5b9c\",\n",
       "        \"#f47920\",\n",
       "        \"#905a3d\",\n",
       "        \"#fab27b\",\n",
       "        \"#2a5caa\",\n",
       "        \"#444693\",\n",
       "        \"#726930\",\n",
       "        \"#b2d235\",\n",
       "        \"#6d8346\",\n",
       "        \"#ac6767\",\n",
       "        \"#1d953f\",\n",
       "        \"#6950a1\",\n",
       "        \"#918597\",\n",
       "        \"#f6f5ec\"\n",
       "    ]\n",
       "};\n",
       "myChart.setOption(option);\n",
       "\n",
       "    });\n",
       "</script>\n"
      ],
      "text/plain": [
       "<pyecharts.charts.pie.Pie at 0x1d51c3ce320>"
      ]
     },
     "execution_count": 6,
     "metadata": {},
     "output_type": "execute_result"
    }
   ],
   "source": [
    "attr = [\"正常\", \"违约\"]\n",
    "pie = Pie(\"贷款状态占比\")\n",
    "pie.add(\"\", attr, [int(i) for i in pd.value_counts(data[\"label\"])] ,is_label_show=True)\n",
    "pie"
   ]
  },
  {
   "cell_type": "code",
   "execution_count": 7,
   "metadata": {
    "collapsed": false
   },
   "outputs": [
    {
     "name": "stdout",
     "output_type": "stream",
     "text": [
      "\n",
      "Frequency count for variable Status_of_existing_checking_account\n",
      "A14    394\n",
      "A11    274\n",
      "A12    269\n",
      "A13     63\n",
      "Name: Status_of_existing_checking_account, dtype: int64\n",
      "\n",
      "Frequency count for variable Credit_history\n",
      "A32    530\n",
      "A34    293\n",
      "A33     88\n",
      "A31     49\n",
      "A30     40\n",
      "Name: Credit_history, dtype: int64\n",
      "\n",
      "Frequency count for variable Purpose\n",
      "A43     280\n",
      "A40     234\n",
      "A42     181\n",
      "A41     103\n",
      "A49      97\n",
      "A46      50\n",
      "A45      22\n",
      "A410     12\n",
      "A44      12\n",
      "A48       9\n",
      "Name: Purpose, dtype: int64\n",
      "\n",
      "Frequency count for variable Savings_account\n",
      "A61    603\n",
      "A65    183\n",
      "A62    103\n",
      "A63     63\n",
      "A64     48\n",
      "Name: Savings_account, dtype: int64\n",
      "\n",
      "Frequency count for variable Present_employment_since\n",
      "A73    339\n",
      "A75    253\n",
      "A74    174\n",
      "A72    172\n",
      "A71     62\n",
      "Name: Present_employment_since, dtype: int64\n",
      "\n",
      "Frequency count for variable Personal_status_and_sex\n",
      "A93    548\n",
      "A92    310\n",
      "A94     92\n",
      "A91     50\n",
      "Name: Personal_status_and_sex, dtype: int64\n",
      "\n",
      "Frequency count for variable guarantors\n",
      "A101    907\n",
      "A103     52\n",
      "A102     41\n",
      "Name: guarantors, dtype: int64\n",
      "\n",
      "Frequency count for variable Property\n",
      "A123    332\n",
      "A121    282\n",
      "A122    232\n",
      "A124    154\n",
      "Name: Property, dtype: int64\n",
      "\n",
      "Frequency count for variable Other_installment_plans\n",
      "A143    814\n",
      "A141    139\n",
      "A142     47\n",
      "Name: Other_installment_plans, dtype: int64\n",
      "\n",
      "Frequency count for variable Housing\n",
      "A152    713\n",
      "A151    179\n",
      "A153    108\n",
      "Name: Housing, dtype: int64\n",
      "\n",
      "Frequency count for variable Job\n",
      "A173    630\n",
      "A172    200\n",
      "A174    148\n",
      "A171     22\n",
      "Name: Job, dtype: int64\n",
      "\n",
      "Frequency count for variable Telephone\n",
      "A191    596\n",
      "A192    404\n",
      "Name: Telephone, dtype: int64\n",
      "\n",
      "Frequency count for variable foreign_worker\n",
      "A201    963\n",
      "A202     37\n",
      "Name: foreign_worker, dtype: int64\n"
     ]
    },
    {
     "data": {
      "text/plain": [
       "(1000, 13)"
      ]
     },
     "execution_count": 7,
     "metadata": {},
     "output_type": "execute_result"
    }
   ],
   "source": [
    "objectColumns = data.select_dtypes(include=[\"object\"]).columns\n",
    "var = data[objectColumns].columns\n",
    "for v in var:\n",
    "    print('\\nFrequency count for variable {0}'.format(v))\n",
    "    print(data[v].value_counts())\n",
    "data[objectColumns].shape"
   ]
  },
  {
   "cell_type": "markdown",
   "metadata": {},
   "source": [
    "## 数据转换为数值"
   ]
  },
  {
   "cell_type": "code",
   "execution_count": 8,
   "metadata": {
    "collapsed": false
   },
   "outputs": [],
   "source": [
    "maping = {'Status_of_existing_checking_account':\n",
    "{'A11': 100 , \n",
    "'A12': 200, \n",
    "'A13': 400 , \n",
    "'A14': 0, },\n",
    "\n",
    "'Credit_history':\n",
    "{'A30': 4, \n",
    "'A31': 3, \n",
    "'A32': 2, \n",
    "'A33': 1, \n",
    "'A34': 0, },\n",
    "\n",
    "'Savings_account':\n",
    "{'A61': 100, \n",
    "'A62': 500, \n",
    "'A63': 1000, \n",
    "'A64': 2000, \n",
    "'A65': 1, },\n",
    "\n",
    "'Present_employment_since':\n",
    "{'A71': 0, \n",
    "'A72': 1, \n",
    "'A73': 4, \n",
    "'A74': 7, \n",
    "'A75': 10, },\n",
    "\n",
    "'guarantors':\n",
    "{'A101': 0, \n",
    "'A102': 1, \n",
    "'A103': 2, },\n",
    "\n",
    "'Property':\n",
    "{'A121': 4, \n",
    "'A122': 3, \n",
    "'A123': 2, \n",
    "'A124': 1, },\n",
    "\n",
    "'Housing':\n",
    "{'A151': 1, \n",
    "'A152': 2, \n",
    "'A153': 0, },\n",
    "\n",
    "'Job':\n",
    "{'A171': 1, \n",
    "'A172': 2, \n",
    "'A173': 3, \n",
    "'A174': 4, },\n",
    "\n",
    "'Telephone':\n",
    "{'A191': 0, \n",
    "'A192': 1, },\n",
    "          \n",
    "'foreign_worker':\n",
    "{'A201': 1,\n",
    "'A202': 0}}"
   ]
  },
  {
   "cell_type": "code",
   "execution_count": 9,
   "metadata": {
    "collapsed": false
   },
   "outputs": [
    {
     "data": {
      "text/html": [
       "<div>\n",
       "<style>\n",
       "    .dataframe thead tr:only-child th {\n",
       "        text-align: right;\n",
       "    }\n",
       "\n",
       "    .dataframe thead th {\n",
       "        text-align: left;\n",
       "    }\n",
       "\n",
       "    .dataframe tbody tr th {\n",
       "        vertical-align: top;\n",
       "    }\n",
       "</style>\n",
       "<table border=\"1\" class=\"dataframe\">\n",
       "  <thead>\n",
       "    <tr style=\"text-align: right;\">\n",
       "      <th></th>\n",
       "      <th>Status_of_existing_checking_account</th>\n",
       "      <th>Duration_in_month</th>\n",
       "      <th>Credit_history</th>\n",
       "      <th>Purpose</th>\n",
       "      <th>Credit_amount</th>\n",
       "      <th>Savings_account</th>\n",
       "      <th>Present_employment_since</th>\n",
       "      <th>Installment_rate_in_percentage_of_disposable_income</th>\n",
       "      <th>Personal_status_and_sex</th>\n",
       "      <th>guarantors</th>\n",
       "      <th>...</th>\n",
       "      <th>Property</th>\n",
       "      <th>Age</th>\n",
       "      <th>Other_installment_plans</th>\n",
       "      <th>Housing</th>\n",
       "      <th>Number_of_existing_credits_at_this_bank</th>\n",
       "      <th>Job</th>\n",
       "      <th>Number_of_people_being_liable_to_provide_maintenance_for</th>\n",
       "      <th>Telephone</th>\n",
       "      <th>foreign_worker</th>\n",
       "      <th>label</th>\n",
       "    </tr>\n",
       "  </thead>\n",
       "  <tbody>\n",
       "    <tr>\n",
       "      <th>0</th>\n",
       "      <td>100</td>\n",
       "      <td>6</td>\n",
       "      <td>0</td>\n",
       "      <td>A43</td>\n",
       "      <td>1169</td>\n",
       "      <td>1</td>\n",
       "      <td>10</td>\n",
       "      <td>4</td>\n",
       "      <td>A93</td>\n",
       "      <td>0</td>\n",
       "      <td>...</td>\n",
       "      <td>4</td>\n",
       "      <td>67</td>\n",
       "      <td>A143</td>\n",
       "      <td>2</td>\n",
       "      <td>2</td>\n",
       "      <td>3</td>\n",
       "      <td>1</td>\n",
       "      <td>1</td>\n",
       "      <td>1</td>\n",
       "      <td>1</td>\n",
       "    </tr>\n",
       "    <tr>\n",
       "      <th>1</th>\n",
       "      <td>200</td>\n",
       "      <td>48</td>\n",
       "      <td>2</td>\n",
       "      <td>A43</td>\n",
       "      <td>5951</td>\n",
       "      <td>100</td>\n",
       "      <td>4</td>\n",
       "      <td>2</td>\n",
       "      <td>A92</td>\n",
       "      <td>0</td>\n",
       "      <td>...</td>\n",
       "      <td>4</td>\n",
       "      <td>22</td>\n",
       "      <td>A143</td>\n",
       "      <td>2</td>\n",
       "      <td>1</td>\n",
       "      <td>3</td>\n",
       "      <td>1</td>\n",
       "      <td>0</td>\n",
       "      <td>1</td>\n",
       "      <td>0</td>\n",
       "    </tr>\n",
       "    <tr>\n",
       "      <th>2</th>\n",
       "      <td>0</td>\n",
       "      <td>12</td>\n",
       "      <td>0</td>\n",
       "      <td>A46</td>\n",
       "      <td>2096</td>\n",
       "      <td>100</td>\n",
       "      <td>7</td>\n",
       "      <td>2</td>\n",
       "      <td>A93</td>\n",
       "      <td>0</td>\n",
       "      <td>...</td>\n",
       "      <td>4</td>\n",
       "      <td>49</td>\n",
       "      <td>A143</td>\n",
       "      <td>2</td>\n",
       "      <td>1</td>\n",
       "      <td>2</td>\n",
       "      <td>2</td>\n",
       "      <td>0</td>\n",
       "      <td>1</td>\n",
       "      <td>1</td>\n",
       "    </tr>\n",
       "    <tr>\n",
       "      <th>3</th>\n",
       "      <td>100</td>\n",
       "      <td>42</td>\n",
       "      <td>2</td>\n",
       "      <td>A42</td>\n",
       "      <td>7882</td>\n",
       "      <td>100</td>\n",
       "      <td>7</td>\n",
       "      <td>2</td>\n",
       "      <td>A93</td>\n",
       "      <td>2</td>\n",
       "      <td>...</td>\n",
       "      <td>3</td>\n",
       "      <td>45</td>\n",
       "      <td>A143</td>\n",
       "      <td>0</td>\n",
       "      <td>1</td>\n",
       "      <td>3</td>\n",
       "      <td>2</td>\n",
       "      <td>0</td>\n",
       "      <td>1</td>\n",
       "      <td>1</td>\n",
       "    </tr>\n",
       "    <tr>\n",
       "      <th>4</th>\n",
       "      <td>100</td>\n",
       "      <td>24</td>\n",
       "      <td>1</td>\n",
       "      <td>A40</td>\n",
       "      <td>4870</td>\n",
       "      <td>100</td>\n",
       "      <td>4</td>\n",
       "      <td>3</td>\n",
       "      <td>A93</td>\n",
       "      <td>0</td>\n",
       "      <td>...</td>\n",
       "      <td>1</td>\n",
       "      <td>53</td>\n",
       "      <td>A143</td>\n",
       "      <td>0</td>\n",
       "      <td>2</td>\n",
       "      <td>3</td>\n",
       "      <td>2</td>\n",
       "      <td>0</td>\n",
       "      <td>1</td>\n",
       "      <td>0</td>\n",
       "    </tr>\n",
       "  </tbody>\n",
       "</table>\n",
       "<p>5 rows × 21 columns</p>\n",
       "</div>"
      ],
      "text/plain": [
       "   Status_of_existing_checking_account  Duration_in_month  Credit_history  \\\n",
       "0                                  100                  6               0   \n",
       "1                                  200                 48               2   \n",
       "2                                    0                 12               0   \n",
       "3                                  100                 42               2   \n",
       "4                                  100                 24               1   \n",
       "\n",
       "  Purpose  Credit_amount  Savings_account  Present_employment_since  \\\n",
       "0     A43           1169                1                        10   \n",
       "1     A43           5951              100                         4   \n",
       "2     A46           2096              100                         7   \n",
       "3     A42           7882              100                         7   \n",
       "4     A40           4870              100                         4   \n",
       "\n",
       "   Installment_rate_in_percentage_of_disposable_income  \\\n",
       "0                                                  4     \n",
       "1                                                  2     \n",
       "2                                                  2     \n",
       "3                                                  2     \n",
       "4                                                  3     \n",
       "\n",
       "  Personal_status_and_sex  guarantors  ...    Property  Age  \\\n",
       "0                     A93           0  ...           4   67   \n",
       "1                     A92           0  ...           4   22   \n",
       "2                     A93           0  ...           4   49   \n",
       "3                     A93           2  ...           3   45   \n",
       "4                     A93           0  ...           1   53   \n",
       "\n",
       "   Other_installment_plans Housing  Number_of_existing_credits_at_this_bank  \\\n",
       "0                     A143       2                                        2   \n",
       "1                     A143       2                                        1   \n",
       "2                     A143       2                                        1   \n",
       "3                     A143       0                                        1   \n",
       "4                     A143       0                                        2   \n",
       "\n",
       "   Job  Number_of_people_being_liable_to_provide_maintenance_for  Telephone  \\\n",
       "0    3                                                  1                 1   \n",
       "1    3                                                  1                 0   \n",
       "2    2                                                  2                 0   \n",
       "3    3                                                  2                 0   \n",
       "4    3                                                  2                 0   \n",
       "\n",
       "   foreign_worker  label  \n",
       "0               1      1  \n",
       "1               1      0  \n",
       "2               1      1  \n",
       "3               1      1  \n",
       "4               1      0  \n",
       "\n",
       "[5 rows x 21 columns]"
      ]
     },
     "execution_count": 9,
     "metadata": {},
     "output_type": "execute_result"
    }
   ],
   "source": [
    "data_tranfer = data.copy()\n",
    "for column, map_value in maping.items():\n",
    "    data_tranfer[column] = data[column].map(map_value)\n",
    "data_tranfer.head()"
   ]
  },
  {
   "cell_type": "code",
   "execution_count": 10,
   "metadata": {
    "collapsed": false
   },
   "outputs": [],
   "source": [
    "#for column in data.columns:\n",
    "#    data2[column] = pd.factorize(data[column])[0]\n",
    "#data2.head()"
   ]
  },
  {
   "cell_type": "code",
   "execution_count": 11,
   "metadata": {
    "collapsed": false
   },
   "outputs": [
    {
     "data": {
      "text/html": [
       "<div>\n",
       "<style>\n",
       "    .dataframe thead tr:only-child th {\n",
       "        text-align: right;\n",
       "    }\n",
       "\n",
       "    .dataframe thead th {\n",
       "        text-align: left;\n",
       "    }\n",
       "\n",
       "    .dataframe tbody tr th {\n",
       "        vertical-align: top;\n",
       "    }\n",
       "</style>\n",
       "<table border=\"1\" class=\"dataframe\">\n",
       "  <thead>\n",
       "    <tr style=\"text-align: right;\">\n",
       "      <th></th>\n",
       "      <th>Status_of_existing_checking_account</th>\n",
       "      <th>Duration_in_month</th>\n",
       "      <th>Credit_history</th>\n",
       "      <th>Credit_amount</th>\n",
       "      <th>Savings_account</th>\n",
       "      <th>Present_employment_since</th>\n",
       "      <th>Installment_rate_in_percentage_of_disposable_income</th>\n",
       "      <th>guarantors</th>\n",
       "      <th>Present_residence_since</th>\n",
       "      <th>Property</th>\n",
       "      <th>Age</th>\n",
       "      <th>Housing</th>\n",
       "      <th>Number_of_existing_credits_at_this_bank</th>\n",
       "      <th>Job</th>\n",
       "      <th>Number_of_people_being_liable_to_provide_maintenance_for</th>\n",
       "      <th>Telephone</th>\n",
       "      <th>foreign_worker</th>\n",
       "      <th>label</th>\n",
       "    </tr>\n",
       "  </thead>\n",
       "  <tbody>\n",
       "    <tr>\n",
       "      <th>0</th>\n",
       "      <td>100</td>\n",
       "      <td>6</td>\n",
       "      <td>0</td>\n",
       "      <td>1169</td>\n",
       "      <td>1</td>\n",
       "      <td>10</td>\n",
       "      <td>4</td>\n",
       "      <td>0</td>\n",
       "      <td>4</td>\n",
       "      <td>4</td>\n",
       "      <td>67</td>\n",
       "      <td>2</td>\n",
       "      <td>2</td>\n",
       "      <td>3</td>\n",
       "      <td>1</td>\n",
       "      <td>1</td>\n",
       "      <td>1</td>\n",
       "      <td>1</td>\n",
       "    </tr>\n",
       "    <tr>\n",
       "      <th>1</th>\n",
       "      <td>200</td>\n",
       "      <td>48</td>\n",
       "      <td>2</td>\n",
       "      <td>5951</td>\n",
       "      <td>100</td>\n",
       "      <td>4</td>\n",
       "      <td>2</td>\n",
       "      <td>0</td>\n",
       "      <td>2</td>\n",
       "      <td>4</td>\n",
       "      <td>22</td>\n",
       "      <td>2</td>\n",
       "      <td>1</td>\n",
       "      <td>3</td>\n",
       "      <td>1</td>\n",
       "      <td>0</td>\n",
       "      <td>1</td>\n",
       "      <td>0</td>\n",
       "    </tr>\n",
       "    <tr>\n",
       "      <th>2</th>\n",
       "      <td>0</td>\n",
       "      <td>12</td>\n",
       "      <td>0</td>\n",
       "      <td>2096</td>\n",
       "      <td>100</td>\n",
       "      <td>7</td>\n",
       "      <td>2</td>\n",
       "      <td>0</td>\n",
       "      <td>3</td>\n",
       "      <td>4</td>\n",
       "      <td>49</td>\n",
       "      <td>2</td>\n",
       "      <td>1</td>\n",
       "      <td>2</td>\n",
       "      <td>2</td>\n",
       "      <td>0</td>\n",
       "      <td>1</td>\n",
       "      <td>1</td>\n",
       "    </tr>\n",
       "    <tr>\n",
       "      <th>3</th>\n",
       "      <td>100</td>\n",
       "      <td>42</td>\n",
       "      <td>2</td>\n",
       "      <td>7882</td>\n",
       "      <td>100</td>\n",
       "      <td>7</td>\n",
       "      <td>2</td>\n",
       "      <td>2</td>\n",
       "      <td>4</td>\n",
       "      <td>3</td>\n",
       "      <td>45</td>\n",
       "      <td>0</td>\n",
       "      <td>1</td>\n",
       "      <td>3</td>\n",
       "      <td>2</td>\n",
       "      <td>0</td>\n",
       "      <td>1</td>\n",
       "      <td>1</td>\n",
       "    </tr>\n",
       "    <tr>\n",
       "      <th>4</th>\n",
       "      <td>100</td>\n",
       "      <td>24</td>\n",
       "      <td>1</td>\n",
       "      <td>4870</td>\n",
       "      <td>100</td>\n",
       "      <td>4</td>\n",
       "      <td>3</td>\n",
       "      <td>0</td>\n",
       "      <td>4</td>\n",
       "      <td>1</td>\n",
       "      <td>53</td>\n",
       "      <td>0</td>\n",
       "      <td>2</td>\n",
       "      <td>3</td>\n",
       "      <td>2</td>\n",
       "      <td>0</td>\n",
       "      <td>1</td>\n",
       "      <td>0</td>\n",
       "    </tr>\n",
       "  </tbody>\n",
       "</table>\n",
       "</div>"
      ],
      "text/plain": [
       "   Status_of_existing_checking_account  Duration_in_month  Credit_history  \\\n",
       "0                                  100                  6               0   \n",
       "1                                  200                 48               2   \n",
       "2                                    0                 12               0   \n",
       "3                                  100                 42               2   \n",
       "4                                  100                 24               1   \n",
       "\n",
       "   Credit_amount  Savings_account  Present_employment_since  \\\n",
       "0           1169                1                        10   \n",
       "1           5951              100                         4   \n",
       "2           2096              100                         7   \n",
       "3           7882              100                         7   \n",
       "4           4870              100                         4   \n",
       "\n",
       "   Installment_rate_in_percentage_of_disposable_income  guarantors  \\\n",
       "0                                                  4             0   \n",
       "1                                                  2             0   \n",
       "2                                                  2             0   \n",
       "3                                                  2             2   \n",
       "4                                                  3             0   \n",
       "\n",
       "   Present_residence_since  Property  Age  Housing  \\\n",
       "0                        4         4   67        2   \n",
       "1                        2         4   22        2   \n",
       "2                        3         4   49        2   \n",
       "3                        4         3   45        0   \n",
       "4                        4         1   53        0   \n",
       "\n",
       "   Number_of_existing_credits_at_this_bank  Job  \\\n",
       "0                                        2    3   \n",
       "1                                        1    3   \n",
       "2                                        1    2   \n",
       "3                                        1    3   \n",
       "4                                        2    3   \n",
       "\n",
       "   Number_of_people_being_liable_to_provide_maintenance_for  Telephone  \\\n",
       "0                                                  1                 1   \n",
       "1                                                  1                 0   \n",
       "2                                                  2                 0   \n",
       "3                                                  2                 0   \n",
       "4                                                  2                 0   \n",
       "\n",
       "   foreign_worker  label  \n",
       "0               1      1  \n",
       "1               1      0  \n",
       "2               1      1  \n",
       "3               1      1  \n",
       "4               1      0  "
      ]
     },
     "execution_count": 11,
     "metadata": {},
     "output_type": "execute_result"
    }
   ],
   "source": [
    "drop_cols = ['Other_installment_plans', 'Personal_status_and_sex', 'Purpose']\n",
    "data_drop = data_tranfer.drop(labels=drop_cols, axis=1)\n",
    "data_drop.head()"
   ]
  },
  {
   "cell_type": "code",
   "execution_count": 12,
   "metadata": {
    "collapsed": false
   },
   "outputs": [
    {
     "name": "stdout",
     "output_type": "stream",
     "text": [
      "<class 'pandas.core.frame.DataFrame'>\n",
      "RangeIndex: 1000 entries, 0 to 999\n",
      "Data columns (total 18 columns):\n",
      "Status_of_existing_checking_account                         1000 non-null int64\n",
      "Duration_in_month                                           1000 non-null int64\n",
      "Credit_history                                              1000 non-null int64\n",
      "Credit_amount                                               1000 non-null int64\n",
      "Savings_account                                             1000 non-null int64\n",
      "Present_employment_since                                    1000 non-null int64\n",
      "Installment_rate_in_percentage_of_disposable_income         1000 non-null int64\n",
      "guarantors                                                  1000 non-null int64\n",
      "Present_residence_since                                     1000 non-null int64\n",
      "Property                                                    1000 non-null int64\n",
      "Age                                                         1000 non-null int64\n",
      "Housing                                                     1000 non-null int64\n",
      "Number_of_existing_credits_at_this_bank                     1000 non-null int64\n",
      "Job                                                         1000 non-null int64\n",
      "Number_of_people_being_liable_to_provide_maintenance_for    1000 non-null int64\n",
      "Telephone                                                   1000 non-null int64\n",
      "foreign_worker                                              1000 non-null int64\n",
      "label                                                       1000 non-null int64\n",
      "dtypes: int64(18)\n",
      "memory usage: 140.7 KB\n"
     ]
    }
   ],
   "source": [
    "data_drop.info()"
   ]
  },
  {
   "cell_type": "markdown",
   "metadata": {},
   "source": [
    "## 增加特征"
   ]
  },
  {
   "cell_type": "code",
   "execution_count": 13,
   "metadata": {
    "collapsed": false
   },
   "outputs": [
    {
     "data": {
      "text/html": [
       "<div>\n",
       "<style>\n",
       "    .dataframe thead tr:only-child th {\n",
       "        text-align: right;\n",
       "    }\n",
       "\n",
       "    .dataframe thead th {\n",
       "        text-align: left;\n",
       "    }\n",
       "\n",
       "    .dataframe tbody tr th {\n",
       "        vertical-align: top;\n",
       "    }\n",
       "</style>\n",
       "<table border=\"1\" class=\"dataframe\">\n",
       "  <thead>\n",
       "    <tr style=\"text-align: right;\">\n",
       "      <th></th>\n",
       "      <th>Status_of_existing_checking_account</th>\n",
       "      <th>Duration_in_month</th>\n",
       "      <th>Credit_history</th>\n",
       "      <th>Credit_amount</th>\n",
       "      <th>Savings_account</th>\n",
       "      <th>Present_employment_since</th>\n",
       "      <th>Installment_rate_in_percentage_of_disposable_income</th>\n",
       "      <th>guarantors</th>\n",
       "      <th>Present_residence_since</th>\n",
       "      <th>Property</th>\n",
       "      <th>Age</th>\n",
       "      <th>Housing</th>\n",
       "      <th>Number_of_existing_credits_at_this_bank</th>\n",
       "      <th>Job</th>\n",
       "      <th>Number_of_people_being_liable_to_provide_maintenance_for</th>\n",
       "      <th>Telephone</th>\n",
       "      <th>foreign_worker</th>\n",
       "      <th>label</th>\n",
       "      <th>saving_by_credit</th>\n",
       "      <th>each_loan</th>\n",
       "    </tr>\n",
       "  </thead>\n",
       "  <tbody>\n",
       "    <tr>\n",
       "      <th>0</th>\n",
       "      <td>100</td>\n",
       "      <td>6</td>\n",
       "      <td>0</td>\n",
       "      <td>1169</td>\n",
       "      <td>1</td>\n",
       "      <td>10</td>\n",
       "      <td>4</td>\n",
       "      <td>0</td>\n",
       "      <td>4</td>\n",
       "      <td>4</td>\n",
       "      <td>67</td>\n",
       "      <td>2</td>\n",
       "      <td>2</td>\n",
       "      <td>3</td>\n",
       "      <td>1</td>\n",
       "      <td>1</td>\n",
       "      <td>1</td>\n",
       "      <td>1</td>\n",
       "      <td>0.000855</td>\n",
       "      <td>1169.000000</td>\n",
       "    </tr>\n",
       "    <tr>\n",
       "      <th>1</th>\n",
       "      <td>200</td>\n",
       "      <td>48</td>\n",
       "      <td>2</td>\n",
       "      <td>5951</td>\n",
       "      <td>100</td>\n",
       "      <td>4</td>\n",
       "      <td>2</td>\n",
       "      <td>0</td>\n",
       "      <td>2</td>\n",
       "      <td>4</td>\n",
       "      <td>22</td>\n",
       "      <td>2</td>\n",
       "      <td>1</td>\n",
       "      <td>3</td>\n",
       "      <td>1</td>\n",
       "      <td>0</td>\n",
       "      <td>1</td>\n",
       "      <td>0</td>\n",
       "      <td>0.016804</td>\n",
       "      <td>5951.000000</td>\n",
       "    </tr>\n",
       "    <tr>\n",
       "      <th>2</th>\n",
       "      <td>0</td>\n",
       "      <td>12</td>\n",
       "      <td>0</td>\n",
       "      <td>2096</td>\n",
       "      <td>100</td>\n",
       "      <td>7</td>\n",
       "      <td>2</td>\n",
       "      <td>0</td>\n",
       "      <td>3</td>\n",
       "      <td>4</td>\n",
       "      <td>49</td>\n",
       "      <td>2</td>\n",
       "      <td>1</td>\n",
       "      <td>2</td>\n",
       "      <td>2</td>\n",
       "      <td>0</td>\n",
       "      <td>1</td>\n",
       "      <td>1</td>\n",
       "      <td>0.047710</td>\n",
       "      <td>2096.000000</td>\n",
       "    </tr>\n",
       "    <tr>\n",
       "      <th>3</th>\n",
       "      <td>100</td>\n",
       "      <td>42</td>\n",
       "      <td>2</td>\n",
       "      <td>7882</td>\n",
       "      <td>100</td>\n",
       "      <td>7</td>\n",
       "      <td>2</td>\n",
       "      <td>2</td>\n",
       "      <td>4</td>\n",
       "      <td>3</td>\n",
       "      <td>45</td>\n",
       "      <td>0</td>\n",
       "      <td>1</td>\n",
       "      <td>3</td>\n",
       "      <td>2</td>\n",
       "      <td>0</td>\n",
       "      <td>1</td>\n",
       "      <td>1</td>\n",
       "      <td>0.012687</td>\n",
       "      <td>2627.333333</td>\n",
       "    </tr>\n",
       "    <tr>\n",
       "      <th>4</th>\n",
       "      <td>100</td>\n",
       "      <td>24</td>\n",
       "      <td>1</td>\n",
       "      <td>4870</td>\n",
       "      <td>100</td>\n",
       "      <td>4</td>\n",
       "      <td>3</td>\n",
       "      <td>0</td>\n",
       "      <td>4</td>\n",
       "      <td>1</td>\n",
       "      <td>53</td>\n",
       "      <td>0</td>\n",
       "      <td>2</td>\n",
       "      <td>3</td>\n",
       "      <td>2</td>\n",
       "      <td>0</td>\n",
       "      <td>1</td>\n",
       "      <td>0</td>\n",
       "      <td>0.020534</td>\n",
       "      <td>4870.000000</td>\n",
       "    </tr>\n",
       "  </tbody>\n",
       "</table>\n",
       "</div>"
      ],
      "text/plain": [
       "   Status_of_existing_checking_account  Duration_in_month  Credit_history  \\\n",
       "0                                  100                  6               0   \n",
       "1                                  200                 48               2   \n",
       "2                                    0                 12               0   \n",
       "3                                  100                 42               2   \n",
       "4                                  100                 24               1   \n",
       "\n",
       "   Credit_amount  Savings_account  Present_employment_since  \\\n",
       "0           1169                1                        10   \n",
       "1           5951              100                         4   \n",
       "2           2096              100                         7   \n",
       "3           7882              100                         7   \n",
       "4           4870              100                         4   \n",
       "\n",
       "   Installment_rate_in_percentage_of_disposable_income  guarantors  \\\n",
       "0                                                  4             0   \n",
       "1                                                  2             0   \n",
       "2                                                  2             0   \n",
       "3                                                  2             2   \n",
       "4                                                  3             0   \n",
       "\n",
       "   Present_residence_since  Property  Age  Housing  \\\n",
       "0                        4         4   67        2   \n",
       "1                        2         4   22        2   \n",
       "2                        3         4   49        2   \n",
       "3                        4         3   45        0   \n",
       "4                        4         1   53        0   \n",
       "\n",
       "   Number_of_existing_credits_at_this_bank  Job  \\\n",
       "0                                        2    3   \n",
       "1                                        1    3   \n",
       "2                                        1    2   \n",
       "3                                        1    3   \n",
       "4                                        2    3   \n",
       "\n",
       "   Number_of_people_being_liable_to_provide_maintenance_for  Telephone  \\\n",
       "0                                                  1                 1   \n",
       "1                                                  1                 0   \n",
       "2                                                  2                 0   \n",
       "3                                                  2                 0   \n",
       "4                                                  2                 0   \n",
       "\n",
       "   foreign_worker  label  saving_by_credit    each_loan  \n",
       "0               1      1          0.000855  1169.000000  \n",
       "1               1      0          0.016804  5951.000000  \n",
       "2               1      1          0.047710  2096.000000  \n",
       "3               1      1          0.012687  2627.333333  \n",
       "4               1      0          0.020534  4870.000000  "
      ]
     },
     "execution_count": 13,
     "metadata": {},
     "output_type": "execute_result"
    }
   ],
   "source": [
    "data_add = data_drop.copy()\n",
    "data_add['saving_by_credit'] = data_drop['Savings_account'] / data_drop['Credit_amount']\n",
    "data_add['each_loan'] =   data_drop['Credit_amount'] / (data_drop['guarantors']+1)\n",
    "data_add.head()"
   ]
  },
  {
   "cell_type": "markdown",
   "metadata": {},
   "source": [
    "## 数据划分"
   ]
  },
  {
   "cell_type": "code",
   "execution_count": 14,
   "metadata": {
    "collapsed": true
   },
   "outputs": [],
   "source": [
    "from sklearn.model_selection import train_test_split\n",
    "\n",
    "X = data_add.drop('label', axis=1).astype(np.float64).values\n",
    "y = data_add['label'].values"
   ]
  },
  {
   "cell_type": "markdown",
   "metadata": {},
   "source": [
    "### z-score 规范化"
   ]
  },
  {
   "cell_type": "code",
   "execution_count": 15,
   "metadata": {
    "collapsed": false
   },
   "outputs": [
    {
     "data": {
      "text/html": [
       "<div>\n",
       "<style>\n",
       "    .dataframe thead tr:only-child th {\n",
       "        text-align: right;\n",
       "    }\n",
       "\n",
       "    .dataframe thead th {\n",
       "        text-align: left;\n",
       "    }\n",
       "\n",
       "    .dataframe tbody tr th {\n",
       "        vertical-align: top;\n",
       "    }\n",
       "</style>\n",
       "<table border=\"1\" class=\"dataframe\">\n",
       "  <thead>\n",
       "    <tr style=\"text-align: right;\">\n",
       "      <th></th>\n",
       "      <th>Status_of_existing_checking_account</th>\n",
       "      <th>Duration_in_month</th>\n",
       "      <th>Credit_history</th>\n",
       "      <th>Credit_amount</th>\n",
       "      <th>Savings_account</th>\n",
       "      <th>Present_employment_since</th>\n",
       "      <th>Installment_rate_in_percentage_of_disposable_income</th>\n",
       "      <th>guarantors</th>\n",
       "      <th>Present_residence_since</th>\n",
       "      <th>Property</th>\n",
       "      <th>Age</th>\n",
       "      <th>Housing</th>\n",
       "      <th>Number_of_existing_credits_at_this_bank</th>\n",
       "      <th>Job</th>\n",
       "      <th>Number_of_people_being_liable_to_provide_maintenance_for</th>\n",
       "      <th>Telephone</th>\n",
       "      <th>foreign_worker</th>\n",
       "      <th>label</th>\n",
       "      <th>saving_by_credit</th>\n",
       "      <th>each_loan</th>\n",
       "    </tr>\n",
       "  </thead>\n",
       "  <tbody>\n",
       "    <tr>\n",
       "      <th>0</th>\n",
       "      <td>-0.057803</td>\n",
       "      <td>-1.236478</td>\n",
       "      <td>-1.344014</td>\n",
       "      <td>-0.745131</td>\n",
       "      <td>-0.584510</td>\n",
       "      <td>1.387862</td>\n",
       "      <td>0.918477</td>\n",
       "      <td>-0.303686</td>\n",
       "      <td>1.046987</td>\n",
       "      <td>1.293723</td>\n",
       "      <td>2.766456</td>\n",
       "      <td>0.585603</td>\n",
       "      <td>1.027079</td>\n",
       "      <td>0.146949</td>\n",
       "      <td>-0.428290</td>\n",
       "      <td>1.214598</td>\n",
       "      <td>0.196014</td>\n",
       "      <td>1</td>\n",
       "      <td>-0.365994</td>\n",
       "      <td>-0.696278</td>\n",
       "    </tr>\n",
       "    <tr>\n",
       "      <th>1</th>\n",
       "      <td>0.845372</td>\n",
       "      <td>2.248194</td>\n",
       "      <td>0.503428</td>\n",
       "      <td>0.949817</td>\n",
       "      <td>-0.370176</td>\n",
       "      <td>-0.374876</td>\n",
       "      <td>-0.870183</td>\n",
       "      <td>-0.303686</td>\n",
       "      <td>-0.765977</td>\n",
       "      <td>1.293723</td>\n",
       "      <td>-1.191404</td>\n",
       "      <td>0.585603</td>\n",
       "      <td>-0.704926</td>\n",
       "      <td>0.146949</td>\n",
       "      <td>-0.428290</td>\n",
       "      <td>-0.823318</td>\n",
       "      <td>0.196014</td>\n",
       "      <td>0</td>\n",
       "      <td>-0.331161</td>\n",
       "      <td>1.031663</td>\n",
       "    </tr>\n",
       "    <tr>\n",
       "      <th>2</th>\n",
       "      <td>-0.960978</td>\n",
       "      <td>-0.738668</td>\n",
       "      <td>-1.344014</td>\n",
       "      <td>-0.416562</td>\n",
       "      <td>-0.370176</td>\n",
       "      <td>0.506493</td>\n",
       "      <td>-0.870183</td>\n",
       "      <td>-0.303686</td>\n",
       "      <td>0.140505</td>\n",
       "      <td>1.293723</td>\n",
       "      <td>1.183312</td>\n",
       "      <td>0.585603</td>\n",
       "      <td>-0.704926</td>\n",
       "      <td>-1.383771</td>\n",
       "      <td>2.334869</td>\n",
       "      <td>-0.823318</td>\n",
       "      <td>0.196014</td>\n",
       "      <td>1</td>\n",
       "      <td>-0.263660</td>\n",
       "      <td>-0.361313</td>\n",
       "    </tr>\n",
       "    <tr>\n",
       "      <th>3</th>\n",
       "      <td>-0.057803</td>\n",
       "      <td>1.750384</td>\n",
       "      <td>0.503428</td>\n",
       "      <td>1.634247</td>\n",
       "      <td>-0.370176</td>\n",
       "      <td>0.506493</td>\n",
       "      <td>-0.870183</td>\n",
       "      <td>3.885083</td>\n",
       "      <td>1.046987</td>\n",
       "      <td>0.341055</td>\n",
       "      <td>0.831502</td>\n",
       "      <td>-2.379476</td>\n",
       "      <td>-0.704926</td>\n",
       "      <td>0.146949</td>\n",
       "      <td>2.334869</td>\n",
       "      <td>-0.823318</td>\n",
       "      <td>0.196014</td>\n",
       "      <td>1</td>\n",
       "      <td>-0.340153</td>\n",
       "      <td>-0.169320</td>\n",
       "    </tr>\n",
       "    <tr>\n",
       "      <th>4</th>\n",
       "      <td>-0.057803</td>\n",
       "      <td>0.256953</td>\n",
       "      <td>-0.420293</td>\n",
       "      <td>0.566664</td>\n",
       "      <td>-0.370176</td>\n",
       "      <td>-0.374876</td>\n",
       "      <td>0.024147</td>\n",
       "      <td>-0.303686</td>\n",
       "      <td>1.046987</td>\n",
       "      <td>-1.564281</td>\n",
       "      <td>1.535122</td>\n",
       "      <td>-2.379476</td>\n",
       "      <td>1.027079</td>\n",
       "      <td>0.146949</td>\n",
       "      <td>2.334869</td>\n",
       "      <td>-0.823318</td>\n",
       "      <td>0.196014</td>\n",
       "      <td>0</td>\n",
       "      <td>-0.323015</td>\n",
       "      <td>0.641052</td>\n",
       "    </tr>\n",
       "  </tbody>\n",
       "</table>\n",
       "</div>"
      ],
      "text/plain": [
       "   Status_of_existing_checking_account  Duration_in_month  Credit_history  \\\n",
       "0                            -0.057803          -1.236478       -1.344014   \n",
       "1                             0.845372           2.248194        0.503428   \n",
       "2                            -0.960978          -0.738668       -1.344014   \n",
       "3                            -0.057803           1.750384        0.503428   \n",
       "4                            -0.057803           0.256953       -0.420293   \n",
       "\n",
       "   Credit_amount  Savings_account  Present_employment_since  \\\n",
       "0      -0.745131        -0.584510                  1.387862   \n",
       "1       0.949817        -0.370176                 -0.374876   \n",
       "2      -0.416562        -0.370176                  0.506493   \n",
       "3       1.634247        -0.370176                  0.506493   \n",
       "4       0.566664        -0.370176                 -0.374876   \n",
       "\n",
       "   Installment_rate_in_percentage_of_disposable_income  guarantors  \\\n",
       "0                                           0.918477     -0.303686   \n",
       "1                                          -0.870183     -0.303686   \n",
       "2                                          -0.870183     -0.303686   \n",
       "3                                          -0.870183      3.885083   \n",
       "4                                           0.024147     -0.303686   \n",
       "\n",
       "   Present_residence_since  Property       Age   Housing  \\\n",
       "0                 1.046987  1.293723  2.766456  0.585603   \n",
       "1                -0.765977  1.293723 -1.191404  0.585603   \n",
       "2                 0.140505  1.293723  1.183312  0.585603   \n",
       "3                 1.046987  0.341055  0.831502 -2.379476   \n",
       "4                 1.046987 -1.564281  1.535122 -2.379476   \n",
       "\n",
       "   Number_of_existing_credits_at_this_bank       Job  \\\n",
       "0                                 1.027079  0.146949   \n",
       "1                                -0.704926  0.146949   \n",
       "2                                -0.704926 -1.383771   \n",
       "3                                -0.704926  0.146949   \n",
       "4                                 1.027079  0.146949   \n",
       "\n",
       "   Number_of_people_being_liable_to_provide_maintenance_for  Telephone  \\\n",
       "0                                          -0.428290          1.214598   \n",
       "1                                          -0.428290         -0.823318   \n",
       "2                                           2.334869         -0.823318   \n",
       "3                                           2.334869         -0.823318   \n",
       "4                                           2.334869         -0.823318   \n",
       "\n",
       "   foreign_worker  label  saving_by_credit  each_loan  \n",
       "0        0.196014      1         -0.365994  -0.696278  \n",
       "1        0.196014      0         -0.331161   1.031663  \n",
       "2        0.196014      1         -0.263660  -0.361313  \n",
       "3        0.196014      1         -0.340153  -0.169320  \n",
       "4        0.196014      0         -0.323015   0.641052  "
      ]
     },
     "execution_count": 15,
     "metadata": {},
     "output_type": "execute_result"
    }
   ],
   "source": [
    "from sklearn.preprocessing import scale\n",
    "X_scale = scale(X)\n",
    "\n",
    "col = data_add.columns.drop('label') #剔除目标变量\n",
    "data_scale = data_add.copy()\n",
    "from sklearn.preprocessing import StandardScaler # 导入模块\n",
    "sc =StandardScaler() # 初始化缩放器\n",
    "data_scale[col] =sc.fit_transform(data_scale[col]) #对数据进行标准化\n",
    "data_scale.head() #查看经标准化后的数据"
   ]
  },
  {
   "cell_type": "code",
   "execution_count": 16,
   "metadata": {
    "collapsed": false
   },
   "outputs": [],
   "source": [
    "x_val = data_scale.drop('label', axis=1)\n",
    "y_val = data_scale['label']"
   ]
  },
  {
   "cell_type": "markdown",
   "metadata": {},
   "source": [
    "## 递归特征消除 (Recursive Feature Elimination)"
   ]
  },
  {
   "cell_type": "code",
   "execution_count": 17,
   "metadata": {
    "collapsed": false
   },
   "outputs": [
    {
     "name": "stdout",
     "output_type": "stream",
     "text": [
      "[ True  True  True  True  True  True  True False False False False  True\n",
      " False False False  True  True False False]\n",
      "[ 1  1  1  1  1  1  1  4  8  6  5  1  2 10  9  1  1  7  3]\n"
     ]
    }
   ],
   "source": [
    "from sklearn.feature_selection import RFE\n",
    "from sklearn.linear_model import LogisticRegression\n",
    "# 建立逻辑回归分类器\n",
    "model = LogisticRegression()\n",
    "# 建立递归特征消除筛选器\n",
    "rfe = RFE(model, 10) #通过递归选择特征，选择30个特征\n",
    "rfe = rfe.fit(x_val, y_val)\n",
    "# 打印筛选结果\n",
    "print(rfe.support_)\n",
    "print(rfe.ranking_) #ranking 为 1代表被选中，其他则未被代表未被选中"
   ]
  },
  {
   "cell_type": "code",
   "execution_count": 18,
   "metadata": {
    "collapsed": false,
    "scrolled": false
   },
   "outputs": [
    {
     "data": {
      "text/plain": [
       "Index(['Status_of_existing_checking_account', 'Duration_in_month',\n",
       "       'Credit_history', 'Credit_amount', 'Savings_account',\n",
       "       'Present_employment_since',\n",
       "       'Installment_rate_in_percentage_of_disposable_income', 'Housing',\n",
       "       'Telephone', 'foreign_worker'],\n",
       "      dtype='object')"
      ]
     },
     "execution_count": 18,
     "metadata": {},
     "output_type": "execute_result"
    }
   ],
   "source": [
    "col_filter = x_val.columns[rfe.support_] #通过布尔值筛选首次降维后的变量\n",
    "col_filter # 查看通过递归特征消除法筛选的变量"
   ]
  },
  {
   "cell_type": "markdown",
   "metadata": {},
   "source": [
    "## 相关性分析"
   ]
  },
  {
   "cell_type": "code",
   "execution_count": 19,
   "metadata": {
    "collapsed": false
   },
   "outputs": [
    {
     "data": {
      "text/plain": [
       "<matplotlib.axes._subplots.AxesSubplot at 0x1d51d86a080>"
      ]
     },
     "execution_count": 19,
     "metadata": {},
     "output_type": "execute_result"
    },
    {
     "data": {
      "image/png": "[encoded data removed]",
      "text/plain": [
       "<matplotlib.figure.Figure at 0x1d51d84ffd0>"
      ]
     },
     "metadata": {},
     "output_type": "display_data"
    }
   ],
   "source": [
    "colormap = plt.cm.viridis\n",
    "plt.figure(figsize=(12,12))\n",
    "plt.title('Pearson Correlation of Features', y=1.05, size=15)\n",
    "sns.heatmap(data_scale[col_filter].corr(),linewidths=0.1,vmax=1.0, square=True, cmap=colormap, linecolor='white', annot=True)"
   ]
  },
  {
   "cell_type": "markdown",
   "metadata": {},
   "source": [
    "## Embedded"
   ]
  },
  {
   "cell_type": "code",
   "execution_count": 20,
   "metadata": {
    "collapsed": false
   },
   "outputs": [
    {
     "name": "stdout",
     "output_type": "stream",
     "text": [
      "('Status_of_existing_checking_account', 0.1094375084510419)\n",
      "('Duration_in_month', 0.085310467528865688)\n",
      "('Credit_history', 0.068860835170413373)\n",
      "('Credit_amount', 0.11521275097639147)\n",
      "('Savings_account', 0.029010466906583411)\n",
      "('Present_employment_since', 0.055628848768016347)\n",
      "('Installment_rate_in_percentage_of_disposable_income', 0.03808188180916855)\n",
      "('guarantors', 0.024102217787252817)\n",
      "('Present_residence_since', 0.032546095901067537)\n",
      "('Property', 0.041687231704734304)\n",
      "('Age', 0.10627991962415897)\n",
      "('Housing', 0.014037357485973342)\n",
      "('Number_of_existing_credits_at_this_bank', 0.02053506181011281)\n",
      "('Job', 0.020856197287260809)\n",
      "('Number_of_people_being_liable_to_provide_maintenance_for', 0.0098091239375144579)\n",
      "('Telephone', 0.015104714199101915)\n",
      "('foreign_worker', 0.0021353886222161104)\n",
      "('label', 0.1061873374240139)\n",
      "('saving_by_credit', 0.10517659460611228)\n"
     ]
    }
   ],
   "source": [
    "names = data_scale.columns\n",
    "from sklearn.ensemble import RandomForestClassifier\n",
    "clf=RandomForestClassifier(n_estimators=10,random_state=123)#构建分类随机森林分类器\n",
    "clf.fit(x_val, y_val) #对自变量和因变量进行拟合\n",
    "names, clf.feature_importances_\n",
    "for feature in zip(names, clf.feature_importances_):\n",
    "    print(feature)"
   ]
  },
  {
   "cell_type": "code",
   "execution_count": 21,
   "metadata": {
    "collapsed": false
   },
   "outputs": [
    {
     "data": {
      "image/png": "[encoded data removed]",
      "text/plain": [
       "<matplotlib.figure.Figure at 0x1d519f20940>"
      ]
     },
     "metadata": {},
     "output_type": "display_data"
    }
   ],
   "source": [
    "plt.style.use('fivethirtyeight')\n",
    "plt.rcParams['figure.figsize'] = (12,6)\n",
    "\n",
    "## feature importances 可视化##\n",
    "importances = clf.feature_importances_\n",
    "feat_names = names\n",
    "indices = np.argsort(importances)[::-1]\n",
    "fig = plt.figure(figsize=(20,6))\n",
    "plt.title(\"Feature importances by RandomTreeClassifier\")\n",
    "plt.bar(range(len(indices)), importances[indices], color='lightblue',  align=\"center\")\n",
    "plt.step(range(len(indices)), np.cumsum(importances[indices]), where='mid', label='Cumulative')\n",
    "plt.xticks(range(len(indices)), feat_names[indices], rotation='vertical',fontsize=14)\n",
    "plt.xlim([-1, len(indices)])\n",
    "plt.show()"
   ]
  },
  {
   "cell_type": "markdown",
   "metadata": {},
   "source": [
    "## 过采样"
   ]
  },
  {
   "cell_type": "code",
   "execution_count": 22,
   "metadata": {
    "collapsed": false
   },
   "outputs": [
    {
     "name": "stdout",
     "output_type": "stream",
     "text": [
      "样本个数：1000; 正样本占70.00%; 负样本占0.00%\n",
      "特征维数： 19\n"
     ]
    }
   ],
   "source": [
    "# 构建自变量和因变量\n",
    "X = data_scale.drop('label', axis=1)\n",
    "y = data['label']\n",
    "\n",
    "n_sample = y.shape[0]\n",
    "n_pos_sample = y[y == 1].shape[0]\n",
    "n_neg_sample = y[y == 2].shape[0]\n",
    "print('样本个数：{}; 正样本占{:.2%}; 负样本占{:.2%}'.format(n_sample,\n",
    "                                                   n_pos_sample / n_sample,\n",
    "                                                   n_neg_sample / n_sample))\n",
    "print('特征维数：', X.shape[1])"
   ]
  },
  {
   "cell_type": "code",
   "execution_count": 23,
   "metadata": {
    "collapsed": false
   },
   "outputs": [
    {
     "name": "stdout",
     "output_type": "stream",
     "text": [
      "通过SMOTE方法平衡正负样本后\n",
      "样本个数：1400; 正样本占50.00%; 负样本占0.00%\n"
     ]
    }
   ],
   "source": [
    "from imblearn.over_sampling import SMOTE # 导入SMOTE算法模块\n",
    "# 处理不平衡数据\n",
    "sm = SMOTE(random_state=42)    # 处理过采样的方法\n",
    "X, y = sm.fit_sample(X, y)\n",
    "print('通过SMOTE方法平衡正负样本后')\n",
    "n_sample = y.shape[0]\n",
    "n_pos_sample = y[y == 1].shape[0]\n",
    "n_neg_sample = y[y == 2].shape[0]\n",
    "print('样本个数：{}; 正样本占{:.2%}; 负样本占{:.2%}'.format(n_sample,\n",
    "                                                   n_pos_sample / n_sample,\n",
    "                                                   n_neg_sample / n_sample))"
   ]
  },
  {
   "cell_type": "code",
   "execution_count": 24,
   "metadata": {
    "collapsed": false,
    "scrolled": true
   },
   "outputs": [
    {
     "data": {
      "text/plain": [
       "LogisticRegression(C=1.0, class_weight=None, dual=False, fit_intercept=True,\n",
       "          intercept_scaling=1, max_iter=100, multi_class='ovr', n_jobs=1,\n",
       "          penalty='l2', random_state=None, solver='liblinear', tol=0.0001,\n",
       "          verbose=0, warm_start=False)"
      ]
     },
     "execution_count": 24,
     "metadata": {},
     "output_type": "execute_result"
    }
   ],
   "source": [
    "from sklearn.linear_model import LogisticRegression\n",
    "clf1 = LogisticRegression() # 构建逻辑回归分类器\n",
    "clf1.fit(X, y)"
   ]
  },
  {
   "cell_type": "code",
   "execution_count": 25,
   "metadata": {
    "collapsed": true
   },
   "outputs": [],
   "source": [
    "predicted1 = clf.predict(X) # 通过分类器产生预测结果"
   ]
  },
  {
   "cell_type": "code",
   "execution_count": 26,
   "metadata": {
    "collapsed": false
   },
   "outputs": [
    {
     "name": "stdout",
     "output_type": "stream",
     "text": [
      "Test set accuracy score: 0.93929\n"
     ]
    }
   ],
   "source": [
    "from sklearn.metrics import accuracy_score\n",
    "print(\"Test set accuracy score: {:.5f}\".format(accuracy_score(predicted1, y,)))"
   ]
  },
  {
   "cell_type": "code",
   "execution_count": 27,
   "metadata": {
    "collapsed": false
   },
   "outputs": [
    {
     "data": {
      "text/plain": [
       "array([[621,  79],\n",
       "       [  6, 694]], dtype=int64)"
      ]
     },
     "execution_count": 27,
     "metadata": {},
     "output_type": "execute_result"
    }
   ],
   "source": [
    "from sklearn.metrics import confusion_matrix\n",
    "m = confusion_matrix(y, predicted1) \n",
    "m"
   ]
  },
  {
   "cell_type": "code",
   "execution_count": 28,
   "metadata": {
    "collapsed": false
   },
   "outputs": [
    {
     "data": {
      "text/plain": [
       "<matplotlib.axes._subplots.AxesSubplot at 0x1d51de869b0>"
      ]
     },
     "execution_count": 28,
     "metadata": {},
     "output_type": "execute_result"
    },
    {
     "data": {
      "image/png": "[encoded data removed]",
      "text/plain": [
       "<matplotlib.figure.Figure at 0x1d51d84fdd8>"
      ]
     },
     "metadata": {},
     "output_type": "display_data"
    }
   ],
   "source": [
    "plt.figure(figsize=(5,3))\n",
    "sns.heatmap(m) # 混淆矩阵可视化"
   ]
  },
  {
   "cell_type": "code",
   "execution_count": 29,
   "metadata": {
    "collapsed": false,
    "scrolled": true
   },
   "outputs": [
    {
     "name": "stdout",
     "output_type": "stream",
     "text": [
      "             precision    recall  f1-score   support\n",
      "\n",
      "          0       0.99      0.89      0.94       700\n",
      "          1       0.90      0.99      0.94       700\n",
      "\n",
      "avg / total       0.94      0.94      0.94      1400\n",
      "\n"
     ]
    }
   ],
   "source": [
    "from sklearn.metrics import classification_report\n",
    "print(classification_report(y, predicted1))"
   ]
  },
  {
   "cell_type": "code",
   "execution_count": 30,
   "metadata": {
    "collapsed": false
   },
   "outputs": [
    {
     "name": "stdout",
     "output_type": "stream",
     "text": [
      "Area under the ROC curve : 0.939286\n"
     ]
    }
   ],
   "source": [
    "from sklearn.metrics import roc_auc_score\n",
    "roc_auc1 = roc_auc_score(y, predicted1)\n",
    "print(\"Area under the ROC curve : %f\" % roc_auc1)"
   ]
  },
  {
   "cell_type": "markdown",
   "metadata": {},
   "source": [
    "## cross-validation+grid search"
   ]
  },
  {
   "cell_type": "code",
   "execution_count": 31,
   "metadata": {
    "collapsed": false,
    "scrolled": true
   },
   "outputs": [
    {
     "name": "stderr",
     "output_type": "stream",
     "text": [
      "C:\\Users\\J\\AppData\\Local\\Continuum\\Anaconda3\\lib\\site-packages\\sklearn\\cross_validation.py:41: DeprecationWarning: This module was deprecated in version 0.18 in favor of the model_selection module into which all the refactored classes and functions are moved. Also note that the interface of the new CV iterators are different from that of this module. This module will be removed in 0.20.\n",
      "  \"This module will be removed in 0.20.\", DeprecationWarning)\n"
     ]
    },
    {
     "data": {
      "text/plain": [
       "GridSearchCV(cv=10, error_score='raise',\n",
       "       estimator=LogisticRegression(C=1.0, class_weight=None, dual=False, fit_intercept=True,\n",
       "          intercept_scaling=1, max_iter=100, multi_class='ovr', n_jobs=1,\n",
       "          penalty='l2', random_state=None, solver='liblinear', tol=0.0001,\n",
       "          verbose=0, warm_start=False),\n",
       "       fit_params=None, iid=True, n_jobs=1,\n",
       "       param_grid={'C': [0.01, 0.1, 1, 10, 100, 1000], 'penalty': ['l1', 'l2']},\n",
       "       pre_dispatch='2*n_jobs', refit=True, return_train_score=True,\n",
       "       scoring=None, verbose=0)"
      ]
     },
     "execution_count": 31,
     "metadata": {},
     "output_type": "execute_result"
    }
   ],
   "source": [
    "from sklearn.model_selection import GridSearchCV\n",
    "from sklearn.cross_validation import train_test_split\n",
    "\n",
    "X_train, X_test, y_train, y_test = train_test_split(X, y, test_size = 0.3, random_state = 0) # random_state = 0 每次切分的数据都一样\n",
    "# 构建参数组合\n",
    "param_grid = {'C': [0.01,0.1, 1, 10, 100, 1000,],\n",
    "                            'penalty': [ 'l1', 'l2']}\n",
    "\n",
    "grid_search = GridSearchCV(LogisticRegression(),  param_grid, cv=10) # 确定模型LogisticRegression，和参数组合param_grid ，cv指定5折\n",
    "grid_search.fit(X_train, y_train) # 使用训练集学习算法"
   ]
  },
  {
   "cell_type": "code",
   "execution_count": 32,
   "metadata": {
    "collapsed": false
   },
   "outputs": [],
   "source": [
    "results = pd.DataFrame(grid_search.cv_results_) \n",
    "best = np.argmax(results.mean_test_score.values)"
   ]
  },
  {
   "cell_type": "code",
   "execution_count": 33,
   "metadata": {
    "collapsed": false,
    "scrolled": true
   },
   "outputs": [
    {
     "name": "stdout",
     "output_type": "stream",
     "text": [
      "Best parameters: {'C': 1, 'penalty': 'l1'}\n",
      "Best cross-validation score: 0.70918\n"
     ]
    }
   ],
   "source": [
    "print(\"Best parameters: {}\".format(grid_search.best_params_))\n",
    "print(\"Best cross-validation score: {:.5f}\".format(grid_search.best_score_))"
   ]
  },
  {
   "cell_type": "code",
   "execution_count": 34,
   "metadata": {
    "collapsed": false
   },
   "outputs": [
    {
     "data": {
      "text/html": [
       "<div>\n",
       "<style>\n",
       "    .dataframe thead tr:only-child th {\n",
       "        text-align: right;\n",
       "    }\n",
       "\n",
       "    .dataframe thead th {\n",
       "        text-align: left;\n",
       "    }\n",
       "\n",
       "    .dataframe tbody tr th {\n",
       "        vertical-align: top;\n",
       "    }\n",
       "</style>\n",
       "<table border=\"1\" class=\"dataframe\">\n",
       "  <thead>\n",
       "    <tr style=\"text-align: right;\">\n",
       "      <th></th>\n",
       "      <th>mean_fit_time</th>\n",
       "      <th>mean_score_time</th>\n",
       "      <th>mean_test_score</th>\n",
       "      <th>mean_train_score</th>\n",
       "      <th>param_C</th>\n",
       "      <th>param_penalty</th>\n",
       "      <th>params</th>\n",
       "      <th>rank_test_score</th>\n",
       "      <th>split0_test_score</th>\n",
       "      <th>split0_train_score</th>\n",
       "      <th>...</th>\n",
       "      <th>split7_test_score</th>\n",
       "      <th>split7_train_score</th>\n",
       "      <th>split8_test_score</th>\n",
       "      <th>split8_train_score</th>\n",
       "      <th>split9_test_score</th>\n",
       "      <th>split9_train_score</th>\n",
       "      <th>std_fit_time</th>\n",
       "      <th>std_score_time</th>\n",
       "      <th>std_test_score</th>\n",
       "      <th>std_train_score</th>\n",
       "    </tr>\n",
       "  </thead>\n",
       "  <tbody>\n",
       "    <tr>\n",
       "      <th>0</th>\n",
       "      <td>0.001403</td>\n",
       "      <td>0.000398</td>\n",
       "      <td>0.605102</td>\n",
       "      <td>0.606471</td>\n",
       "      <td>0.01</td>\n",
       "      <td>l1</td>\n",
       "      <td>{'C': 0.01, 'penalty': 'l1'}</td>\n",
       "      <td>12</td>\n",
       "      <td>0.585859</td>\n",
       "      <td>0.603859</td>\n",
       "      <td>...</td>\n",
       "      <td>0.628866</td>\n",
       "      <td>0.608154</td>\n",
       "      <td>0.587629</td>\n",
       "      <td>0.599094</td>\n",
       "      <td>0.670103</td>\n",
       "      <td>0.595696</td>\n",
       "      <td>0.000489</td>\n",
       "      <td>0.000488</td>\n",
       "      <td>0.047932</td>\n",
       "      <td>0.019982</td>\n",
       "    </tr>\n",
       "    <tr>\n",
       "      <th>1</th>\n",
       "      <td>0.002002</td>\n",
       "      <td>0.000400</td>\n",
       "      <td>0.703061</td>\n",
       "      <td>0.716666</td>\n",
       "      <td>0.01</td>\n",
       "      <td>l2</td>\n",
       "      <td>{'C': 0.01, 'penalty': 'l2'}</td>\n",
       "      <td>10</td>\n",
       "      <td>0.676768</td>\n",
       "      <td>0.724177</td>\n",
       "      <td>...</td>\n",
       "      <td>0.649485</td>\n",
       "      <td>0.725934</td>\n",
       "      <td>0.690722</td>\n",
       "      <td>0.727067</td>\n",
       "      <td>0.762887</td>\n",
       "      <td>0.711212</td>\n",
       "      <td>0.000775</td>\n",
       "      <td>0.000490</td>\n",
       "      <td>0.030972</td>\n",
       "      <td>0.006485</td>\n",
       "    </tr>\n",
       "    <tr>\n",
       "      <th>2</th>\n",
       "      <td>0.001901</td>\n",
       "      <td>0.000100</td>\n",
       "      <td>0.702041</td>\n",
       "      <td>0.717573</td>\n",
       "      <td>0.1</td>\n",
       "      <td>l1</td>\n",
       "      <td>{'C': 0.1, 'penalty': 'l1'}</td>\n",
       "      <td>11</td>\n",
       "      <td>0.676768</td>\n",
       "      <td>0.720772</td>\n",
       "      <td>...</td>\n",
       "      <td>0.628866</td>\n",
       "      <td>0.727067</td>\n",
       "      <td>0.701031</td>\n",
       "      <td>0.723669</td>\n",
       "      <td>0.773196</td>\n",
       "      <td>0.715742</td>\n",
       "      <td>0.000539</td>\n",
       "      <td>0.000300</td>\n",
       "      <td>0.042786</td>\n",
       "      <td>0.006538</td>\n",
       "    </tr>\n",
       "    <tr>\n",
       "      <th>3</th>\n",
       "      <td>0.003104</td>\n",
       "      <td>0.000100</td>\n",
       "      <td>0.708163</td>\n",
       "      <td>0.723128</td>\n",
       "      <td>0.1</td>\n",
       "      <td>l2</td>\n",
       "      <td>{'C': 0.1, 'penalty': 'l2'}</td>\n",
       "      <td>6</td>\n",
       "      <td>0.676768</td>\n",
       "      <td>0.719637</td>\n",
       "      <td>...</td>\n",
       "      <td>0.670103</td>\n",
       "      <td>0.729332</td>\n",
       "      <td>0.680412</td>\n",
       "      <td>0.729332</td>\n",
       "      <td>0.783505</td>\n",
       "      <td>0.716874</td>\n",
       "      <td>0.000535</td>\n",
       "      <td>0.000300</td>\n",
       "      <td>0.036504</td>\n",
       "      <td>0.005104</td>\n",
       "    </tr>\n",
       "    <tr>\n",
       "      <th>4</th>\n",
       "      <td>0.013809</td>\n",
       "      <td>0.000501</td>\n",
       "      <td>0.709184</td>\n",
       "      <td>0.724263</td>\n",
       "      <td>1</td>\n",
       "      <td>l1</td>\n",
       "      <td>{'C': 1, 'penalty': 'l1'}</td>\n",
       "      <td>1</td>\n",
       "      <td>0.676768</td>\n",
       "      <td>0.723042</td>\n",
       "      <td>...</td>\n",
       "      <td>0.670103</td>\n",
       "      <td>0.724802</td>\n",
       "      <td>0.690722</td>\n",
       "      <td>0.731597</td>\n",
       "      <td>0.793814</td>\n",
       "      <td>0.714609</td>\n",
       "      <td>0.003432</td>\n",
       "      <td>0.000501</td>\n",
       "      <td>0.039045</td>\n",
       "      <td>0.005520</td>\n",
       "    </tr>\n",
       "    <tr>\n",
       "      <th>5</th>\n",
       "      <td>0.003202</td>\n",
       "      <td>0.000300</td>\n",
       "      <td>0.707143</td>\n",
       "      <td>0.723244</td>\n",
       "      <td>1</td>\n",
       "      <td>l2</td>\n",
       "      <td>{'C': 1, 'penalty': 'l2'}</td>\n",
       "      <td>8</td>\n",
       "      <td>0.676768</td>\n",
       "      <td>0.725312</td>\n",
       "      <td>...</td>\n",
       "      <td>0.649485</td>\n",
       "      <td>0.723669</td>\n",
       "      <td>0.690722</td>\n",
       "      <td>0.729332</td>\n",
       "      <td>0.793814</td>\n",
       "      <td>0.713477</td>\n",
       "      <td>0.000400</td>\n",
       "      <td>0.000459</td>\n",
       "      <td>0.040887</td>\n",
       "      <td>0.004856</td>\n",
       "    </tr>\n",
       "    <tr>\n",
       "      <th>6</th>\n",
       "      <td>0.020714</td>\n",
       "      <td>0.000300</td>\n",
       "      <td>0.707143</td>\n",
       "      <td>0.721769</td>\n",
       "      <td>10</td>\n",
       "      <td>l1</td>\n",
       "      <td>{'C': 10, 'penalty': 'l1'}</td>\n",
       "      <td>8</td>\n",
       "      <td>0.676768</td>\n",
       "      <td>0.725312</td>\n",
       "      <td>...</td>\n",
       "      <td>0.649485</td>\n",
       "      <td>0.724802</td>\n",
       "      <td>0.701031</td>\n",
       "      <td>0.729332</td>\n",
       "      <td>0.783505</td>\n",
       "      <td>0.712344</td>\n",
       "      <td>0.005201</td>\n",
       "      <td>0.000458</td>\n",
       "      <td>0.038502</td>\n",
       "      <td>0.005422</td>\n",
       "    </tr>\n",
       "    <tr>\n",
       "      <th>7</th>\n",
       "      <td>0.004103</td>\n",
       "      <td>0.000600</td>\n",
       "      <td>0.708163</td>\n",
       "      <td>0.721769</td>\n",
       "      <td>10</td>\n",
       "      <td>l2</td>\n",
       "      <td>{'C': 10, 'penalty': 'l2'}</td>\n",
       "      <td>6</td>\n",
       "      <td>0.676768</td>\n",
       "      <td>0.724177</td>\n",
       "      <td>...</td>\n",
       "      <td>0.649485</td>\n",
       "      <td>0.724802</td>\n",
       "      <td>0.701031</td>\n",
       "      <td>0.729332</td>\n",
       "      <td>0.783505</td>\n",
       "      <td>0.712344</td>\n",
       "      <td>0.000831</td>\n",
       "      <td>0.000490</td>\n",
       "      <td>0.037811</td>\n",
       "      <td>0.005412</td>\n",
       "    </tr>\n",
       "    <tr>\n",
       "      <th>8</th>\n",
       "      <td>0.022515</td>\n",
       "      <td>0.000100</td>\n",
       "      <td>0.709184</td>\n",
       "      <td>0.721655</td>\n",
       "      <td>100</td>\n",
       "      <td>l1</td>\n",
       "      <td>{'C': 100, 'penalty': 'l1'}</td>\n",
       "      <td>1</td>\n",
       "      <td>0.676768</td>\n",
       "      <td>0.724177</td>\n",
       "      <td>...</td>\n",
       "      <td>0.649485</td>\n",
       "      <td>0.724802</td>\n",
       "      <td>0.711340</td>\n",
       "      <td>0.729332</td>\n",
       "      <td>0.783505</td>\n",
       "      <td>0.713477</td>\n",
       "      <td>0.006937</td>\n",
       "      <td>0.000300</td>\n",
       "      <td>0.037744</td>\n",
       "      <td>0.005156</td>\n",
       "    </tr>\n",
       "    <tr>\n",
       "      <th>9</th>\n",
       "      <td>0.003502</td>\n",
       "      <td>0.000400</td>\n",
       "      <td>0.709184</td>\n",
       "      <td>0.721541</td>\n",
       "      <td>100</td>\n",
       "      <td>l2</td>\n",
       "      <td>{'C': 100, 'penalty': 'l2'}</td>\n",
       "      <td>1</td>\n",
       "      <td>0.676768</td>\n",
       "      <td>0.723042</td>\n",
       "      <td>...</td>\n",
       "      <td>0.649485</td>\n",
       "      <td>0.724802</td>\n",
       "      <td>0.711340</td>\n",
       "      <td>0.729332</td>\n",
       "      <td>0.783505</td>\n",
       "      <td>0.713477</td>\n",
       "      <td>0.000672</td>\n",
       "      <td>0.000490</td>\n",
       "      <td>0.037744</td>\n",
       "      <td>0.005112</td>\n",
       "    </tr>\n",
       "    <tr>\n",
       "      <th>10</th>\n",
       "      <td>0.021015</td>\n",
       "      <td>0.000601</td>\n",
       "      <td>0.709184</td>\n",
       "      <td>0.721541</td>\n",
       "      <td>1000</td>\n",
       "      <td>l1</td>\n",
       "      <td>{'C': 1000, 'penalty': 'l1'}</td>\n",
       "      <td>1</td>\n",
       "      <td>0.676768</td>\n",
       "      <td>0.723042</td>\n",
       "      <td>...</td>\n",
       "      <td>0.649485</td>\n",
       "      <td>0.723669</td>\n",
       "      <td>0.711340</td>\n",
       "      <td>0.729332</td>\n",
       "      <td>0.783505</td>\n",
       "      <td>0.714609</td>\n",
       "      <td>0.004339</td>\n",
       "      <td>0.000490</td>\n",
       "      <td>0.037744</td>\n",
       "      <td>0.004881</td>\n",
       "    </tr>\n",
       "    <tr>\n",
       "      <th>11</th>\n",
       "      <td>0.003802</td>\n",
       "      <td>0.000701</td>\n",
       "      <td>0.709184</td>\n",
       "      <td>0.721428</td>\n",
       "      <td>1000</td>\n",
       "      <td>l2</td>\n",
       "      <td>{'C': 1000, 'penalty': 'l2'}</td>\n",
       "      <td>1</td>\n",
       "      <td>0.676768</td>\n",
       "      <td>0.723042</td>\n",
       "      <td>...</td>\n",
       "      <td>0.649485</td>\n",
       "      <td>0.723669</td>\n",
       "      <td>0.711340</td>\n",
       "      <td>0.729332</td>\n",
       "      <td>0.783505</td>\n",
       "      <td>0.713477</td>\n",
       "      <td>0.000749</td>\n",
       "      <td>0.000459</td>\n",
       "      <td>0.037744</td>\n",
       "      <td>0.005050</td>\n",
       "    </tr>\n",
       "  </tbody>\n",
       "</table>\n",
       "<p>12 rows × 32 columns</p>\n",
       "</div>"
      ],
      "text/plain": [
       "    mean_fit_time  mean_score_time  mean_test_score  mean_train_score param_C  \\\n",
       "0        0.001403         0.000398         0.605102          0.606471    0.01   \n",
       "1        0.002002         0.000400         0.703061          0.716666    0.01   \n",
       "2        0.001901         0.000100         0.702041          0.717573     0.1   \n",
       "3        0.003104         0.000100         0.708163          0.723128     0.1   \n",
       "4        0.013809         0.000501         0.709184          0.724263       1   \n",
       "5        0.003202         0.000300         0.707143          0.723244       1   \n",
       "6        0.020714         0.000300         0.707143          0.721769      10   \n",
       "7        0.004103         0.000600         0.708163          0.721769      10   \n",
       "8        0.022515         0.000100         0.709184          0.721655     100   \n",
       "9        0.003502         0.000400         0.709184          0.721541     100   \n",
       "10       0.021015         0.000601         0.709184          0.721541    1000   \n",
       "11       0.003802         0.000701         0.709184          0.721428    1000   \n",
       "\n",
       "   param_penalty                        params  rank_test_score  \\\n",
       "0             l1  {'C': 0.01, 'penalty': 'l1'}               12   \n",
       "1             l2  {'C': 0.01, 'penalty': 'l2'}               10   \n",
       "2             l1   {'C': 0.1, 'penalty': 'l1'}               11   \n",
       "3             l2   {'C': 0.1, 'penalty': 'l2'}                6   \n",
       "4             l1     {'C': 1, 'penalty': 'l1'}                1   \n",
       "5             l2     {'C': 1, 'penalty': 'l2'}                8   \n",
       "6             l1    {'C': 10, 'penalty': 'l1'}                8   \n",
       "7             l2    {'C': 10, 'penalty': 'l2'}                6   \n",
       "8             l1   {'C': 100, 'penalty': 'l1'}                1   \n",
       "9             l2   {'C': 100, 'penalty': 'l2'}                1   \n",
       "10            l1  {'C': 1000, 'penalty': 'l1'}                1   \n",
       "11            l2  {'C': 1000, 'penalty': 'l2'}                1   \n",
       "\n",
       "    split0_test_score  split0_train_score       ...         split7_test_score  \\\n",
       "0            0.585859            0.603859       ...                  0.628866   \n",
       "1            0.676768            0.724177       ...                  0.649485   \n",
       "2            0.676768            0.720772       ...                  0.628866   \n",
       "3            0.676768            0.719637       ...                  0.670103   \n",
       "4            0.676768            0.723042       ...                  0.670103   \n",
       "5            0.676768            0.725312       ...                  0.649485   \n",
       "6            0.676768            0.725312       ...                  0.649485   \n",
       "7            0.676768            0.724177       ...                  0.649485   \n",
       "8            0.676768            0.724177       ...                  0.649485   \n",
       "9            0.676768            0.723042       ...                  0.649485   \n",
       "10           0.676768            0.723042       ...                  0.649485   \n",
       "11           0.676768            0.723042       ...                  0.649485   \n",
       "\n",
       "    split7_train_score  split8_test_score  split8_train_score  \\\n",
       "0             0.608154           0.587629            0.599094   \n",
       "1             0.725934           0.690722            0.727067   \n",
       "2             0.727067           0.701031            0.723669   \n",
       "3             0.729332           0.680412            0.729332   \n",
       "4             0.724802           0.690722            0.731597   \n",
       "5             0.723669           0.690722            0.729332   \n",
       "6             0.724802           0.701031            0.729332   \n",
       "7             0.724802           0.701031            0.729332   \n",
       "8             0.724802           0.711340            0.729332   \n",
       "9             0.724802           0.711340            0.729332   \n",
       "10            0.723669           0.711340            0.729332   \n",
       "11            0.723669           0.711340            0.729332   \n",
       "\n",
       "    split9_test_score  split9_train_score  std_fit_time  std_score_time  \\\n",
       "0            0.670103            0.595696      0.000489        0.000488   \n",
       "1            0.762887            0.711212      0.000775        0.000490   \n",
       "2            0.773196            0.715742      0.000539        0.000300   \n",
       "3            0.783505            0.716874      0.000535        0.000300   \n",
       "4            0.793814            0.714609      0.003432        0.000501   \n",
       "5            0.793814            0.713477      0.000400        0.000459   \n",
       "6            0.783505            0.712344      0.005201        0.000458   \n",
       "7            0.783505            0.712344      0.000831        0.000490   \n",
       "8            0.783505            0.713477      0.006937        0.000300   \n",
       "9            0.783505            0.713477      0.000672        0.000490   \n",
       "10           0.783505            0.714609      0.004339        0.000490   \n",
       "11           0.783505            0.713477      0.000749        0.000459   \n",
       "\n",
       "    std_test_score  std_train_score  \n",
       "0         0.047932         0.019982  \n",
       "1         0.030972         0.006485  \n",
       "2         0.042786         0.006538  \n",
       "3         0.036504         0.005104  \n",
       "4         0.039045         0.005520  \n",
       "5         0.040887         0.004856  \n",
       "6         0.038502         0.005422  \n",
       "7         0.037811         0.005412  \n",
       "8         0.037744         0.005156  \n",
       "9         0.037744         0.005112  \n",
       "10        0.037744         0.004881  \n",
       "11        0.037744         0.005050  \n",
       "\n",
       "[12 rows x 32 columns]"
      ]
     },
     "execution_count": 34,
     "metadata": {},
     "output_type": "execute_result"
    }
   ],
   "source": [
    "results"
   ]
  },
  {
   "cell_type": "code",
   "execution_count": 35,
   "metadata": {
    "collapsed": false,
    "scrolled": false
   },
   "outputs": [
    {
     "data": {
      "text/plain": [
       "<matplotlib.axes._subplots.AxesSubplot at 0x1d51e551978>"
      ]
     },
     "execution_count": 35,
     "metadata": {},
     "output_type": "execute_result"
    },
    {
     "data": {
      "image/png": "[encoded data removed]",
      "text/plain": [
       "<matplotlib.figure.Figure at 0x1d51e551a20>"
      ]
     },
     "metadata": {},
     "output_type": "display_data"
    }
   ],
   "source": [
    "scores = np.array(results.mean_test_score).reshape(2, 6)\n",
    "sns.heatmap(scores,  yticklabels=param_grid['penalty'], xticklabels=param_grid['C'], cmap=\"viridis\")"
   ]
  },
  {
   "cell_type": "code",
   "execution_count": 36,
   "metadata": {
    "collapsed": false,
    "scrolled": true
   },
   "outputs": [
    {
     "name": "stdout",
     "output_type": "stream",
     "text": [
      "Best estimator:\n",
      "LogisticRegression(C=1, class_weight=None, dual=False, fit_intercept=True,\n",
      "          intercept_scaling=1, max_iter=100, multi_class='ovr', n_jobs=1,\n",
      "          penalty='l1', random_state=None, solver='liblinear', tol=0.0001,\n",
      "          verbose=0, warm_start=False)\n"
     ]
    }
   ],
   "source": [
    "print(\"Best estimator:\\n{}\".format(grid_search.best_estimator_))#grid_search.best_estimator_ 返回模型以及他的所有参数（包含最优参数）"
   ]
  },
  {
   "cell_type": "code",
   "execution_count": 37,
   "metadata": {
    "collapsed": false
   },
   "outputs": [
    {
     "name": "stdout",
     "output_type": "stream",
     "text": [
      "Test set accuracy score: 0.71429\n"
     ]
    }
   ],
   "source": [
    "y_pred = grid_search.predict(X_test)\n",
    "print(\"Test set accuracy score: {:.5f}\".format(accuracy_score(y_test, y_pred,)))"
   ]
  },
  {
   "cell_type": "code",
   "execution_count": 38,
   "metadata": {
    "collapsed": false
   },
   "outputs": [
    {
     "name": "stdout",
     "output_type": "stream",
     "text": [
      "             precision    recall  f1-score   support\n",
      "\n",
      "          0       0.71      0.74      0.73       215\n",
      "          1       0.72      0.68      0.70       205\n",
      "\n",
      "avg / total       0.71      0.71      0.71       420\n",
      "\n"
     ]
    }
   ],
   "source": [
    "print(classification_report(y_test, y_pred))"
   ]
  },
  {
   "cell_type": "code",
   "execution_count": 39,
   "metadata": {
    "collapsed": false
   },
   "outputs": [
    {
     "data": {
      "text/plain": [
       "<matplotlib.axes._subplots.AxesSubplot at 0x1d51e6459e8>"
      ]
     },
     "execution_count": 39,
     "metadata": {},
     "output_type": "execute_result"
    },
    {
     "data": {
      "image/png": "[encoded data removed]",
      "text/plain": [
       "<matplotlib.figure.Figure at 0x1d51dfd99e8>"
      ]
     },
     "metadata": {},
     "output_type": "display_data"
    }
   ],
   "source": [
    "m2 = confusion_matrix(y_test, y_pred) \n",
    "plt.figure(figsize=(5,3))\n",
    "sns.heatmap(m2) # 混淆矩阵可视化"
   ]
  },
  {
   "cell_type": "markdown",
   "metadata": {},
   "source": [
    "### 数据划分"
   ]
  },
  {
   "cell_type": "code",
   "execution_count": 40,
   "metadata": {
    "collapsed": false
   },
   "outputs": [],
   "source": [
    "#X_train , X_test, y_train,  y_test = train_test_split(X_scale, y, test_size=0.2)"
   ]
  },
  {
   "cell_type": "markdown",
   "metadata": {},
   "source": [
    "## 使用最邻近算法"
   ]
  },
  {
   "cell_type": "markdown",
   "metadata": {},
   "source": [
    "### cross-validation"
   ]
  },
  {
   "cell_type": "code",
   "execution_count": 41,
   "metadata": {
    "collapsed": false
   },
   "outputs": [],
   "source": [
    "#from sklearn.model_selection import cross_val_score\n",
    "#lda = LinearDiscriminantAnalysis()\n",
    "#scores = cross_val_score(lda, X_train, y_train, cv=10)\n",
    "#scores"
   ]
  },
  {
   "cell_type": "markdown",
   "metadata": {},
   "source": [
    "### 网格搜索"
   ]
  },
  {
   "cell_type": "code",
   "execution_count": 42,
   "metadata": {
    "collapsed": true
   },
   "outputs": [],
   "source": [
    "from sklearn.discriminant_analysis import LinearDiscriminantAnalysis\n",
    "lda = LinearDiscriminantAnalysis()\n",
    "lda.fit(X_train, y_train)\n",
    "\n",
    "from sklearn.tree import DecisionTreeClassifier\n",
    "dtc = DecisionTreeClassifier()\n",
    "dtc.fit(X_train, y_train)\n",
    "\n",
    "from sklearn.naive_bayes import GaussianNB\n",
    "gnb = GaussianNB()\n",
    "gnb.fit(X_train, y_train)\n",
    "\n",
    "\n",
    "from sklearn.neighbors import KNeighborsClassifier\n",
    "knn = KNeighborsClassifier()\n",
    "knn.fit(X_train, y_train)\n",
    "\n",
    "from sklearn.linear_model import LogisticRegression\n",
    "lg = LogisticRegression()\n",
    "lg.fit(X_train, y_train)\n",
    "\n",
    "y_pre_lda = lda.predict(X_test)\n",
    "y_pre_dtc = dtc.predict(X_test)\n",
    "y_pre_gnb = gnb.predict(X_test)\n",
    "y_pre_knn = knn.predict(X_test)\n",
    "y_pre_lg = lg.predict(X_test)"
   ]
  },
  {
   "cell_type": "code",
   "execution_count": 43,
   "metadata": {
    "collapsed": false
   },
   "outputs": [
    {
     "name": "stdout",
     "output_type": "stream",
     "text": [
      "LDA 准确度:\t 0.716666666667\n",
      "LDA 准确率:\t 0.719387755102\n",
      "LDA 召回率:\t 0.687804878049\n",
      "\n",
      "DecisionTree 准确度:\t 0.766666666667\n",
      "DecisionTree 准确率:\t 0.755980861244\n",
      "DecisionTree 召回率:\t 0.770731707317\n",
      "\n",
      "GaussianNB 准确度:\t 0.671428571429\n",
      "GaussianNB 准确率:\t 0.744525547445\n",
      "GaussianNB 召回率:\t 0.49756097561\n",
      "\n",
      "KNN 准确度:\t 0.72380952381\n",
      "KNN 准确率:\t 0.798657718121\n",
      "KNN 召回率:\t 0.580487804878\n",
      "\n",
      "LogisticRegression 准确度:\t 0.714285714286\n",
      "LogisticRegression 准确率:\t 0.717948717949\n",
      "LogisticRegression 召回率:\t 0.682926829268\n",
      "\n"
     ]
    }
   ],
   "source": [
    "y_preds =  dict(LDA=y_pre_lda, DecisionTree=y_pre_dtc, GaussianNB=y_pre_gnb, KNN=y_pre_knn, LogisticRegression=y_pre_lg)\n",
    "from sklearn.metrics import precision_score\n",
    "from sklearn.metrics import recall_score\n",
    "from sklearn.metrics import accuracy_score\n",
    "for name, y_pred in y_preds.items():\n",
    "    print(name,'准确度:\\t', accuracy_score(y_test, y_pred))\n",
    "    print(name,'准确率:\\t', precision_score(y_test, y_pred))\n",
    "    print(name,'召回率:\\t', recall_score(y_test, y_pred))\n",
    "    print()"
   ]
  },
  {
   "cell_type": "code",
   "execution_count": 44,
   "metadata": {
    "collapsed": false,
    "scrolled": false
   },
   "outputs": [
    {
     "name": "stdout",
     "output_type": "stream",
     "text": [
      "LDA              precision    recall  f1-score   support\n",
      "\n",
      "          0       0.71      0.74      0.73       215\n",
      "          1       0.72      0.69      0.70       205\n",
      "\n",
      "avg / total       0.72      0.72      0.72       420\n",
      "\n",
      "\n",
      "\n",
      "\n",
      "DecisionTree              precision    recall  f1-score   support\n",
      "\n",
      "          0       0.78      0.76      0.77       215\n",
      "          1       0.76      0.77      0.76       205\n",
      "\n",
      "avg / total       0.77      0.77      0.77       420\n",
      "\n",
      "\n",
      "\n",
      "\n",
      "GaussianNB              precision    recall  f1-score   support\n",
      "\n",
      "          0       0.64      0.84      0.72       215\n",
      "          1       0.74      0.50      0.60       205\n",
      "\n",
      "avg / total       0.69      0.67      0.66       420\n",
      "\n",
      "\n",
      "\n",
      "\n",
      "KNN              precision    recall  f1-score   support\n",
      "\n",
      "          0       0.68      0.86      0.76       215\n",
      "          1       0.80      0.58      0.67       205\n",
      "\n",
      "avg / total       0.74      0.72      0.72       420\n",
      "\n",
      "\n",
      "\n",
      "\n",
      "LogisticRegression              precision    recall  f1-score   support\n",
      "\n",
      "          0       0.71      0.74      0.73       215\n",
      "          1       0.72      0.68      0.70       205\n",
      "\n",
      "avg / total       0.71      0.71      0.71       420\n",
      "\n",
      "\n",
      "\n",
      "\n"
     ]
    }
   ],
   "source": [
    "for name, y_pred in y_preds.items():\n",
    "    print(name, classification_report(y_test, y_pred))\n",
    "    print('\\n\\n')"
   ]
  },
  {
   "cell_type": "code",
   "execution_count": 45,
   "metadata": {
    "collapsed": true
   },
   "outputs": [],
   "source": [
    "from sklearn.metrics import confusion_matrix\n",
    "from plot_comfusion_matrix import *"
   ]
  },
  {
   "cell_type": "code",
   "execution_count": 46,
   "metadata": {
    "collapsed": false,
    "scrolled": false
   },
   "outputs": [
    {
     "name": "stdout",
     "output_type": "stream",
     "text": [
      "Normalized confusion matrix\n",
      "[[ 0.74418605  0.25581395]\n",
      " [ 0.31219512  0.68780488]]\n"
     ]
    },
    {
     "data": {
      "image/png": "[encoded data removed]",
      "text/plain": [
       "<matplotlib.figure.Figure at 0x1d51e66c630>"
      ]
     },
     "metadata": {},
     "output_type": "display_data"
    },
    {
     "name": "stdout",
     "output_type": "stream",
     "text": [
      "\n",
      "\n",
      "\n",
      "Normalized confusion matrix\n",
      "[[ 0.7627907   0.2372093 ]\n",
      " [ 0.22926829  0.77073171]]\n"
     ]
    },
    {
     "data": {
      "image/png": "[encoded data removed]",
      "text/plain": [
       "<matplotlib.figure.Figure at 0x1d51ec054e0>"
      ]
     },
     "metadata": {},
     "output_type": "display_data"
    },
    {
     "name": "stdout",
     "output_type": "stream",
     "text": [
      "\n",
      "\n",
      "\n",
      "Normalized confusion matrix\n",
      "[[ 0.8372093   0.1627907 ]\n",
      " [ 0.50243902  0.49756098]]\n"
     ]
    },
    {
     "data": {
      "image/png": "[encoded data removed]",
      "text/plain": [
       "<matplotlib.figure.Figure at 0x1d51eb65198>"
      ]
     },
     "metadata": {},
     "output_type": "display_data"
    },
    {
     "name": "stdout",
     "output_type": "stream",
     "text": [
      "\n",
      "\n",
      "\n",
      "Normalized confusion matrix\n",
      "[[ 0.86046512  0.13953488]\n",
      " [ 0.4195122   0.5804878 ]]\n"
     ]
    },
    {
     "data": {
      "image/png": "[encoded data removed]",
      "text/plain": [
       "<matplotlib.figure.Figure at 0x1d51f434518>"
      ]
     },
     "metadata": {},
     "output_type": "display_data"
    },
    {
     "name": "stdout",
     "output_type": "stream",
     "text": [
      "\n",
      "\n",
      "\n",
      "Normalized confusion matrix\n",
      "[[ 0.74418605  0.25581395]\n",
      " [ 0.31707317  0.68292683]]\n"
     ]
    },
    {
     "data": {
      "image/png": "[encoded data removed]",
      "text/plain": [
       "<matplotlib.figure.Figure at 0x1d51f56e4a8>"
      ]
     },
     "metadata": {},
     "output_type": "display_data"
    },
    {
     "name": "stdout",
     "output_type": "stream",
     "text": [
      "\n",
      "\n",
      "\n"
     ]
    }
   ],
   "source": [
    "y_preds =  dict(LDA=y_pre_lda, DecisionTree=y_pre_dtc, GaussianNB=y_pre_gnb, KNN=y_pre_knn, LogisticRegression=y_pre_lg)\n",
    "classs = ['good', 'bad']\n",
    "for name,y_pred in y_preds.items():\n",
    "    cm = confusion_matrix(y_test, y_pred)    \n",
    "    plot_confusion_matrix(cm, classes=classs,normalize=True, title='Confusion matrix of {}'.format(name))\n",
    "    plt.show()\n",
    "    print('\\n\\n')"
   ]
  },
  {
   "cell_type": "code",
   "execution_count": 47,
   "metadata": {
    "collapsed": false
   },
   "outputs": [
    {
     "name": "stdout",
     "output_type": "stream",
     "text": [
      "knn_best:0.780612\n"
     ]
    }
   ],
   "source": [
    "from sklearn.model_selection import RandomizedSearchCV\n",
    "from sklearn.model_selection import GridSearchCV\n",
    "from sklearn.neighbors import KNeighborsClassifier\n",
    "\n",
    "knn = KNeighborsClassifier()\n",
    "k_range = list(range(1,20))\n",
    "weight_options = ['uniform', 'distance']\n",
    "kernel = ['linear', 'poly', 'rbf', 'sigmoid', 'precomputed']\n",
    "algorithm = ['auto', 'ball_tree', 'kd_tree', 'brute']\n",
    "\n",
    "param_knn = dict(n_neighbors=k_range, weights=weight_options, algorithm=algorithm)\n",
    "#rand_knn = GridSearchCV(knn, param_knn, cv=10, scoring='accuracy')\n",
    "rand_knn = RandomizedSearchCV(knn, param_knn, cv=10, scoring='accuracy',n_iter=10, random_state=5)\n",
    "rand_knn.fit(X_train, y_train)\n",
    "print(\"knn_best:%f\" %rand_knn.best_score_)"
   ]
  },
  {
   "cell_type": "code",
   "execution_count": 48,
   "metadata": {
    "collapsed": false
   },
   "outputs": [
    {
     "name": "stdout",
     "output_type": "stream",
     "text": [
      "accuracy: 0.804761904762\n",
      "             precision    recall  f1-score   support\n",
      "\n",
      "          0       0.75      0.94      0.83       215\n",
      "          1       0.91      0.66      0.77       205\n",
      "\n",
      "avg / total       0.83      0.80      0.80       420\n",
      "\n"
     ]
    }
   ],
   "source": [
    "y_knn_pred = rand_knn.predict(X_test)\n",
    "print('accuracy:', accuracy_score(y_test, y_knn_pred))\n",
    "print(classification_report(y_test, y_knn_pred))"
   ]
  },
  {
   "cell_type": "code",
   "execution_count": 50,
   "metadata": {
    "collapsed": false
   },
   "outputs": [
    {
     "name": "stdout",
     "output_type": "stream",
     "text": [
      "Area under the ROC curve : 0.801475\n"
     ]
    }
   ],
   "source": [
    "from sklearn.metrics import roc_auc_score\n",
    "roc_auc1 = roc_auc_score(y_test, y_knn_pred)\n",
    "print(\"Area under the ROC curve : %f\" % roc_auc1)"
   ]
  },
  {
   "cell_type": "code",
   "execution_count": 49,
   "metadata": {
    "collapsed": false
   },
   "outputs": [
    {
     "name": "stdout",
     "output_type": "stream",
     "text": [
      "Normalized confusion matrix\n",
      "[[ 0.93953488  0.06046512]\n",
      " [ 0.33658537  0.66341463]]\n"
     ]
    },
    {
     "data": {
      "image/png": "[encoded data removed]",
      "text/plain": [
       "<matplotlib.figure.Figure at 0x1d51e702550>"
      ]
     },
     "metadata": {},
     "output_type": "display_data"
    }
   ],
   "source": [
    "cm = confusion_matrix(y_test, y_knn_pred)    \n",
    "plot_confusion_matrix(cm, classes=classs,normalize=True, title='Confusion matrix of best KNN')"
   ]
  },
  {
   "cell_type": "code",
   "execution_count": null,
   "metadata": {
    "collapsed": true
   },
   "outputs": [],
   "source": []
  }
 ],
 "metadata": {
  "kernelspec": {
   "display_name": "Python [conda root]",
   "language": "python",
   "name": "conda-root-py"
  },
  "language_info": {
   "codemirror_mode": {
    "name": "ipython",
    "version": 3
   },
   "file_extension": ".py",
   "mimetype": "text/x-python",
   "name": "python",
   "nbconvert_exporter": "python",
   "pygments_lexer": "ipython3",
   "version": "3.6.2"
  },
  "toc": {
   "nav_menu": {},
   "number_sections": true,
   "sideBar": true,
   "skip_h1_title": false,
   "toc_cell": false,
   "toc_position": {},
   "toc_section_display": "block",
   "toc_window_display": false
  },
  "varInspector": {
   "cols": {
    "lenName": 16,
    "lenType": 16,
    "lenVar": 40
   },
   "kernels_config": {
    "python": {
     "delete_cmd_postfix": "",
     "delete_cmd_prefix": "del ",
     "library": "var_list.py",
     "varRefreshCmd": "print(var_dic_list())"
    },
    "r": {
     "delete_cmd_postfix": ") ",
     "delete_cmd_prefix": "rm(",
     "library": "var_list.r",
     "varRefreshCmd": "cat(var_dic_list()) "
    }
   },
   "types_to_exclude": [
    "module",
    "function",
    "builtin_function_or_method",
    "instance",
    "_Feature"
   ],
   "window_display": false
  }
 },
 "nbformat": 4,
 "nbformat_minor": 2
}
