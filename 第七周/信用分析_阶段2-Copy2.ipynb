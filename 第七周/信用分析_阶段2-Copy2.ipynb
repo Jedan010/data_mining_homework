{
 "cells": [
  {
   "cell_type": "code",
   "execution_count": 35,
   "metadata": {
    "collapsed": true
   },
   "outputs": [],
   "source": [
    "import pandas as pd\n",
    "import numpy as np\n",
    "import matplotlib.pyplot as plt\n",
    "import seaborn as sns\n",
    "%matplotlib inline\n",
    "from pyecharts import Pie\n",
    "import missingno as msno\n",
    "from sklearn import metrics as mt\n",
    "\n",
    "from attr import *\n",
    "from plot_comfusion_matrix import *"
   ]
  },
  {
   "cell_type": "markdown",
   "metadata": {},
   "source": [
    "## 导入数据"
   ]
  },
  {
   "cell_type": "code",
   "execution_count": 2,
   "metadata": {
    "collapsed": false
   },
   "outputs": [
    {
     "data": {
      "text/html": [
       "<div>\n",
       "<style>\n",
       "    .dataframe thead tr:only-child th {\n",
       "        text-align: right;\n",
       "    }\n",
       "\n",
       "    .dataframe thead th {\n",
       "        text-align: left;\n",
       "    }\n",
       "\n",
       "    .dataframe tbody tr th {\n",
       "        vertical-align: top;\n",
       "    }\n",
       "</style>\n",
       "<table border=\"1\" class=\"dataframe\">\n",
       "  <thead>\n",
       "    <tr style=\"text-align: right;\">\n",
       "      <th></th>\n",
       "      <th>Status_of_existing_checking_account</th>\n",
       "      <th>Duration_in_month</th>\n",
       "      <th>Credit_history</th>\n",
       "      <th>Purpose</th>\n",
       "      <th>Credit_amount</th>\n",
       "      <th>Savings_account</th>\n",
       "      <th>Present_employment_since</th>\n",
       "      <th>Installment_rate_in_percentage_of_disposable_income</th>\n",
       "      <th>Personal_status_and_sex</th>\n",
       "      <th>guarantors</th>\n",
       "      <th>...</th>\n",
       "      <th>Property</th>\n",
       "      <th>Age</th>\n",
       "      <th>Other_installment_plans</th>\n",
       "      <th>Housing</th>\n",
       "      <th>Number_of_existing_credits_at_this_bank</th>\n",
       "      <th>Job</th>\n",
       "      <th>Number_of_people_being_liable_to_provide_maintenance_for</th>\n",
       "      <th>Telephone</th>\n",
       "      <th>foreign_worker</th>\n",
       "      <th>label</th>\n",
       "    </tr>\n",
       "  </thead>\n",
       "  <tbody>\n",
       "    <tr>\n",
       "      <th>0</th>\n",
       "      <td>A11</td>\n",
       "      <td>6</td>\n",
       "      <td>A34</td>\n",
       "      <td>A43</td>\n",
       "      <td>1169</td>\n",
       "      <td>A65</td>\n",
       "      <td>A75</td>\n",
       "      <td>4</td>\n",
       "      <td>A93</td>\n",
       "      <td>A101</td>\n",
       "      <td>...</td>\n",
       "      <td>A121</td>\n",
       "      <td>67</td>\n",
       "      <td>A143</td>\n",
       "      <td>A152</td>\n",
       "      <td>2</td>\n",
       "      <td>A173</td>\n",
       "      <td>1</td>\n",
       "      <td>A192</td>\n",
       "      <td>A201</td>\n",
       "      <td>1</td>\n",
       "    </tr>\n",
       "    <tr>\n",
       "      <th>1</th>\n",
       "      <td>A12</td>\n",
       "      <td>48</td>\n",
       "      <td>A32</td>\n",
       "      <td>A43</td>\n",
       "      <td>5951</td>\n",
       "      <td>A61</td>\n",
       "      <td>A73</td>\n",
       "      <td>2</td>\n",
       "      <td>A92</td>\n",
       "      <td>A101</td>\n",
       "      <td>...</td>\n",
       "      <td>A121</td>\n",
       "      <td>22</td>\n",
       "      <td>A143</td>\n",
       "      <td>A152</td>\n",
       "      <td>1</td>\n",
       "      <td>A173</td>\n",
       "      <td>1</td>\n",
       "      <td>A191</td>\n",
       "      <td>A201</td>\n",
       "      <td>0</td>\n",
       "    </tr>\n",
       "    <tr>\n",
       "      <th>2</th>\n",
       "      <td>A14</td>\n",
       "      <td>12</td>\n",
       "      <td>A34</td>\n",
       "      <td>A46</td>\n",
       "      <td>2096</td>\n",
       "      <td>A61</td>\n",
       "      <td>A74</td>\n",
       "      <td>2</td>\n",
       "      <td>A93</td>\n",
       "      <td>A101</td>\n",
       "      <td>...</td>\n",
       "      <td>A121</td>\n",
       "      <td>49</td>\n",
       "      <td>A143</td>\n",
       "      <td>A152</td>\n",
       "      <td>1</td>\n",
       "      <td>A172</td>\n",
       "      <td>2</td>\n",
       "      <td>A191</td>\n",
       "      <td>A201</td>\n",
       "      <td>1</td>\n",
       "    </tr>\n",
       "    <tr>\n",
       "      <th>3</th>\n",
       "      <td>A11</td>\n",
       "      <td>42</td>\n",
       "      <td>A32</td>\n",
       "      <td>A42</td>\n",
       "      <td>7882</td>\n",
       "      <td>A61</td>\n",
       "      <td>A74</td>\n",
       "      <td>2</td>\n",
       "      <td>A93</td>\n",
       "      <td>A103</td>\n",
       "      <td>...</td>\n",
       "      <td>A122</td>\n",
       "      <td>45</td>\n",
       "      <td>A143</td>\n",
       "      <td>A153</td>\n",
       "      <td>1</td>\n",
       "      <td>A173</td>\n",
       "      <td>2</td>\n",
       "      <td>A191</td>\n",
       "      <td>A201</td>\n",
       "      <td>1</td>\n",
       "    </tr>\n",
       "    <tr>\n",
       "      <th>4</th>\n",
       "      <td>A11</td>\n",
       "      <td>24</td>\n",
       "      <td>A33</td>\n",
       "      <td>A40</td>\n",
       "      <td>4870</td>\n",
       "      <td>A61</td>\n",
       "      <td>A73</td>\n",
       "      <td>3</td>\n",
       "      <td>A93</td>\n",
       "      <td>A101</td>\n",
       "      <td>...</td>\n",
       "      <td>A124</td>\n",
       "      <td>53</td>\n",
       "      <td>A143</td>\n",
       "      <td>A153</td>\n",
       "      <td>2</td>\n",
       "      <td>A173</td>\n",
       "      <td>2</td>\n",
       "      <td>A191</td>\n",
       "      <td>A201</td>\n",
       "      <td>0</td>\n",
       "    </tr>\n",
       "  </tbody>\n",
       "</table>\n",
       "<p>5 rows × 21 columns</p>\n",
       "</div>"
      ],
      "text/plain": [
       "  Status_of_existing_checking_account  Duration_in_month Credit_history  \\\n",
       "0                                 A11                  6            A34   \n",
       "1                                 A12                 48            A32   \n",
       "2                                 A14                 12            A34   \n",
       "3                                 A11                 42            A32   \n",
       "4                                 A11                 24            A33   \n",
       "\n",
       "  Purpose  Credit_amount Savings_account Present_employment_since  \\\n",
       "0     A43           1169             A65                      A75   \n",
       "1     A43           5951             A61                      A73   \n",
       "2     A46           2096             A61                      A74   \n",
       "3     A42           7882             A61                      A74   \n",
       "4     A40           4870             A61                      A73   \n",
       "\n",
       "   Installment_rate_in_percentage_of_disposable_income  \\\n",
       "0                                                  4     \n",
       "1                                                  2     \n",
       "2                                                  2     \n",
       "3                                                  2     \n",
       "4                                                  3     \n",
       "\n",
       "  Personal_status_and_sex guarantors  ...   Property Age  \\\n",
       "0                     A93       A101  ...       A121  67   \n",
       "1                     A92       A101  ...       A121  22   \n",
       "2                     A93       A101  ...       A121  49   \n",
       "3                     A93       A103  ...       A122  45   \n",
       "4                     A93       A101  ...       A124  53   \n",
       "\n",
       "   Other_installment_plans Housing Number_of_existing_credits_at_this_bank  \\\n",
       "0                     A143    A152                                       2   \n",
       "1                     A143    A152                                       1   \n",
       "2                     A143    A152                                       1   \n",
       "3                     A143    A153                                       1   \n",
       "4                     A143    A153                                       2   \n",
       "\n",
       "    Job Number_of_people_being_liable_to_provide_maintenance_for  Telephone  \\\n",
       "0  A173                                                  1             A192   \n",
       "1  A173                                                  1             A191   \n",
       "2  A172                                                  2             A191   \n",
       "3  A173                                                  2             A191   \n",
       "4  A173                                                  2             A191   \n",
       "\n",
       "  foreign_worker label  \n",
       "0           A201     1  \n",
       "1           A201     0  \n",
       "2           A201     1  \n",
       "3           A201     1  \n",
       "4           A201     0  \n",
       "\n",
       "[5 rows x 21 columns]"
      ]
     },
     "execution_count": 2,
     "metadata": {},
     "output_type": "execute_result"
    }
   ],
   "source": [
    "data = pd.read_excel('data_cn.xlsx')\n",
    "data.loc[data.label ==2,'label'] = 0\n",
    "data.head()"
   ]
  },
  {
   "cell_type": "markdown",
   "metadata": {},
   "source": [
    "## 数据转换为数值"
   ]
  },
  {
   "cell_type": "code",
   "execution_count": 3,
   "metadata": {
    "collapsed": false,
    "scrolled": false
   },
   "outputs": [
    {
     "data": {
      "text/html": [
       "<div>\n",
       "<style>\n",
       "    .dataframe thead tr:only-child th {\n",
       "        text-align: right;\n",
       "    }\n",
       "\n",
       "    .dataframe thead th {\n",
       "        text-align: left;\n",
       "    }\n",
       "\n",
       "    .dataframe tbody tr th {\n",
       "        vertical-align: top;\n",
       "    }\n",
       "</style>\n",
       "<table border=\"1\" class=\"dataframe\">\n",
       "  <thead>\n",
       "    <tr style=\"text-align: right;\">\n",
       "      <th></th>\n",
       "      <th>Status_of_existing_checking_account</th>\n",
       "      <th>Duration_in_month</th>\n",
       "      <th>Credit_history</th>\n",
       "      <th>Purpose</th>\n",
       "      <th>Credit_amount</th>\n",
       "      <th>Savings_account</th>\n",
       "      <th>Present_employment_since</th>\n",
       "      <th>Installment_rate_in_percentage_of_disposable_income</th>\n",
       "      <th>Personal_status_and_sex</th>\n",
       "      <th>guarantors</th>\n",
       "      <th>...</th>\n",
       "      <th>Property</th>\n",
       "      <th>Age</th>\n",
       "      <th>Other_installment_plans</th>\n",
       "      <th>Housing</th>\n",
       "      <th>Number_of_existing_credits_at_this_bank</th>\n",
       "      <th>Job</th>\n",
       "      <th>Number_of_people_being_liable_to_provide_maintenance_for</th>\n",
       "      <th>Telephone</th>\n",
       "      <th>foreign_worker</th>\n",
       "      <th>label</th>\n",
       "    </tr>\n",
       "  </thead>\n",
       "  <tbody>\n",
       "    <tr>\n",
       "      <th>0</th>\n",
       "      <td>100</td>\n",
       "      <td>6</td>\n",
       "      <td>0</td>\n",
       "      <td>A43</td>\n",
       "      <td>1169</td>\n",
       "      <td>1</td>\n",
       "      <td>10</td>\n",
       "      <td>4</td>\n",
       "      <td>A93</td>\n",
       "      <td>0</td>\n",
       "      <td>...</td>\n",
       "      <td>4</td>\n",
       "      <td>67</td>\n",
       "      <td>A143</td>\n",
       "      <td>2</td>\n",
       "      <td>2</td>\n",
       "      <td>3</td>\n",
       "      <td>1</td>\n",
       "      <td>1</td>\n",
       "      <td>1</td>\n",
       "      <td>1</td>\n",
       "    </tr>\n",
       "    <tr>\n",
       "      <th>1</th>\n",
       "      <td>200</td>\n",
       "      <td>48</td>\n",
       "      <td>2</td>\n",
       "      <td>A43</td>\n",
       "      <td>5951</td>\n",
       "      <td>100</td>\n",
       "      <td>4</td>\n",
       "      <td>2</td>\n",
       "      <td>A92</td>\n",
       "      <td>0</td>\n",
       "      <td>...</td>\n",
       "      <td>4</td>\n",
       "      <td>22</td>\n",
       "      <td>A143</td>\n",
       "      <td>2</td>\n",
       "      <td>1</td>\n",
       "      <td>3</td>\n",
       "      <td>1</td>\n",
       "      <td>0</td>\n",
       "      <td>1</td>\n",
       "      <td>0</td>\n",
       "    </tr>\n",
       "    <tr>\n",
       "      <th>2</th>\n",
       "      <td>0</td>\n",
       "      <td>12</td>\n",
       "      <td>0</td>\n",
       "      <td>A46</td>\n",
       "      <td>2096</td>\n",
       "      <td>100</td>\n",
       "      <td>7</td>\n",
       "      <td>2</td>\n",
       "      <td>A93</td>\n",
       "      <td>0</td>\n",
       "      <td>...</td>\n",
       "      <td>4</td>\n",
       "      <td>49</td>\n",
       "      <td>A143</td>\n",
       "      <td>2</td>\n",
       "      <td>1</td>\n",
       "      <td>2</td>\n",
       "      <td>2</td>\n",
       "      <td>0</td>\n",
       "      <td>1</td>\n",
       "      <td>1</td>\n",
       "    </tr>\n",
       "    <tr>\n",
       "      <th>3</th>\n",
       "      <td>100</td>\n",
       "      <td>42</td>\n",
       "      <td>2</td>\n",
       "      <td>A42</td>\n",
       "      <td>7882</td>\n",
       "      <td>100</td>\n",
       "      <td>7</td>\n",
       "      <td>2</td>\n",
       "      <td>A93</td>\n",
       "      <td>2</td>\n",
       "      <td>...</td>\n",
       "      <td>3</td>\n",
       "      <td>45</td>\n",
       "      <td>A143</td>\n",
       "      <td>0</td>\n",
       "      <td>1</td>\n",
       "      <td>3</td>\n",
       "      <td>2</td>\n",
       "      <td>0</td>\n",
       "      <td>1</td>\n",
       "      <td>1</td>\n",
       "    </tr>\n",
       "    <tr>\n",
       "      <th>4</th>\n",
       "      <td>100</td>\n",
       "      <td>24</td>\n",
       "      <td>1</td>\n",
       "      <td>A40</td>\n",
       "      <td>4870</td>\n",
       "      <td>100</td>\n",
       "      <td>4</td>\n",
       "      <td>3</td>\n",
       "      <td>A93</td>\n",
       "      <td>0</td>\n",
       "      <td>...</td>\n",
       "      <td>1</td>\n",
       "      <td>53</td>\n",
       "      <td>A143</td>\n",
       "      <td>0</td>\n",
       "      <td>2</td>\n",
       "      <td>3</td>\n",
       "      <td>2</td>\n",
       "      <td>0</td>\n",
       "      <td>1</td>\n",
       "      <td>0</td>\n",
       "    </tr>\n",
       "  </tbody>\n",
       "</table>\n",
       "<p>5 rows × 21 columns</p>\n",
       "</div>"
      ],
      "text/plain": [
       "   Status_of_existing_checking_account  Duration_in_month  Credit_history  \\\n",
       "0                                  100                  6               0   \n",
       "1                                  200                 48               2   \n",
       "2                                    0                 12               0   \n",
       "3                                  100                 42               2   \n",
       "4                                  100                 24               1   \n",
       "\n",
       "  Purpose  Credit_amount  Savings_account  Present_employment_since  \\\n",
       "0     A43           1169                1                        10   \n",
       "1     A43           5951              100                         4   \n",
       "2     A46           2096              100                         7   \n",
       "3     A42           7882              100                         7   \n",
       "4     A40           4870              100                         4   \n",
       "\n",
       "   Installment_rate_in_percentage_of_disposable_income  \\\n",
       "0                                                  4     \n",
       "1                                                  2     \n",
       "2                                                  2     \n",
       "3                                                  2     \n",
       "4                                                  3     \n",
       "\n",
       "  Personal_status_and_sex  guarantors  ...    Property  Age  \\\n",
       "0                     A93           0  ...           4   67   \n",
       "1                     A92           0  ...           4   22   \n",
       "2                     A93           0  ...           4   49   \n",
       "3                     A93           2  ...           3   45   \n",
       "4                     A93           0  ...           1   53   \n",
       "\n",
       "   Other_installment_plans Housing  Number_of_existing_credits_at_this_bank  \\\n",
       "0                     A143       2                                        2   \n",
       "1                     A143       2                                        1   \n",
       "2                     A143       2                                        1   \n",
       "3                     A143       0                                        1   \n",
       "4                     A143       0                                        2   \n",
       "\n",
       "   Job  Number_of_people_being_liable_to_provide_maintenance_for  Telephone  \\\n",
       "0    3                                                  1                 1   \n",
       "1    3                                                  1                 0   \n",
       "2    2                                                  2                 0   \n",
       "3    3                                                  2                 0   \n",
       "4    3                                                  2                 0   \n",
       "\n",
       "   foreign_worker  label  \n",
       "0               1      1  \n",
       "1               1      0  \n",
       "2               1      1  \n",
       "3               1      1  \n",
       "4               1      0  \n",
       "\n",
       "[5 rows x 21 columns]"
      ]
     },
     "execution_count": 3,
     "metadata": {},
     "output_type": "execute_result"
    }
   ],
   "source": [
    "data_tranfer = data.copy()\n",
    "for column, map_value in maping.items():\n",
    "    data_tranfer[column] = data[column].map(map_value)\n",
    "data_tranfer.head()"
   ]
  },
  {
   "cell_type": "code",
   "execution_count": 4,
   "metadata": {
    "collapsed": false
   },
   "outputs": [],
   "source": [
    "index_of_unorder = [i for i, column in enumerate(data_tranfer.columns) if data_tranfer[column].dtype == 'object']"
   ]
  },
  {
   "cell_type": "code",
   "execution_count": 5,
   "metadata": {
    "collapsed": false
   },
   "outputs": [
    {
     "data": {
      "text/html": [
       "<div>\n",
       "<style>\n",
       "    .dataframe thead tr:only-child th {\n",
       "        text-align: right;\n",
       "    }\n",
       "\n",
       "    .dataframe thead th {\n",
       "        text-align: left;\n",
       "    }\n",
       "\n",
       "    .dataframe tbody tr th {\n",
       "        vertical-align: top;\n",
       "    }\n",
       "</style>\n",
       "<table border=\"1\" class=\"dataframe\">\n",
       "  <thead>\n",
       "    <tr style=\"text-align: right;\">\n",
       "      <th></th>\n",
       "      <th>Status_of_existing_checking_account</th>\n",
       "      <th>Duration_in_month</th>\n",
       "      <th>Credit_history</th>\n",
       "      <th>Purpose</th>\n",
       "      <th>Credit_amount</th>\n",
       "      <th>Savings_account</th>\n",
       "      <th>Present_employment_since</th>\n",
       "      <th>Installment_rate_in_percentage_of_disposable_income</th>\n",
       "      <th>Personal_status_and_sex</th>\n",
       "      <th>guarantors</th>\n",
       "      <th>...</th>\n",
       "      <th>Property</th>\n",
       "      <th>Age</th>\n",
       "      <th>Other_installment_plans</th>\n",
       "      <th>Housing</th>\n",
       "      <th>Number_of_existing_credits_at_this_bank</th>\n",
       "      <th>Job</th>\n",
       "      <th>Number_of_people_being_liable_to_provide_maintenance_for</th>\n",
       "      <th>Telephone</th>\n",
       "      <th>foreign_worker</th>\n",
       "      <th>label</th>\n",
       "    </tr>\n",
       "  </thead>\n",
       "  <tbody>\n",
       "    <tr>\n",
       "      <th>0</th>\n",
       "      <td>100</td>\n",
       "      <td>6</td>\n",
       "      <td>0</td>\n",
       "      <td>4</td>\n",
       "      <td>1169</td>\n",
       "      <td>1</td>\n",
       "      <td>10</td>\n",
       "      <td>4</td>\n",
       "      <td>2</td>\n",
       "      <td>0</td>\n",
       "      <td>...</td>\n",
       "      <td>4</td>\n",
       "      <td>67</td>\n",
       "      <td>2</td>\n",
       "      <td>2</td>\n",
       "      <td>2</td>\n",
       "      <td>3</td>\n",
       "      <td>1</td>\n",
       "      <td>1</td>\n",
       "      <td>1</td>\n",
       "      <td>1</td>\n",
       "    </tr>\n",
       "    <tr>\n",
       "      <th>1</th>\n",
       "      <td>200</td>\n",
       "      <td>48</td>\n",
       "      <td>2</td>\n",
       "      <td>4</td>\n",
       "      <td>5951</td>\n",
       "      <td>100</td>\n",
       "      <td>4</td>\n",
       "      <td>2</td>\n",
       "      <td>1</td>\n",
       "      <td>0</td>\n",
       "      <td>...</td>\n",
       "      <td>4</td>\n",
       "      <td>22</td>\n",
       "      <td>2</td>\n",
       "      <td>2</td>\n",
       "      <td>1</td>\n",
       "      <td>3</td>\n",
       "      <td>1</td>\n",
       "      <td>0</td>\n",
       "      <td>1</td>\n",
       "      <td>0</td>\n",
       "    </tr>\n",
       "    <tr>\n",
       "      <th>2</th>\n",
       "      <td>0</td>\n",
       "      <td>12</td>\n",
       "      <td>0</td>\n",
       "      <td>7</td>\n",
       "      <td>2096</td>\n",
       "      <td>100</td>\n",
       "      <td>7</td>\n",
       "      <td>2</td>\n",
       "      <td>2</td>\n",
       "      <td>0</td>\n",
       "      <td>...</td>\n",
       "      <td>4</td>\n",
       "      <td>49</td>\n",
       "      <td>2</td>\n",
       "      <td>2</td>\n",
       "      <td>1</td>\n",
       "      <td>2</td>\n",
       "      <td>2</td>\n",
       "      <td>0</td>\n",
       "      <td>1</td>\n",
       "      <td>1</td>\n",
       "    </tr>\n",
       "    <tr>\n",
       "      <th>3</th>\n",
       "      <td>100</td>\n",
       "      <td>42</td>\n",
       "      <td>2</td>\n",
       "      <td>3</td>\n",
       "      <td>7882</td>\n",
       "      <td>100</td>\n",
       "      <td>7</td>\n",
       "      <td>2</td>\n",
       "      <td>2</td>\n",
       "      <td>2</td>\n",
       "      <td>...</td>\n",
       "      <td>3</td>\n",
       "      <td>45</td>\n",
       "      <td>2</td>\n",
       "      <td>0</td>\n",
       "      <td>1</td>\n",
       "      <td>3</td>\n",
       "      <td>2</td>\n",
       "      <td>0</td>\n",
       "      <td>1</td>\n",
       "      <td>1</td>\n",
       "    </tr>\n",
       "    <tr>\n",
       "      <th>4</th>\n",
       "      <td>100</td>\n",
       "      <td>24</td>\n",
       "      <td>1</td>\n",
       "      <td>0</td>\n",
       "      <td>4870</td>\n",
       "      <td>100</td>\n",
       "      <td>4</td>\n",
       "      <td>3</td>\n",
       "      <td>2</td>\n",
       "      <td>0</td>\n",
       "      <td>...</td>\n",
       "      <td>1</td>\n",
       "      <td>53</td>\n",
       "      <td>2</td>\n",
       "      <td>0</td>\n",
       "      <td>2</td>\n",
       "      <td>3</td>\n",
       "      <td>2</td>\n",
       "      <td>0</td>\n",
       "      <td>1</td>\n",
       "      <td>0</td>\n",
       "    </tr>\n",
       "  </tbody>\n",
       "</table>\n",
       "<p>5 rows × 21 columns</p>\n",
       "</div>"
      ],
      "text/plain": [
       "   Status_of_existing_checking_account  Duration_in_month  Credit_history  \\\n",
       "0                                  100                  6               0   \n",
       "1                                  200                 48               2   \n",
       "2                                    0                 12               0   \n",
       "3                                  100                 42               2   \n",
       "4                                  100                 24               1   \n",
       "\n",
       "   Purpose  Credit_amount  Savings_account  Present_employment_since  \\\n",
       "0        4           1169                1                        10   \n",
       "1        4           5951              100                         4   \n",
       "2        7           2096              100                         7   \n",
       "3        3           7882              100                         7   \n",
       "4        0           4870              100                         4   \n",
       "\n",
       "   Installment_rate_in_percentage_of_disposable_income  \\\n",
       "0                                                  4     \n",
       "1                                                  2     \n",
       "2                                                  2     \n",
       "3                                                  2     \n",
       "4                                                  3     \n",
       "\n",
       "   Personal_status_and_sex  guarantors  ...    Property  Age  \\\n",
       "0                        2           0  ...           4   67   \n",
       "1                        1           0  ...           4   22   \n",
       "2                        2           0  ...           4   49   \n",
       "3                        2           2  ...           3   45   \n",
       "4                        2           0  ...           1   53   \n",
       "\n",
       "   Other_installment_plans  Housing  Number_of_existing_credits_at_this_bank  \\\n",
       "0                        2        2                                        2   \n",
       "1                        2        2                                        1   \n",
       "2                        2        2                                        1   \n",
       "3                        2        0                                        1   \n",
       "4                        2        0                                        2   \n",
       "\n",
       "   Job  Number_of_people_being_liable_to_provide_maintenance_for  Telephone  \\\n",
       "0    3                                                  1                 1   \n",
       "1    3                                                  1                 0   \n",
       "2    2                                                  2                 0   \n",
       "3    3                                                  2                 0   \n",
       "4    3                                                  2                 0   \n",
       "\n",
       "   foreign_worker  label  \n",
       "0               1      1  \n",
       "1               1      0  \n",
       "2               1      1  \n",
       "3               1      1  \n",
       "4               1      0  \n",
       "\n",
       "[5 rows x 21 columns]"
      ]
     },
     "execution_count": 5,
     "metadata": {},
     "output_type": "execute_result"
    }
   ],
   "source": [
    "for column in data_tranfer.select_dtypes(include=['object']).columns:\n",
    "    data_tranfer[column] = np.unique(data_tranfer[column], return_inverse=True)[1]\n",
    "data_tranfer.head()"
   ]
  },
  {
   "cell_type": "markdown",
   "metadata": {},
   "source": [
    "## 数据划分"
   ]
  },
  {
   "cell_type": "code",
   "execution_count": 6,
   "metadata": {
    "collapsed": false
   },
   "outputs": [],
   "source": [
    "from sklearn.model_selection import train_test_split\n",
    "X_train, X_test, y_train, y_test = train_test_split(data_tranfer.drop('label',axis=1).values, data_tranfer['label'].values)"
   ]
  },
  {
   "cell_type": "markdown",
   "metadata": {},
   "source": [
    "### one-hot"
   ]
  },
  {
   "cell_type": "code",
   "execution_count": 7,
   "metadata": {
    "collapsed": false
   },
   "outputs": [],
   "source": [
    "from sklearn.preprocessing import OneHotEncoder\n",
    "onehot = OneHotEncoder(categorical_features=index_of_unorder)\n",
    "X_train = onehot.fit_transform(X_train, y_train)"
   ]
  },
  {
   "cell_type": "markdown",
   "metadata": {},
   "source": [
    "### z-score 规范化"
   ]
  },
  {
   "cell_type": "code",
   "execution_count": 8,
   "metadata": {
    "collapsed": false
   },
   "outputs": [],
   "source": [
    "from sklearn.preprocessing import StandardScaler\n",
    "sc = StandardScaler(with_mean=False) # 初始化缩放器\n",
    "X_train_scale = sc.fit_transform(X_train, y_train).toarray()"
   ]
  },
  {
   "cell_type": "markdown",
   "metadata": {},
   "source": [
    "## 递归特征消除 (Recursive Feature Elimination)"
   ]
  },
  {
   "cell_type": "code",
   "execution_count": 9,
   "metadata": {
    "collapsed": false,
    "scrolled": true
   },
   "outputs": [],
   "source": [
    "from sklearn.feature_selection import RFE\n",
    "from sklearn.linear_model import LogisticRegression\n",
    "# 建立逻辑回归分类器\n",
    "model = LogisticRegression()\n",
    "# 建立递归特征消除筛选器\n",
    "rfe = RFE(model, 10) #通过递归选择特征，选择10个特征\n",
    "X_train_rfe = rfe.fit_transform(X_train_scale, y_train)"
   ]
  },
  {
   "cell_type": "markdown",
   "metadata": {},
   "source": [
    "## 相关性分析"
   ]
  },
  {
   "cell_type": "code",
   "execution_count": 18,
   "metadata": {
    "collapsed": false
   },
   "outputs": [],
   "source": [
    "#colormap = plt.cm.viridis\n",
    "#plt.figure(figsize=(12,12))\n",
    "#plt.title('Pearson Correlation of Features', y=1.05, size=15)\n",
    "#sns.heatmap(np.corrcoef(X_train_rfe),linewidths=0.1,vmax=1.0, square=True, cmap=colormap, linecolor='white', annot=True)"
   ]
  },
  {
   "cell_type": "markdown",
   "metadata": {},
   "source": [
    "## Embedded"
   ]
  },
  {
   "cell_type": "code",
   "execution_count": 11,
   "metadata": {
    "collapsed": false
   },
   "outputs": [
    {
     "data": {
      "text/plain": [
       "DecisionTreeClassifier(class_weight=None, criterion='gini', max_depth=None,\n",
       "            max_features=None, max_leaf_nodes=None,\n",
       "            min_impurity_decrease=0.0, min_impurity_split=None,\n",
       "            min_samples_leaf=1, min_samples_split=2,\n",
       "            min_weight_fraction_leaf=0.0, presort=False, random_state=None,\n",
       "            splitter='best')"
      ]
     },
     "execution_count": 11,
     "metadata": {},
     "output_type": "execute_result"
    }
   ],
   "source": [
    "from sklearn.ensemble import RandomForestClassifier\n",
    "clf=RandomForestClassifier(n_estimators=10,random_state=123)#构建分类随机森林分类器\n",
    "clf.fit(X_train_rfe, y_train) #对自变量和因变量进行拟合\n",
    "clf.base_estimator"
   ]
  },
  {
   "cell_type": "markdown",
   "metadata": {},
   "source": [
    "## 过采样"
   ]
  },
  {
   "cell_type": "code",
   "execution_count": 12,
   "metadata": {
    "collapsed": false
   },
   "outputs": [],
   "source": [
    "from imblearn.over_sampling import SMOTE # 导入SMOTE算法模块\n",
    "# 处理不平衡数据\n",
    "sm = SMOTE(random_state=42)    # 处理过采样的方法\n",
    "X_resample, y_resample = sm.fit_sample(X_train_rfe, y_train)"
   ]
  },
  {
   "cell_type": "code",
   "execution_count": 13,
   "metadata": {
    "collapsed": false,
    "scrolled": true
   },
   "outputs": [
    {
     "data": {
      "text/plain": [
       "LogisticRegression(C=1.0, class_weight=None, dual=False, fit_intercept=True,\n",
       "          intercept_scaling=1, max_iter=100, multi_class='ovr', n_jobs=1,\n",
       "          penalty='l2', random_state=None, solver='liblinear', tol=0.0001,\n",
       "          verbose=0, warm_start=False)"
      ]
     },
     "execution_count": 13,
     "metadata": {},
     "output_type": "execute_result"
    }
   ],
   "source": [
    "from sklearn.linear_model import LogisticRegression\n",
    "clf1 = LogisticRegression() # 构建逻辑回归分类器\n",
    "clf1.fit(X_resample, y_resample)"
   ]
  },
  {
   "cell_type": "code",
   "execution_count": 14,
   "metadata": {
    "collapsed": false
   },
   "outputs": [],
   "source": [
    "predicted1 = clf.predict(X_resample) # 通过分类器产生预测结果"
   ]
  },
  {
   "cell_type": "code",
   "execution_count": 16,
   "metadata": {
    "collapsed": false
   },
   "outputs": [
    {
     "data": {
      "text/plain": [
       "array([[437,  90],\n",
       "       [ 21, 506]], dtype=int64)"
      ]
     },
     "execution_count": 16,
     "metadata": {},
     "output_type": "execute_result"
    }
   ],
   "source": [
    "from sklearn.metrics import confusion_matrix\n",
    "m = confusion_matrix(y_resample, predicted1) \n",
    "m"
   ]
  },
  {
   "cell_type": "code",
   "execution_count": 17,
   "metadata": {
    "collapsed": false
   },
   "outputs": [
    {
     "name": "stdout",
     "output_type": "stream",
     "text": [
      "Area under the ROC curve : 0.894687\n"
     ]
    }
   ],
   "source": [
    "from sklearn.metrics import roc_auc_score\n",
    "roc_auc1 = roc_auc_score(y_resample, predicted1)\n",
    "print(\"Area under the ROC curve : %f\" % roc_auc1)"
   ]
  },
  {
   "cell_type": "code",
   "execution_count": 19,
   "metadata": {
    "collapsed": true
   },
   "outputs": [],
   "source": [
    "X_test_transfer = onehot.transform(X_test)\n",
    "X_test_transfer = sc.transform(X_test_transfer)\n",
    "X_test_transfer = rfe.transform(X_test_transfer)"
   ]
  },
  {
   "cell_type": "code",
   "execution_count": 20,
   "metadata": {
    "collapsed": false
   },
   "outputs": [
    {
     "name": "stdout",
     "output_type": "stream",
     "text": [
      "Area under the ROC curve : 0.575557\n"
     ]
    }
   ],
   "source": [
    "from sklearn.metrics import roc_auc_score\n",
    "y_predict = clf.predict(X_test_transfer)\n",
    "roc_auc2 = roc_auc_score(y_test, y_predict)\n",
    "print(\"Area under the ROC curve : %f\" % roc_auc2)"
   ]
  },
  {
   "cell_type": "code",
   "execution_count": 25,
   "metadata": {
    "collapsed": false,
    "scrolled": true
   },
   "outputs": [
    {
     "data": {
      "text/plain": [
       "0.63200000000000001"
      ]
     },
     "execution_count": 25,
     "metadata": {},
     "output_type": "execute_result"
    }
   ],
   "source": [
    "mt.accuracy_score(y_test, y_predict)"
   ]
  },
  {
   "cell_type": "markdown",
   "metadata": {},
   "source": [
    "## cross-validation+grid search"
   ]
  },
  {
   "cell_type": "markdown",
   "metadata": {},
   "source": [
    "### 数据划分"
   ]
  },
  {
   "cell_type": "markdown",
   "metadata": {},
   "source": [
    "## 使用最邻近算法"
   ]
  },
  {
   "cell_type": "markdown",
   "metadata": {},
   "source": [
    "### 网格搜索"
   ]
  },
  {
   "cell_type": "code",
   "execution_count": 28,
   "metadata": {
    "collapsed": true
   },
   "outputs": [],
   "source": [
    "from sklearn.metrics import confusion_matrix\n",
    "from sklearn.metrics import roc_auc_score\n",
    "from sklearn.metrics import classification_report\n",
    "from sklearn.metrics import confusion_matrix\n",
    "from plot_comfusion_matrix import *"
   ]
  },
  {
   "cell_type": "code",
   "execution_count": 29,
   "metadata": {
    "collapsed": false
   },
   "outputs": [],
   "source": [
    "#from sklearn.cross_validation import train_test_split\n",
    "#X_train, X_test, y_train, y_test = train_test_split(X, y, test_size = 0.3, random_state = 0) # random_state = 0 每次切分的数据都一样"
   ]
  },
  {
   "cell_type": "code",
   "execution_count": 27,
   "metadata": {
    "collapsed": true
   },
   "outputs": [],
   "source": [
    "X_train = X_resample\n",
    "y_train = y_resample\n",
    "X_test = X_test_transfer "
   ]
  },
  {
   "cell_type": "code",
   "execution_count": 28,
   "metadata": {
    "collapsed": false
   },
   "outputs": [
    {
     "name": "stdout",
     "output_type": "stream",
     "text": [
      "knn_best:0.776091\n"
     ]
    }
   ],
   "source": [
    "from sklearn.model_selection import RandomizedSearchCV\n",
    "from sklearn.model_selection import GridSearchCV\n",
    "from sklearn.neighbors import KNeighborsClassifier\n",
    "\n",
    "knn = KNeighborsClassifier()\n",
    "k_range = list(range(1,20))\n",
    "weight_options = ['uniform', 'distance']\n",
    "kernel = ['linear', 'poly', 'rbf', 'sigmoid', 'precomputed']\n",
    "algorithm = ['auto', 'ball_tree', 'kd_tree', 'brute']\n",
    "\n",
    "param_knn = dict(n_neighbors=k_range, weights=weight_options, algorithm=algorithm)\n",
    "#rand_knn = GridSearchCV(knn, param_knn, cv=10, scoring='accuracy')\n",
    "rand_knn = RandomizedSearchCV(knn, param_knn, cv=10, scoring='accuracy',n_iter=10, random_state=5)\n",
    "rand_knn.fit(X_train, y_train)\n",
    "print(\"knn_best:%f\" %rand_knn.best_score_)"
   ]
  },
  {
   "cell_type": "code",
   "execution_count": 31,
   "metadata": {
    "collapsed": false
   },
   "outputs": [
    {
     "name": "stdout",
     "output_type": "stream",
     "text": [
      "accuracy: 0.6\n",
      "             precision    recall  f1-score   support\n",
      "\n",
      "          0       0.37      0.44      0.40        77\n",
      "          1       0.73      0.67      0.70       173\n",
      "\n",
      "avg / total       0.62      0.60      0.61       250\n",
      "\n"
     ]
    }
   ],
   "source": [
    "from sklearn.metrics import accuracy_score\n",
    "from sklearn.metrics import classification_report\n",
    "y_knn_pred = rand_knn.predict(X_test)\n",
    "print('accuracy:', accuracy_score(y_test, y_knn_pred))\n",
    "print(classification_report(y_test, y_knn_pred))"
   ]
  },
  {
   "cell_type": "code",
   "execution_count": 32,
   "metadata": {
    "collapsed": false
   },
   "outputs": [
    {
     "name": "stdout",
     "output_type": "stream",
     "text": [
      "Area under the ROC curve : 0.556039\n"
     ]
    }
   ],
   "source": [
    "roc_auc1 = roc_auc_score(y_test, y_knn_pred)\n",
    "print(\"Area under the ROC curve : %f\" % roc_auc1)"
   ]
  },
  {
   "cell_type": "code",
   "execution_count": 36,
   "metadata": {
    "collapsed": false
   },
   "outputs": [
    {
     "name": "stdout",
     "output_type": "stream",
     "text": [
      "Normalized confusion matrix\n",
      "[[ 0.44155844  0.55844156]\n",
      " [ 0.32947977  0.67052023]]\n"
     ]
    },
    {
     "data": {
      "image/png": "[encoded data removed]",
      "text/plain": [
       "<matplotlib.figure.Figure at 0x24df2bd28d0>"
      ]
     },
     "metadata": {},
     "output_type": "display_data"
    }
   ],
   "source": [
    "from sklearn.metrics import confusion_matrix\n",
    "cm = confusion_matrix(y_test, y_knn_pred)    \n",
    "classs = ['good', 'bad']\n",
    "plot_confusion_matrix(cm, classes=classs,normalize=True, title='Confusion matrix of best KNN')"
   ]
  },
  {
   "cell_type": "code",
   "execution_count": null,
   "metadata": {
    "collapsed": true
   },
   "outputs": [],
   "source": []
  }
 ],
 "metadata": {
  "kernelspec": {
   "display_name": "Python [conda root]",
   "language": "python",
   "name": "conda-root-py"
  },
  "language_info": {
   "codemirror_mode": {
    "name": "ipython",
    "version": 3
   },
   "file_extension": ".py",
   "mimetype": "text/x-python",
   "name": "python",
   "nbconvert_exporter": "python",
   "pygments_lexer": "ipython3",
   "version": "3.6.2"
  },
  "toc": {
   "nav_menu": {},
   "number_sections": true,
   "sideBar": true,
   "skip_h1_title": false,
   "toc_cell": false,
   "toc_position": {},
   "toc_section_display": "block",
   "toc_window_display": false
  },
  "varInspector": {
   "cols": {
    "lenName": 16,
    "lenType": 16,
    "lenVar": 40
   },
   "kernels_config": {
    "python": {
     "delete_cmd_postfix": "",
     "delete_cmd_prefix": "del ",
     "library": "var_list.py",
     "varRefreshCmd": "print(var_dic_list())"
    },
    "r": {
     "delete_cmd_postfix": ") ",
     "delete_cmd_prefix": "rm(",
     "library": "var_list.r",
     "varRefreshCmd": "cat(var_dic_list()) "
    }
   },
   "types_to_exclude": [
    "module",
    "function",
    "builtin_function_or_method",
    "instance",
    "_Feature"
   ],
   "window_display": false
  }
 },
 "nbformat": 4,
 "nbformat_minor": 2
}
