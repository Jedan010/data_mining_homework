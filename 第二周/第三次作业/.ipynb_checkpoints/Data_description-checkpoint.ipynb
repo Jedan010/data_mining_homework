{
 "cells": [
  {
   "cell_type": "markdown",
   "metadata": {},
   "source": [
    "## 1. 数据描述"
   ]
  },
  {
   "cell_type": "code",
   "execution_count": 1,
   "metadata": {
    "collapsed": true
   },
   "outputs": [],
   "source": [
    "import pandas as pd\n",
    "import scipy.stats as ss\n"
   ]
  },
  {
   "cell_type": "code",
   "execution_count": 16,
   "metadata": {
    "collapsed": false
   },
   "outputs": [
    {
     "data": {
      "text/html": [
       "<div>\n",
       "<table border=\"1\" class=\"dataframe\">\n",
       "  <thead>\n",
       "    <tr style=\"text-align: right;\">\n",
       "      <th></th>\n",
       "      <th>Salary income</th>\n",
       "      <th>Household income</th>\n",
       "      <th>Property income</th>\n",
       "      <th>Transfer income</th>\n",
       "    </tr>\n",
       "    <tr>\n",
       "      <th>No</th>\n",
       "      <th></th>\n",
       "      <th></th>\n",
       "      <th></th>\n",
       "      <th></th>\n",
       "    </tr>\n",
       "  </thead>\n",
       "  <tbody>\n",
       "    <tr>\n",
       "      <th>1</th>\n",
       "      <td>4524.25</td>\n",
       "      <td>1778.33</td>\n",
       "      <td>588.04</td>\n",
       "      <td>455.64</td>\n",
       "    </tr>\n",
       "    <tr>\n",
       "      <th>2</th>\n",
       "      <td>2720.85</td>\n",
       "      <td>2626.46</td>\n",
       "      <td>152.88</td>\n",
       "      <td>79.64</td>\n",
       "    </tr>\n",
       "    <tr>\n",
       "      <th>3</th>\n",
       "      <td>1293.50</td>\n",
       "      <td>1988.58</td>\n",
       "      <td>93.74</td>\n",
       "      <td>105.81</td>\n",
       "    </tr>\n",
       "    <tr>\n",
       "      <th>4</th>\n",
       "      <td>1177.94</td>\n",
       "      <td>1563.52</td>\n",
       "      <td>62.70</td>\n",
       "      <td>86.49</td>\n",
       "    </tr>\n",
       "    <tr>\n",
       "      <th>5</th>\n",
       "      <td>504.46</td>\n",
       "      <td>2223.26</td>\n",
       "      <td>73.05</td>\n",
       "      <td>188.10</td>\n",
       "    </tr>\n",
       "  </tbody>\n",
       "</table>\n",
       "</div>"
      ],
      "text/plain": [
       "    Salary income  Household income  Property income  Transfer income\n",
       "No                                                                   \n",
       "1         4524.25           1778.33           588.04           455.64\n",
       "2         2720.85           2626.46           152.88            79.64\n",
       "3         1293.50           1988.58            93.74           105.81\n",
       "4         1177.94           1563.52            62.70            86.49\n",
       "5          504.46           2223.26            73.05           188.10"
      ]
     },
     "execution_count": 16,
     "metadata": {},
     "output_type": "execute_result"
    }
   ],
   "source": [
    "df = pd.read_excel('data.xlsx', index_col=0)\n",
    "data = df.drop(df.columns[0], axis=1)\n",
    "columns = data.columns\n",
    "\n",
    "data.head()"
   ]
  },
  {
   "cell_type": "markdown",
   "metadata": {},
   "source": [
    "### 统计数据基本情况\n",
    "- 总数\n",
    "- 均值\n",
    "- 标准差\n",
    "- 最小值\n",
    "- 4分位数\n",
    "- 最大值"
   ]
  },
  {
   "cell_type": "code",
   "execution_count": 15,
   "metadata": {
    "collapsed": false
   },
   "outputs": [
    {
     "data": {
      "text/html": [
       "<div>\n",
       "<table border=\"1\" class=\"dataframe\">\n",
       "  <thead>\n",
       "    <tr style=\"text-align: right;\">\n",
       "      <th></th>\n",
       "      <th>Salary income</th>\n",
       "      <th>Household income</th>\n",
       "      <th>Property income</th>\n",
       "      <th>Transfer income</th>\n",
       "    </tr>\n",
       "  </thead>\n",
       "  <tbody>\n",
       "    <tr>\n",
       "      <th>count</th>\n",
       "      <td>31.000000</td>\n",
       "      <td>31.000000</td>\n",
       "      <td>31.000000</td>\n",
       "      <td>31.000000</td>\n",
       "    </tr>\n",
       "    <tr>\n",
       "      <th>mean</th>\n",
       "      <td>1394.466452</td>\n",
       "      <td>1822.891613</td>\n",
       "      <td>115.492581</td>\n",
       "      <td>178.723548</td>\n",
       "    </tr>\n",
       "    <tr>\n",
       "      <th>std</th>\n",
       "      <td>1313.328388</td>\n",
       "      <td>484.057977</td>\n",
       "      <td>128.721523</td>\n",
       "      <td>154.307114</td>\n",
       "    </tr>\n",
       "    <tr>\n",
       "      <th>min</th>\n",
       "      <td>195.510000</td>\n",
       "      <td>774.600000</td>\n",
       "      <td>16.810000</td>\n",
       "      <td>52.660000</td>\n",
       "    </tr>\n",
       "    <tr>\n",
       "      <th>25%</th>\n",
       "      <td>574.230000</td>\n",
       "      <td>1523.245000</td>\n",
       "      <td>38.720000</td>\n",
       "      <td>98.260000</td>\n",
       "    </tr>\n",
       "    <tr>\n",
       "      <th>50%</th>\n",
       "      <td>954.890000</td>\n",
       "      <td>1778.330000</td>\n",
       "      <td>62.700000</td>\n",
       "      <td>129.830000</td>\n",
       "    </tr>\n",
       "    <tr>\n",
       "      <th>75%</th>\n",
       "      <td>1365.535000</td>\n",
       "      <td>2193.375000</td>\n",
       "      <td>149.395000</td>\n",
       "      <td>198.760000</td>\n",
       "    </tr>\n",
       "    <tr>\n",
       "      <th>max</th>\n",
       "      <td>6159.700000</td>\n",
       "      <td>2789.400000</td>\n",
       "      <td>588.040000</td>\n",
       "      <td>855.950000</td>\n",
       "    </tr>\n",
       "  </tbody>\n",
       "</table>\n",
       "</div>"
      ],
      "text/plain": [
       "       Salary income  Household income  Property income  Transfer income\n",
       "count      31.000000         31.000000        31.000000        31.000000\n",
       "mean     1394.466452       1822.891613       115.492581       178.723548\n",
       "std      1313.328388        484.057977       128.721523       154.307114\n",
       "min       195.510000        774.600000        16.810000        52.660000\n",
       "25%       574.230000       1523.245000        38.720000        98.260000\n",
       "50%       954.890000       1778.330000        62.700000       129.830000\n",
       "75%      1365.535000       2193.375000       149.395000       198.760000\n",
       "max      6159.700000       2789.400000       588.040000       855.950000"
      ]
     },
     "execution_count": 15,
     "metadata": {},
     "output_type": "execute_result"
    }
   ],
   "source": [
    "data.describe()"
   ]
  },
  {
   "cell_type": "markdown",
   "metadata": {},
   "source": [
    "### 计算变异系数（偏差标准偏差与平均值的比值）"
   ]
  },
  {
   "cell_type": "code",
   "execution_count": 18,
   "metadata": {
    "collapsed": false
   },
   "outputs": [
    {
     "data": {
      "text/plain": [
       "array([ 0.92649919,  0.26122595,  1.09641978,  0.84934464])"
      ]
     },
     "execution_count": 18,
     "metadata": {},
     "output_type": "execute_result"
    }
   ],
   "source": [
    "ss.variation(data)"
   ]
  },
  {
   "cell_type": "markdown",
   "metadata": {},
   "source": [
    "### 计算偏度"
   ]
  },
  {
   "cell_type": "code",
   "execution_count": 20,
   "metadata": {
    "collapsed": false
   },
   "outputs": [
    {
     "data": {
      "text/plain": [
       "Salary income       2.242446\n",
       "Household income   -0.047204\n",
       "Property income     2.419086\n",
       "Transfer income     3.206948\n",
       "dtype: float64"
      ]
     },
     "execution_count": 20,
     "metadata": {},
     "output_type": "execute_result"
    }
   ],
   "source": [
    "data.skew()"
   ]
  },
  {
   "cell_type": "markdown",
   "metadata": {},
   "source": [
    "### 计算峰度"
   ]
  },
  {
   "cell_type": "code",
   "execution_count": 21,
   "metadata": {
    "collapsed": false
   },
   "outputs": [
    {
     "data": {
      "text/plain": [
       "Salary income        5.439312\n",
       "Household income    -0.546945\n",
       "Property income      6.348023\n",
       "Transfer income     12.388402\n",
       "dtype: float64"
      ]
     },
     "execution_count": 21,
     "metadata": {},
     "output_type": "execute_result"
    }
   ],
   "source": [
    "df.kurt()"
   ]
  },
  {
   "cell_type": "markdown",
   "metadata": {
    "collapsed": true
   },
   "source": [
    "## 2. 关于SPSS箱线图胡须位置\n",
    " > 从箱图延伸出的 T 形条称为内围或细线。这些条延伸至箱图高度的 1.5 倍，或者如果个案/行有一个在该范围内的值，则延伸至最小或最大值。 <cite>--SPSS官方教程[1]</cite>\n",
    "\n",
    "[1]:https://www.ibm.com/support/knowledgecenter/zh/SS3RA7_15.0.0/com.ibm.spss.modeler.help/graphboard_creating_examples_boxplot.htm\n",
    "\n",
    "\n",
    "所以spss的箱线图的胡须是从箱线图的顶部或底部向外延伸1.5倍的箱体长度。\n"
   ]
  },
  {
   "cell_type": "code",
   "execution_count": null,
   "metadata": {
    "collapsed": true
   },
   "outputs": [],
   "source": []
  }
 ],
 "metadata": {
  "kernelspec": {
   "display_name": "Python 3",
   "language": "python",
   "name": "python3"
  },
  "language_info": {
   "codemirror_mode": {
    "name": "ipython",
    "version": 3
   },
   "file_extension": ".py",
   "mimetype": "text/x-python",
   "name": "python",
   "nbconvert_exporter": "python",
   "pygments_lexer": "ipython3",
   "version": "3.6.2"
  }
 },
 "nbformat": 4,
 "nbformat_minor": 2
}
